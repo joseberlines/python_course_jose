{
 "cells": [
  {
   "cell_type": "markdown",
   "metadata": {},
   "source": [
    "## LESSON 2: BASICS"
   ]
  },
  {
   "cell_type": "markdown",
   "metadata": {},
   "source": [
    "2.1.\tLists, tupples  \n",
    "2.2.\tManipulating lists (append, pop etc)  \n",
    "2.3.\tText functions (strings).  \n",
    "2.4.\tText formatting: f strings  .format, concatenate, split, etc  \n",
    "2.5.\tDefining functions   \n"
   ]
  },
  {
   "cell_type": "markdown",
   "metadata": {},
   "source": [
    "### List, tuppels\n",
    "I will not go into the kind of variables that are available in Python.  \n",
    "Basically like in any other language (int,float,str, bool, etc)    \n",
    "\n",
    "You dont have to declare variables !!!!!   \n",
    "VBA: Dim a as integer   \n",
    "Python assumes what kind of variable it is depending on what is inside.   "
   ]
  },
  {
   "cell_type": "code",
   "execution_count": null,
   "metadata": {},
   "outputs": [],
   "source": [
    "import sys\n"
   ]
  },
  {
   "cell_type": "code",
   "execution_count": null,
   "metadata": {},
   "outputs": [],
   "source": [
    "my_first_list = ['uno', 'dos','tres','cuatro']\n",
    "my_first_list"
   ]
  },
  {
   "cell_type": "markdown",
   "metadata": {},
   "source": [
    "Manipulating lists"
   ]
  },
  {
   "cell_type": "code",
   "execution_count": null,
   "metadata": {},
   "outputs": [],
   "source": [
    "my_first_list.append('this is an appended value')\n",
    "my_first_list"
   ]
  },
  {
   "cell_type": "code",
   "execution_count": null,
   "metadata": {},
   "outputs": [],
   "source": [
    "my_first_list[1] = 'I changed value 2'"
   ]
  },
  {
   "cell_type": "code",
   "execution_count": null,
   "metadata": {},
   "outputs": [],
   "source": [
    "my_first_list\n"
   ]
  },
  {
   "cell_type": "code",
   "execution_count": null,
   "metadata": {},
   "outputs": [],
   "source": [
    "for cosa in my_first_list:\n",
    "    print(cosa)"
   ]
  },
  {
   "cell_type": "code",
   "execution_count": null,
   "metadata": {},
   "outputs": [],
   "source": [
    "for i in range(len(my_first_list)):\n",
    "    print(i)\n",
    "    print(my_first_list[i])"
   ]
  },
  {
   "cell_type": "code",
   "execution_count": null,
   "metadata": {},
   "outputs": [],
   "source": [
    "for i,elemento in enumerate(my_first_list):\n",
    "    print('el elemento {} es {}'.format(i,my_first_list[i]))"
   ]
  },
  {
   "cell_type": "markdown",
   "metadata": {},
   "source": [
    "slicing lists"
   ]
  },
  {
   "cell_type": "code",
   "execution_count": null,
   "metadata": {},
   "outputs": [],
   "source": [
    "from_nr  = 2\n",
    "up_to_nr = 4\n",
    "my_first_list[from_nr:up_to_nr]\n",
    "# it is zero based index"
   ]
  },
  {
   "cell_type": "code",
   "execution_count": null,
   "metadata": {},
   "outputs": [],
   "source": [
    "one_element = 3\n",
    "my_first_list[one_element]\n",
    "# does not get any element"
   ]
  },
  {
   "cell_type": "code",
   "execution_count": null,
   "metadata": {},
   "outputs": [],
   "source": [
    "my_first_list[one_element:one_element+1]"
   ]
  },
  {
   "cell_type": "markdown",
   "metadata": {},
   "source": [
    "pop elements"
   ]
  },
  {
   "cell_type": "code",
   "execution_count": null,
   "metadata": {},
   "outputs": [],
   "source": [
    "my_first_list.pop(2)\n",
    "my_first_list\n",
    "# be careful in jupyter when running the same cell several times.\n",
    "# value 2 is the third one. 0 based"
   ]
  },
  {
   "cell_type": "markdown",
   "metadata": {},
   "source": [
    "Other methods for lists"
   ]
  },
  {
   "cell_type": "code",
   "execution_count": null,
   "metadata": {},
   "outputs": [],
   "source": [
    "print(dir(list))"
   ]
  },
  {
   "cell_type": "code",
   "execution_count": null,
   "metadata": {},
   "outputs": [],
   "source": [
    "print(list.__doc__)"
   ]
  },
  {
   "cell_type": "markdown",
   "metadata": {},
   "source": [
    "You can put anything in a list of course.    \n",
    "Everything in python is an object.   \n",
    "You can have a list of lists, including tuples, including entire files etcetc   \n",
    "__iter__ method   \n",
    "__len__ method  \n",
    "Dudder methods   \n",
    "no dunder methods  \n",
    "dir meaning.  "
   ]
  },
  {
   "cell_type": "code",
   "execution_count": null,
   "metadata": {},
   "outputs": [],
   "source": [
    "crazy_list = ['this is a text',[2,3,4,5],['another list', 2,3,[4,5]]]\n",
    "for i,element in enumerate(crazy_list):\n",
    "    print('element nr %s is: %s' % (i,element))\n",
    "    "
   ]
  },
  {
   "cell_type": "code",
   "execution_count": null,
   "metadata": {},
   "outputs": [],
   "source": [
    "element3 = crazy_list[2]\n",
    "print(element3)"
   ]
  },
  {
   "cell_type": "code",
   "execution_count": null,
   "metadata": {},
   "outputs": [],
   "source": [
    "element2of3 = element3[1] \n",
    "element2of3"
   ]
  },
  {
   "cell_type": "markdown",
   "metadata": {},
   "source": [
    "Shallow copy / real copy"
   ]
  },
  {
   "cell_type": "code",
   "execution_count": null,
   "metadata": {},
   "outputs": [],
   "source": [
    "a=[1,2,3,4,5]\n",
    "b=a\n",
    "print(b)"
   ]
  },
  {
   "cell_type": "code",
   "execution_count": null,
   "metadata": {},
   "outputs": [],
   "source": [
    "b[2] = 555\n",
    "print(b)"
   ]
  },
  {
   "cell_type": "code",
   "execution_count": null,
   "metadata": {},
   "outputs": [],
   "source": [
    "# does a change?\n",
    "print(a)\n",
    "# yes, b points to a"
   ]
  },
  {
   "cell_type": "code",
   "execution_count": null,
   "metadata": {},
   "outputs": [],
   "source": [
    "c=[2323,6,7,8,9,1,2,0,'name']\n",
    "d=c.copy()\n",
    "d[3]=999\n",
    "print(c)\n",
    "print(d)"
   ]
  },
  {
   "cell_type": "code",
   "execution_count": null,
   "metadata": {},
   "outputs": [],
   "source": [
    "print(c.sort())\n",
    "print(c)"
   ]
  },
  {
   "cell_type": "markdown",
   "metadata": {},
   "source": [
    "#### Tupples  \n",
    "A tupple is an unmutable object.  \n",
    "Once created you can not change it.  \n",
    "Worth having a look to mutable and unmutable objects.   \n",
    "In lists you can add, pop, reverse, etcetc, in tupples not.   \n",
    "\n",
    "NOTE: I have never felt the need for using tuples.\n",
    "\n"
   ]
  },
  {
   "cell_type": "code",
   "execution_count": null,
   "metadata": {},
   "outputs": [],
   "source": [
    "my_tuple=(4,5,6,7)"
   ]
  },
  {
   "cell_type": "markdown",
   "metadata": {},
   "source": [
    "Tuples are inmutable"
   ]
  },
  {
   "cell_type": "code",
   "execution_count": null,
   "metadata": {},
   "outputs": [],
   "source": [
    "try:\n",
    "    my_tuple[2] = 'I want to change value number 3'\n",
    "except:\n",
    "    print('error')"
   ]
  },
  {
   "cell_type": "code",
   "execution_count": 1,
   "metadata": {},
   "outputs": [
    {
     "ename": "NameError",
     "evalue": "name 'my_tuple' is not defined",
     "output_type": "error",
     "traceback": [
      "\u001b[0;31m---------------------------------------------------------------------------\u001b[0m",
      "\u001b[0;31mNameError\u001b[0m                                 Traceback (most recent call last)",
      "\u001b[0;32m<ipython-input-1-75915d53b09d>\u001b[0m in \u001b[0;36m<module>\u001b[0;34m\u001b[0m\n\u001b[0;32m----> 1\u001b[0;31m \u001b[0mmy_tuple\u001b[0m\u001b[0;34m[\u001b[0m\u001b[0;36m2\u001b[0m\u001b[0;34m]\u001b[0m \u001b[0;34m=\u001b[0m \u001b[0;34m'I want to change value number 3'\u001b[0m\u001b[0;34m\u001b[0m\u001b[0;34m\u001b[0m\u001b[0m\n\u001b[0m",
      "\u001b[0;31mNameError\u001b[0m: name 'my_tuple' is not defined"
     ]
    }
   ],
   "source": [
    "my_tuple[2] = 'I want to change value number 3'\n"
   ]
  },
  {
   "cell_type": "code",
   "execution_count": null,
   "metadata": {},
   "outputs": [],
   "source": [
    "print(type(my_tuple))"
   ]
  },
  {
   "cell_type": "code",
   "execution_count": null,
   "metadata": {},
   "outputs": [],
   "source": [
    "for i,element in enumerate(my_tuple):\n",
    "    print('element nr %s is: %s' % (i,element))"
   ]
  },
  {
   "cell_type": "code",
   "execution_count": 2,
   "metadata": {},
   "outputs": [
    {
     "name": "stdout",
     "output_type": "stream",
     "text": [
      "['__add__', '__class__', '__contains__', '__delattr__', '__dir__', '__doc__', '__eq__', '__format__', '__ge__', '__getattribute__', '__getitem__', '__getnewargs__', '__gt__', '__hash__', '__init__', '__init_subclass__', '__iter__', '__le__', '__len__', '__lt__', '__mul__', '__ne__', '__new__', '__reduce__', '__reduce_ex__', '__repr__', '__rmul__', '__setattr__', '__sizeof__', '__str__', '__subclasshook__', 'count', 'index']\n"
     ]
    }
   ],
   "source": [
    "print(dir(tuple))"
   ]
  },
  {
   "cell_type": "code",
   "execution_count": 3,
   "metadata": {},
   "outputs": [
    {
     "name": "stdout",
     "output_type": "stream",
     "text": [
      "['__delitem__', '__iadd__', '__imul__', '__reversed__', '__setitem__', 'append', 'clear', 'copy', 'extend', 'insert', 'pop', 'remove', 'reverse', 'sort']\n"
     ]
    }
   ],
   "source": [
    "list_of_methods_for_list = dir(list)\n",
    "list_of_methods_for_tuple = dir(tuple)\n",
    "\n",
    "list_of_methods_only_in_list = [method for method in list_of_methods_for_list if method not in list_of_methods_for_tuple]\n",
    "# we see next what is a list comprehension\n",
    "\n",
    "print(list_of_methods_only_in_list)"
   ]
  },
  {
   "cell_type": "markdown",
   "metadata": {},
   "source": [
    "### Text functions (strings)"
   ]
  },
  {
   "cell_type": "code",
   "execution_count": null,
   "metadata": {},
   "outputs": [],
   "source": [
    "mystring  = \"Lorem Ipsum is     simply dummy text\""
   ]
  },
  {
   "cell_type": "code",
   "execution_count": null,
   "metadata": {},
   "outputs": [],
   "source": [
    "mystring2 = '\"Lorem Ipsum is simply dummy text\"'\n",
    "print(mystring2)"
   ]
  },
  {
   "cell_type": "code",
   "execution_count": null,
   "metadata": {},
   "outputs": [],
   "source": [
    "mystring2 = \"'Lorem Ipsum is simply dummy text'\"\n",
    "print(mystring2)"
   ]
  },
  {
   "cell_type": "code",
   "execution_count": null,
   "metadata": {},
   "outputs": [],
   "source": [
    "mystring.endswith(\"y\")"
   ]
  },
  {
   "cell_type": "code",
   "execution_count": null,
   "metadata": {},
   "outputs": [],
   "source": [
    "mystring.endswith('t')"
   ]
  },
  {
   "cell_type": "code",
   "execution_count": null,
   "metadata": {},
   "outputs": [],
   "source": [
    "mystring = mystring + \"some other text\"\n",
    "mystring"
   ]
  },
  {
   "cell_type": "code",
   "execution_count": null,
   "metadata": {},
   "outputs": [],
   "source": [
    "tokenized = mystring.replace(\"  \",\" \").split(\" \")\n",
    "tokenized"
   ]
  },
  {
   "cell_type": "code",
   "execution_count": null,
   "metadata": {},
   "outputs": [],
   "source": [
    "# a string can be thought of as a list\n",
    "mystring[2:4]"
   ]
  },
  {
   "cell_type": "code",
   "execution_count": null,
   "metadata": {},
   "outputs": [],
   "source": [
    "print(dir(str))"
   ]
  },
  {
   "cell_type": "markdown",
   "metadata": {},
   "source": [
    "### list comprehensions\n",
    "List comprehensions provide a concise way to create lists.    \n",
    "\n",
    "It consists of brackets containing an expression followed by a for clause.   \n",
    "\n",
    "At this level this is one of the most pythonic things to get used to.\n",
    "\n",
    "Lets see an example"
   ]
  },
  {
   "cell_type": "code",
   "execution_count": null,
   "metadata": {},
   "outputs": [],
   "source": [
    "A = [1,3,5,3,6,8,9,23,45,22,64]\n",
    "B = [3,6,2,7,9,23,4,55,78,54,4]"
   ]
  },
  {
   "cell_type": "code",
   "execution_count": null,
   "metadata": {},
   "outputs": [],
   "source": [
    "newlist=[]\n",
    "for number in A:\n",
    "    if number%2 == 0 :\n",
    "        newlist.append(number)\n",
    "newlist"
   ]
  },
  {
   "cell_type": "code",
   "execution_count": null,
   "metadata": {},
   "outputs": [],
   "source": [
    "# get the list of all the elements even in A\n",
    "even_list = [str(element) + 'a' for element in A if (element%2 == 0) & (element%2 != 0)]\n",
    "print(even_list)"
   ]
  },
  {
   "cell_type": "code",
   "execution_count": null,
   "metadata": {},
   "outputs": [],
   "source": []
  },
  {
   "cell_type": "code",
   "execution_count": null,
   "metadata": {},
   "outputs": [],
   "source": [
    "# get the list of all the elements in B not in A\n",
    "B_not_A_list = [element for element in B if element not in A]\n",
    "print(B_not_A_list)"
   ]
  },
  {
   "cell_type": "code",
   "execution_count": null,
   "metadata": {},
   "outputs": [],
   "source": [
    "# get the list of all the elements in B not in A and even\n",
    "B_not_A_even_list = [element for element in B if ((element not in A) and (element%2 == 0))]\n",
    "print(B_not_A_even_list)"
   ]
  },
  {
   "cell_type": "code",
   "execution_count": null,
   "metadata": {},
   "outputs": [],
   "source": [
    "A = [1,3,5,3,6,8,9,23,45,22,64,1,3,5]\n",
    "ss=set(A)\n",
    "print(ss)\n"
   ]
  },
  {
   "cell_type": "markdown",
   "metadata": {},
   "source": [
    "### Time to ZEN\n",
    "Why is time to ZEN?   \n",
    "because lines are getting too long.    \n",
    "Things are getting too complicated.   \n",
    "\n",
    "How is programming done in python?\n",
    "Following the Zen of python\n",
    "(well not really but worth to think about)"
   ]
  },
  {
   "cell_type": "code",
   "execution_count": null,
   "metadata": {},
   "outputs": [],
   "source": [
    "import this"
   ]
  },
  {
   "cell_type": "markdown",
   "metadata": {},
   "source": [
    "### PEP 8\n",
    "Python Enhancement Proposal.\n",
    "PEP 8 is Python's style guide. It's a set of rules for how to format your Python code to maximize its readability. Writing code to a specification helps to make large code bases, with lots of writers, more uniform and predictable, too.   \n",
    "\n",
    "Is it important to stick to PEP8?   \n",
    "PEP 8 exists to improve the readability of Python code. But why is readability so important? Why is writing readable code one of the guiding principles of the Python language?   \n",
    "\n",
    "As Guido van Rossum said, “Code is read much more often than it is written.”    \n",
    "\n",
    "Check for PEP8 conventions online. There are hundreds of pages.\n",
    "\n",
    "as a matter of example:\n",
    "pep8 says that a line might not have more than 79 characteres.   \n",
    "\n",
    "there are python modules helping to format code accordingly.\n",
    "PEP 8 is not just philosophy, corrections given or suggested by most of the editors are probably based on PEP 8\n",
    "Besides there are many \"code checkers\" all based in a kind or variation of PEP8.\n",
    "\n",
    "If you dont care about PEP 8 you might get a million suggesions for improvement your code when using for instance BLACK, pep8, pylint, pycodestyle, etc"
   ]
  },
  {
   "cell_type": "code",
   "execution_count": null,
   "metadata": {},
   "outputs": [],
   "source": [
    "# bad:\n",
    "B_not_A_even_list = [element_of_B for element_of_B in B if (element_of_B not in A and element_of_B%2 == 0)]\n",
    "\n",
    "# better:\n",
    "B_not_A_even_list = [\n",
    "    element_of_B for element_of_B in B if (\n",
    "        element_of_B not in A and element_of_B%2 == 0\n",
    "    )]\n",
    "print(B_not_A_even_list)"
   ]
  },
  {
   "cell_type": "markdown",
   "metadata": {},
   "source": [
    "### Functions/methods"
   ]
  },
  {
   "cell_type": "code",
   "execution_count": null,
   "metadata": {},
   "outputs": [],
   "source": [
    "myvar = 3\n",
    "def my_first_method(variable1 ,variable2):\n",
    "    operation = (variable1 - variable2)^3\n",
    "    print(myvar)\n",
    "    global myvar\n",
    "    myvar = 'sdgfsdfgsdg'\n",
    "    \n",
    "    \n",
    "    return operation\n",
    "    \n",
    "variable1 = 34\n",
    "variable2 = 45\n",
    "\n",
    "print(my_first_method(variable1,variable2))\n",
    "print(myvar)\n"
   ]
  },
  {
   "cell_type": "markdown",
   "metadata": {},
   "source": [
    "### Functions inside of funcitons"
   ]
  },
  {
   "cell_type": "code",
   "execution_count": null,
   "metadata": {},
   "outputs": [],
   "source": [
    "def method2(var1,var2):\n",
    "    '''\n",
    "    write doc string\n",
    "    input: var1 is int\n",
    "    output interger\n",
    "    \n",
    "    btw, this is an example\n",
    "    \n",
    "    '''\n",
    "    \n",
    "    def func_inside1 (var1):\n",
    "        print('passing in func inside 1:',var1)\n",
    "        c = var1*var1\n",
    "        print(c)\n",
    "        return c\n",
    "    \n",
    "    def func_inside2 (var2):\n",
    "        print('passing in func inside 2:',var2)\n",
    "        c= var2*var2\n",
    "        print(c)\n",
    "        return c\n",
    "    \n",
    "    result = func_inside1(var1) + func_inside2(var2)\n",
    "    \n",
    "    return result\n",
    "    \n",
    "nr1 = 2\n",
    "nr2 = 4\n",
    "\n",
    "print(method2(nr1,nr2))"
   ]
  },
  {
   "cell_type": "code",
   "execution_count": null,
   "metadata": {},
   "outputs": [],
   "source": [
    "p=method2(1,2)\n"
   ]
  },
  {
   "cell_type": "markdown",
   "metadata": {},
   "source": [
    "### Importing your own funcitons"
   ]
  },
  {
   "cell_type": "markdown",
   "metadata": {},
   "source": [
    "Question: Deal first with managing your own funcitons or with standard lybraries?\n"
   ]
  },
  {
   "cell_type": "code",
   "execution_count": null,
   "metadata": {},
   "outputs": [],
   "source": [
    "from my_functions import jose_function1,jose_function2"
   ]
  },
  {
   "cell_type": "code",
   "execution_count": null,
   "metadata": {},
   "outputs": [],
   "source": [
    "print(jose_function1.__doc__)"
   ]
  },
  {
   "cell_type": "code",
   "execution_count": null,
   "metadata": {},
   "outputs": [],
   "source": [
    "jose_function1(4,6)"
   ]
  },
  {
   "cell_type": "code",
   "execution_count": null,
   "metadata": {},
   "outputs": [],
   "source": [
    "jose_function2(4,6)"
   ]
  },
  {
   "cell_type": "markdown",
   "metadata": {},
   "source": [
    "I could have imported everything"
   ]
  },
  {
   "cell_type": "code",
   "execution_count": null,
   "metadata": {},
   "outputs": [],
   "source": [
    "from my_functions import *"
   ]
  },
  {
   "cell_type": "markdown",
   "metadata": {},
   "source": [
    "To group many .py files put them in a folder.  \n",
    "Any folder with an __ init __.py in it is considered a module by python and you can call them a package\n",
    "\n",
    "Show here the folder my_first_package   \n",
    "\n",
    "Important note:   \n",
    "A powerful feature of Jupyter / IPython (indeed, of Python itself) is that you can interact with your data from the (I)Python command line. In order to provide this functionality, the modules which hold your data remain alive between invocations.\n",
    "Therefore once a module is imported, it stays imported, and re-importing it has no effect at all.\n",
    "\n",
    "\n"
   ]
  },
  {
   "cell_type": "code",
   "execution_count": null,
   "metadata": {},
   "outputs": [],
   "source": [
    "import my_first_package.nicer_functions"
   ]
  },
  {
   "cell_type": "code",
   "execution_count": null,
   "metadata": {},
   "outputs": [],
   "source": [
    "print(dir(my_first_package))"
   ]
  },
  {
   "cell_type": "code",
   "execution_count": null,
   "metadata": {},
   "outputs": [],
   "source": [
    "print(my_first_package.__doc__)"
   ]
  },
  {
   "cell_type": "code",
   "execution_count": null,
   "metadata": {},
   "outputs": [],
   "source": [
    "dir(my_first_package.nicer_functions)"
   ]
  },
  {
   "cell_type": "code",
   "execution_count": null,
   "metadata": {},
   "outputs": [],
   "source": [
    "from my_first_package.nicer_functions import hallo as h"
   ]
  },
  {
   "cell_type": "code",
   "execution_count": null,
   "metadata": {},
   "outputs": [],
   "source": [
    "print(h('name'))"
   ]
  },
  {
   "cell_type": "markdown",
   "metadata": {},
   "source": [
    "### Standard Library"
   ]
  },
  {
   "cell_type": "code",
   "execution_count": null,
   "metadata": {},
   "outputs": [],
   "source": [
    "import os"
   ]
  },
  {
   "cell_type": "code",
   "execution_count": null,
   "metadata": {},
   "outputs": [],
   "source": [
    "print(os.__doc__)"
   ]
  },
  {
   "cell_type": "code",
   "execution_count": null,
   "metadata": {},
   "outputs": [],
   "source": [
    "print(dir(os))"
   ]
  },
  {
   "cell_type": "code",
   "execution_count": null,
   "metadata": {},
   "outputs": [],
   "source": [
    "### List of all the concepts in a folder:\n",
    "\n",
    "directory =r'C:\\EPODATA\\SEA\\concepts'\n",
    "for filename in os.listdir(directory):\n",
    "    if filename.endswith(\".concept\"):\n",
    "        print(f'file name: {filename}')\n",
    "        print(f'this is the total file name: {os.path.join(directory, filename)}')\n",
    "    else:\n",
    "        print(f'this is not a concept {filename}')"
   ]
  },
  {
   "cell_type": "code",
   "execution_count": null,
   "metadata": {},
   "outputs": [],
   "source": [
    "path=r'C:\\Users\\JF30443\\pyCODE'\n",
    "for root, dirs, files in os.walk(path):\n",
    "    for name in files:\n",
    "        if name.endswith((\".html\", \".htm\")):\n",
    "            print(name)\n",
    "            \n"
   ]
  },
  {
   "cell_type": "markdown",
   "metadata": {},
   "source": [
    "## Generators"
   ]
  },
  {
   "cell_type": "code",
   "execution_count": null,
   "metadata": {},
   "outputs": [],
   "source": [
    "def infinite_sequence():\n",
    "    num = 0\n",
    "    while True:\n",
    "        num += 1\n",
    "        yield num"
   ]
  },
  {
   "cell_type": "markdown",
   "metadata": {},
   "source": [
    "This looks like a typical function definition, except for the Python yield statement and the code that follows it. yield indicates where a value is sent back to the caller, but unlike return, you don’t exit the function afterward."
   ]
  },
  {
   "cell_type": "code",
   "execution_count": null,
   "metadata": {},
   "outputs": [],
   "source": [
    "gen = infinite_sequence()\n",
    "next(gen)"
   ]
  },
  {
   "cell_type": "code",
   "execution_count": null,
   "metadata": {},
   "outputs": [],
   "source": [
    "next(gen)"
   ]
  },
  {
   "cell_type": "code",
   "execution_count": null,
   "metadata": {},
   "outputs": [],
   "source": [
    "next(gen)"
   ]
  },
  {
   "cell_type": "markdown",
   "metadata": {},
   "source": [
    "# Some \"kind of\" real examples\n",
    "## 1. Create a claim table"
   ]
  },
  {
   "cell_type": "code",
   "execution_count": null,
   "metadata": {},
   "outputs": [],
   "source": [
    "# after running ..triquote on your application you get claims.txt in:\n",
    "path = r'C:\\Users\\Public\\NoBackup\\UserData\\TriQuote\\claims.txt'\n",
    "print(path)\n",
    "with open(path,'r') as f:\n",
    "    rawclaims=f.read()\n",
    "\n",
    "print(rawclaims)"
   ]
  },
  {
   "cell_type": "markdown",
   "metadata": {},
   "source": [
    "### Parsing the claims"
   ]
  },
  {
   "cell_type": "code",
   "execution_count": null,
   "metadata": {},
   "outputs": [],
   "source": [
    "# read some less parsed set of claims\n",
    "path  = r'C:\\Users\\JF30443\\pyCODE\\P5_Python_course\\claimsset.txt'\n",
    "print(path)\n",
    "with open(path,'r') as f:\n",
    "    rawclaims=f.read()\n",
    "\n",
    "# 0:10 just for showing purposes\n",
    "print(rawclaims)"
   ]
  },
  {
   "cell_type": "code",
   "execution_count": null,
   "metadata": {},
   "outputs": [],
   "source": [
    "# a) starts with 'what is claimed is\n",
    "rawclaims = rawclaims.replace('What is claimed is:','')\n",
    "print(rawclaims[0:60])"
   ]
  },
  {
   "cell_type": "code",
   "execution_count": null,
   "metadata": {},
   "outputs": [],
   "source": [
    "# b) strip the string\n",
    "rawclaims = rawclaims.strip()\n",
    "print(rawclaims)"
   ]
  },
  {
   "cell_type": "code",
   "execution_count": null,
   "metadata": {},
   "outputs": [],
   "source": [
    "# c) it looks like they start by 1. 1.\n",
    "# tricky thing. what about 1.5 mm???\n",
    "# this is a basic approach\n",
    "counter=0\n",
    "for nr in range(1,100):\n",
    "    string= str(nr) + '. ' + str(nr) + '. '\n",
    "    if string in rawclaims:\n",
    "        counter += 1\n",
    "        rawclaims = rawclaims.replace(string,'<newclaim>')\n",
    "print(f'I have made {counter} substitutions')"
   ]
  },
  {
   "cell_type": "code",
   "execution_count": null,
   "metadata": {},
   "outputs": [],
   "source": []
  },
  {
   "cell_type": "code",
   "execution_count": null,
   "metadata": {},
   "outputs": [],
   "source": [
    "# break lines might be a great indicator of feature\n",
    "rawclaims= rawclaims.replace('\\n', '<feature>').replace('\\r', '<feature>')\n",
    "print(rawclaims[0:500])"
   ]
  },
  {
   "cell_type": "code",
   "execution_count": null,
   "metadata": {},
   "outputs": [],
   "source": [
    "print(rawclaims[0:500])"
   ]
  },
  {
   "cell_type": "code",
   "execution_count": null,
   "metadata": {},
   "outputs": [],
   "source": [
    "list_of_claims = rawclaims.split('<newclaim>')\n",
    "print(list_of_claims[0:3])"
   ]
  },
  {
   "cell_type": "code",
   "execution_count": null,
   "metadata": {},
   "outputs": [],
   "source": [
    "# shorter:\n",
    "list_of_claims = [claim for claim in list_of_claims if claim !='']"
   ]
  },
  {
   "cell_type": "code",
   "execution_count": null,
   "metadata": {},
   "outputs": [],
   "source": [
    "#list comprehension\n",
    "list_of_claims = [claim.replace('\\n', '<feature>').replace('\\r', '<feature>') for claim in rawclaims.split('<newclaim>') if claim !='']"
   ]
  },
  {
   "cell_type": "code",
   "execution_count": null,
   "metadata": {
    "scrolled": true
   },
   "outputs": [],
   "source": [
    "print(list_of_claims[0:3])"
   ]
  },
  {
   "cell_type": "code",
   "execution_count": null,
   "metadata": {},
   "outputs": [],
   "source": [
    "print(list_of_claims[0:3])"
   ]
  },
  {
   "cell_type": "code",
   "execution_count": null,
   "metadata": {},
   "outputs": [],
   "source": [
    "independent_list=[]\n",
    "for i,claim in enumerate(list_of_claims):\n",
    "    if 'claim' in claim:\n",
    "        independent_list.append('dependent')\n",
    "    else:\n",
    "        independent_list.append('independent')\n",
    "\n",
    "\n",
    "        "
   ]
  },
  {
   "cell_type": "code",
   "execution_count": null,
   "metadata": {},
   "outputs": [],
   "source": [
    "print(independent_list)\n",
    "print(len(independent_list))\n",
    "print(len(list_of_claims))"
   ]
  },
  {
   "cell_type": "markdown",
   "metadata": {},
   "source": [
    "### Please give a big round of applause to PANDAS"
   ]
  },
  {
   "cell_type": "code",
   "execution_count": null,
   "metadata": {},
   "outputs": [],
   "source": [
    "import pandas as pd"
   ]
  },
  {
   "cell_type": "code",
   "execution_count": null,
   "metadata": {},
   "outputs": [],
   "source": [
    "claims_df = pd.DataFrame(columns=['claimtext'])\n",
    "claims_df['claimtext'] = list_of_claims\n",
    "claims_df"
   ]
  },
  {
   "cell_type": "code",
   "execution_count": null,
   "metadata": {},
   "outputs": [],
   "source": [
    "def isindependent(string):\n",
    "    if 'claim' in string:\n",
    "        return False\n",
    "    else:\n",
    "        return True\n",
    "\n",
    "# add independent column\n",
    "claims_df['independent'] = claims_df['claimtext'].apply(isindependent)\n",
    "claims_df"
   ]
  },
  {
   "cell_type": "code",
   "execution_count": null,
   "metadata": {},
   "outputs": [],
   "source": [
    "def define_preamble(string):\n",
    "    s=string.find(',')\n",
    "    return string[0:s]\n",
    "\n",
    "claims_df['preamble']= claims_df['claimtext'].apply(define_preamble)\n",
    "claims_df"
   ]
  },
  {
   "cell_type": "code",
   "execution_count": null,
   "metadata": {},
   "outputs": [],
   "source": [
    "import ipysheet\n",
    "import ipywidgets as widgets\n",
    "from ipywidgets import interact, interact_manual"
   ]
  },
  {
   "cell_type": "code",
   "execution_count": null,
   "metadata": {},
   "outputs": [],
   "source": [
    "@interact\n",
    "def show_some_claims(independent=True):\n",
    "    return claims_df.loc[claims_df.independent==True]"
   ]
  },
  {
   "cell_type": "code",
   "execution_count": null,
   "metadata": {},
   "outputs": [],
   "source": [
    "import qgrid"
   ]
  },
  {
   "cell_type": "code",
   "execution_count": null,
   "metadata": {},
   "outputs": [],
   "source": [
    "qgrid_widget = qgrid.show_grid(claims_df, show_toolbar=True)\n",
    "qgrid_widget"
   ]
  },
  {
   "cell_type": "code",
   "execution_count": null,
   "metadata": {},
   "outputs": [],
   "source": [
    "\n",
    "independent=claims_df.loc[claims_df['independent'] == True,'claimtext']\n",
    "print(independent)"
   ]
  },
  {
   "cell_type": "code",
   "execution_count": null,
   "metadata": {},
   "outputs": [],
   "source": [
    "# save the result as an excel file\n",
    "claims_df.to_excel(\"output.xlsx\")"
   ]
  },
  {
   "cell_type": "code",
   "execution_count": null,
   "metadata": {},
   "outputs": [],
   "source": [
    "# Export claims table as CSV\n",
    "claims_df.to_csv('myCSV.csv')"
   ]
  },
  {
   "cell_type": "code",
   "execution_count": null,
   "metadata": {},
   "outputs": [],
   "source": [
    "claims_df.to_html('myhtml.html')"
   ]
  },
  {
   "cell_type": "markdown",
   "metadata": {},
   "source": [
    "\n",
    "(C:\\Users\\JF30443\\pyCODE\\P5_Python_course)"
   ]
  },
  {
   "cell_type": "markdown",
   "metadata": {},
   "source": [
    "If you use jupyter you can open the tables directly from jupyter notebook into another tab.\n",
    "the outputs of Jupyter are directly tables"
   ]
  },
  {
   "cell_type": "code",
   "execution_count": null,
   "metadata": {},
   "outputs": [],
   "source": [
    "import webbrowser\n",
    "\n",
    "def opentableHTML(df):\n",
    "    '''\n",
    "    gets pandas\n",
    "    opnes HTML table in chrome\n",
    "    windows specific\n",
    "    '''\n",
    "    # render dataframe as html\n",
    "    myhtmltable = df.to_html()\n",
    "        \n",
    "    with open('mysite.html','w') as f:\n",
    "        f.write('<html>')\n",
    "        f.write('<head>')\n",
    "        f.write('<title>Table of contents</title>')\n",
    "        f.write('</head>')\n",
    "        f.write('<body>')\n",
    "        f.write(myhtmltable)\n",
    "        f.write('</body>')\n",
    "        f.write('</html>')\n",
    "\n",
    "    # Windows\n",
    "    chrome_path_windows = 'C:/Program Files (x86)/Google/Chrome/Application/chrome.exe %s'\n",
    "\n",
    "    webbrowser.get(chrome_path_windows).open('mysite.html')"
   ]
  },
  {
   "cell_type": "code",
   "execution_count": null,
   "metadata": {},
   "outputs": [],
   "source": [
    "opentableHTML(claims_df)"
   ]
  },
  {
   "cell_type": "markdown",
   "metadata": {},
   "source": [
    "### 2. Reading Madou's file to analyze applicants communication"
   ]
  },
  {
   "cell_type": "markdown",
   "metadata": {},
   "source": [
    "If you want to have a text file of the applicants answer\n",
    "\n"
   ]
  },
  {
   "cell_type": "code",
   "execution_count": null,
   "metadata": {},
   "outputs": [],
   "source": [
    "import os\n",
    "path = r'C:/epodata/sea/privprop/ocr/'\n",
    "name = r'EP11156626_2014-04-30_ABEX_415_OCR.txt'\n",
    "\n",
    "name_total = os.path.join(path,name)\n",
    "print(name_total)\n",
    "print(os.path.getctime(name_total))"
   ]
  },
  {
   "cell_type": "code",
   "execution_count": null,
   "metadata": {},
   "outputs": [],
   "source": [
    "with open(name_total, 'r') as f:\n",
    "    appliletter= f.readlines()"
   ]
  },
  {
   "cell_type": "code",
   "execution_count": null,
   "metadata": {},
   "outputs": [],
   "source": [
    "ml=['er','tz','zu']\n",
    "md={letter.upper():letter for letter in ml}\n",
    "md"
   ]
  },
  {
   "cell_type": "code",
   "execution_count": null,
   "metadata": {},
   "outputs": [],
   "source": [
    "text_files = [filename for filename in os.listdir(path) if ('.txt' in filename) and ('.pdf' not in filename) and ('Status' not in filename)]\n",
    "files = {filename:os.path.getctime(os.path.join(path,filename)) for filename in text_files}\n",
    "print(files)"
   ]
  },
  {
   "cell_type": "code",
   "execution_count": null,
   "metadata": {},
   "outputs": [],
   "source": [
    "My_last_generated_ABEX = max(files, key=files.get)\n",
    "print(My_last_generated_ABEX )"
   ]
  },
  {
   "cell_type": "code",
   "execution_count": null,
   "metadata": {},
   "outputs": [],
   "source": [
    "abex_file = os.path.join(path,My_last_generated_ABEX)\n",
    "with open(abex_file,'r') as f:\n",
    "    abex = f.readlines()"
   ]
  },
  {
   "cell_type": "code",
   "execution_count": null,
   "metadata": {},
   "outputs": [],
   "source": [
    "import re\n",
    "t = 'sfdsdf D4 sfsdf'\n",
    "print(re.search(r'D\\d',t))\n",
    "print(re.search(r'X\\d',t))"
   ]
  },
  {
   "cell_type": "code",
   "execution_count": null,
   "metadata": {},
   "outputs": [],
   "source": [
    "doc_para     = [text for text in abex if re.findall(r'D\\d',text) != None]\n",
    "#matching = [s for s in my_list if any(xs in s for xs in matchers)]\n",
    "novelty_words   = ['novel','new','novelty','54'] \n",
    "novelty_para    = [text for text in doc_para if any(newword in text for newword in novelty_words)]\n",
    "\n",
    "novelty_para"
   ]
  },
  {
   "cell_type": "markdown",
   "metadata": {},
   "source": [
    "### Reading Ian's claims "
   ]
  },
  {
   "cell_type": "code",
   "execution_count": null,
   "metadata": {},
   "outputs": [],
   "source": [
    "# C:\\Users\\Public\\NoBackup\\UserData\\TriQuote\\currentclaims.txt\n",
    "# After running Triquote\n",
    "current_claims_name = r'claims.txt'\n",
    "current_triquote_path = r'C:/Users/Public/NoBackup/UserData/TriQuote'\n",
    "total_name=os.path.join(current_triquote_path,current_claims_name)\n",
    "with open(current_claims_name,'r') as f:\n",
    "    myclaims = f.readlines()"
   ]
  },
  {
   "cell_type": "code",
   "execution_count": null,
   "metadata": {},
   "outputs": [],
   "source": [
    "print(myclaims)"
   ]
  },
  {
   "cell_type": "code",
   "execution_count": null,
   "metadata": {},
   "outputs": [],
   "source": [
    "from pprint import pprint\n",
    "pprint(myclaims)"
   ]
  },
  {
   "cell_type": "markdown",
   "metadata": {},
   "source": [
    "# THE END"
   ]
  },
  {
   "cell_type": "markdown",
   "metadata": {},
   "source": [
    "Extras:\n",
    "    "
   ]
  },
  {
   "cell_type": "code",
   "execution_count": null,
   "metadata": {},
   "outputs": [],
   "source": [
    "yann_df = pd.read_csv('lipa_sipto.csv')"
   ]
  },
  {
   "cell_type": "markdown",
   "metadata": {},
   "source": [
    "Marco Cantagallo Jupyter working environement"
   ]
  },
  {
   "cell_type": "code",
   "execution_count": null,
   "metadata": {},
   "outputs": [],
   "source": []
  }
 ],
 "metadata": {
  "kernelspec": {
   "display_name": "Python 3",
   "language": "python",
   "name": "python3"
  },
  "language_info": {
   "codemirror_mode": {
    "name": "ipython",
    "version": 3
   },
   "file_extension": ".py",
   "mimetype": "text/x-python",
   "name": "python",
   "nbconvert_exporter": "python",
   "pygments_lexer": "ipython3",
   "version": "3.7.4"
  },
  "toc": {
   "base_numbering": 1,
   "nav_menu": {},
   "number_sections": false,
   "sideBar": false,
   "skip_h1_title": false,
   "title_cell": "Table of Contents",
   "title_sidebar": "Contents",
   "toc_cell": false,
   "toc_position": {},
   "toc_section_display": false,
   "toc_window_display": false
  }
 },
 "nbformat": 4,
 "nbformat_minor": 4
}
