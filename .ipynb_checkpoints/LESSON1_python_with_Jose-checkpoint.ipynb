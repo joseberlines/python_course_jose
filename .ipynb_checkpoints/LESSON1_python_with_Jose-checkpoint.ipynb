{
 "cells": [
  {
   "cell_type": "markdown",
   "metadata": {},
   "source": [
    "# FAST PYTHON INTRODUCTION FOR PROGRAMMERS\n",
    "### by Jose Ferro   \n",
    "January 2019   \n",
    "\n",
    "![title](images/python.jpg)"
   ]
  },
  {
   "cell_type": "markdown",
   "metadata": {},
   "source": [
    "***"
   ]
  },
  {
   "cell_type": "markdown",
   "metadata": {},
   "source": [
    "## LESSON 1: INTRODUCTION"
   ]
  },
  {
   "cell_type": "markdown",
   "metadata": {},
   "source": [
    "Outline First class:  \n",
    "1.1.\tSet up  environment (installing anaconda) [Here I suggest you already ask for official permission to install python as soon as possible; ]  \n",
    "1.2.\thttp://my.internal.epo.org/portal/private/epo/work/imservices/?WCM_GLOBAL_CONTEXT=/epo/intranet/work/imservices/request_new_software  \n",
    "1.3.\tDeveloper environement: Jupyter vs Spyder vs other editors & Jupyter extensions \n",
    "1.4. Starting with Python\n",
    "1.5.a\tSpecial for excel lovers. Fire a python script from excel [here I still have to re-set up everything after the new laptop was installed since the excel-lovers know what is going on…]   \n",
    "1.5.b   Special for Rexx lovers. same same but different: Running a script in the terminal shell \n",
    "1.6.\tImporting libraries. How to connect Anaconda to internet in order to download libraries  \n",
    "1.7.\tHello world  \n",
    "1.8.\tReading and writing text files in disc  "
   ]
  },
  {
   "cell_type": "markdown",
   "metadata": {},
   "source": [
    "***\n",
    "### Motivation\n",
    "After many years sharing information over the telephone and email many of you and requesting features in many preparations (Ian & Madou) or disscussing about how to improve our excel (Robert) I felt compelled to give back."
   ]
  },
  {
   "cell_type": "markdown",
   "metadata": {},
   "source": [
    "***\n",
    "### Python History in two lines\n",
    "- Creator: Guido van Rossum  \n",
    "He was till last year the BDFL: Benevolent Dictator For Life.\n",
    "He retired last year. He used to work for Dropbox.\n",
    "![title](images/Guido_van_Rossum.jpg)\n",
    "<br>\n",
    "<br>\n",
    "- Python is not a snake   \n",
    "\n",
    "![title](images/Meaningoflife.jpg)\n",
    "<br>\n",
    "\n",
    "\n"
   ]
  },
  {
   "cell_type": "markdown",
   "metadata": {},
   "source": [
    "***\n",
    "### 1.1 & 1.2 & 1.3 Some Theory\n",
    "\n",
    "- EPO python installation permission.   \n",
    "<br>\n",
    "- Where do I start working?: Set up your working environement with Anaconda (my recomendation)  \n",
    "    Because it is all-included enviroment    \n",
    "    <br>\n",
    "- What is Anaconda?  \n",
    "    Is a free and open-source distribution of the Python and R programming languages for scientific computing.    \n",
    "    <br>\n",
    "- Installing Anaconda in Windows    \n",
    "    Just follow instructins: https://docs.anaconda.com/anaconda/install/windows/     \n",
    "    <br>\n",
    "- Anaconda has preinstalled packages.  \n",
    "    The most important and more used pacakges are already installed there    \n",
    "    <br>\n",
    "- What is Anaconda-forge?   \n",
    "    conda-forge is a community effort that provides conda packages for a wide range of software. Missing a package that you would love to install with conda (Chances are we they already packaged it for you! You can search for packages online)\n",
    "        example: https://anaconda.org/conda-forge/pandas   \n",
    "        <br>"
   ]
  },
  {
   "cell_type": "markdown",
   "metadata": {},
   "source": [
    "- What is Jupyter.  \n",
    "    The Jupyter Notebook is an open-source web application that allows you to create and share documents that contain live code, equations, visualizations and narrative text. (What you are seeing is a jupyter notebook, as you see this cell contains text. no code)\n",
    "    <br>\n",
    "    \n",
    "- What is Jupyter Lab.   \n",
    "    JupyterLab 1.0: Jupyter’s Next-Generation Notebook Interface.\n",
    "    Main difference on the surface is that a jupyter lab instance includes several tabs, where as a normal Jupyter includes is included in one tab.   \n",
    "    At the end of this lesson showing some Jupyter Lab functionality.\n",
    "    <br>\n",
    "     \n",
    "- Spyder. \n",
    "    Spyder, the Scientific Python Development Environment, is a free integrated development environment (IDE) that is included with Anaconda. It includes editing, interactive testing, debugging, and introspection features.\n",
    "    <br>\n",
    "      \n",
    "- Other languages environements in anaconda.   \n",
    "    Anaconda is not limited to python. And Jupyter is not limited to python neither. You can mix up languages (JS for instance).    \n",
    "    Other popular data science language is R.\n",
    "    \n",
    "    <br>\n",
    "    \n",
    "- Jupyter extensions\n",
    "    out-of-the-box notebooks are notoriously lacking in features. Fortunately, there are a number of ways, including Jupyter Notebook extensions, to improve this invaluable tool.\n",
    "    https://towardsdatascience.com/jupyter-notebook-extensions-517fa69d2231"
   ]
  },
  {
   "cell_type": "markdown",
   "metadata": {},
   "source": [
    "***\n",
    "### Starting with python"
   ]
  },
  {
   "cell_type": "markdown",
   "metadata": {},
   "source": [
    "- Why python?   \n",
    "    Some numbers. Just up to end 2018. Dont have numbers for end 2019\n",
    "    ![title](images/growth_major_languages.jpg)   \n",
    "    <br>\n",
    "- Popularity in 2019\n",
    "    https://stackify.com/popular-programming-languages-2018/    \n",
    "<br>\n",
    "- Why is python popular?   \n",
    "    This is my personal opinion.\n",
    "    Probably one of the programming languages most similar to common English.\n",
    "    A lot of people use it.\n",
    "    It got to be very popular in a time where \"open source\" and github got popular.\n",
    "    There are 211000 libraries !!!!!!\n",
    "    So if you want to do something, chances are someone already thought about it.\n",
    "    \n",
    "    article   \n",
    "    https://www.economist.com/science-and-technology/2018/07/19/python-has-brought-computer-programming-to-a-vast-new-audience\n",
    "    \n",
    "    pypi is the \"offitial\" repository\"\n",
    "    https://pypi.org/\n",
    "    \n",
    "    Just a thought: if every library has around 100 methods (functions) we are talking about 20 million functions available right there for you.   \n",
    "    side note: One of the most famous libraries Pandas has around 2000 methods.   \n",
    "    \n",
    "    211,909 projects 1,611,581 releases 2,425,049 files 394,919 users      \n",
    "    <br>\n",
    " *** "
   ]
  },
  {
   "cell_type": "markdown",
   "metadata": {},
   "source": [
    "### Which Python? What libraries?\n",
    "\n",
    "- Which Python?   Last version. Python 2.7 is dead. \n",
    "    Last version is python 3.8    \n",
    "    https://www.python.org/doc/versions/\n",
    "<br>\n",
    "\n",
    "- Libraries dependencies.  \n",
    "    Thats an advantage, but it has also some other implications.\n",
    "    libraries are based on other libraries and every library (as python itself)  evolves and care should be taken to allow compatability.   \n",
    "    Example:       \n",
    "    Library: Dog1.0   \n",
    "    library: Cat1.0 based on Dog1.0   \n",
    "    \n",
    "    If Dog1.0 updates to Dog2.0 and Cat1.0 does not update there might be a problem if you in your machine update Dog to the latest version. Cat might be calling funcitons of Dog2.0 and in the new version there might not exist.     \n",
    "    Dependency management is needed.    \n",
    "    <br> \n",
    "    But.... Anaconda and conda-forge takes care of that.   \n",
    "    <br> \n",
    " "
   ]
  },
  {
   "cell_type": "markdown",
   "metadata": {},
   "source": [
    "***\n",
    "### virtual environements\n",
    "\n",
    "- What is a virtual environement\n",
    "    A virtual environment is a space that helps to keep dependencies required by different projects separate from each other by creating isolated python virtual environments for them. This is one of the most important tools that most of the Python developers use.    \n",
    "    <br>\n",
    "    \n",
    "- The Terminal\n",
    "    Installing libraries in the terminal with conda-forge.   \n",
    "    Example: open the terminal.\n",
    "    <br>"
   ]
  },
  {
   "cell_type": "markdown",
   "metadata": {},
   "source": [
    "***\n",
    "### Other Other editors\n",
    "Pycharm (managing different versions of python and libraries, when?).  \n",
    "    Visual Studio Code (microsoft), also linked to anaconda. In the community is getting more and more attention. Not liked because by MS. But it might be interesting in the office since we are MS-100%. I did not investigate if it can be installed (in any case not from anaconda environement). \n",
    "    "
   ]
  },
  {
   "cell_type": "markdown",
   "metadata": {},
   "source": [
    "***\n",
    "### 1.5.a Running python from excel"
   ]
  },
  {
   "cell_type": "markdown",
   "metadata": {},
   "source": [
    "You need the path of the python interpreter (in this case anaconda python path)   \n",
    "And the path of the file you want to run   \n",
    "\n",
    "Write this in the shell (actually from whereever):    \n",
    "<br>\n",
    "C:\\Users\\jf30443\\AppData\\Local\\Continuum\\anaconda3\\python.exe   C:\\Users\\JF30443\\pyCODE\\Python4excel\\pyfile4excel.py\n",
    "\n",
    "<br>\n",
    "<br>\n",
    "open excel.     \n",
    "index sheet     \n",
    "function:runPySc"
   ]
  },
  {
   "cell_type": "markdown",
   "metadata": {},
   "source": [
    "***\n",
    "### 1.7. Hello world\n",
    "Lets go!!"
   ]
  },
  {
   "cell_type": "code",
   "execution_count": 1,
   "metadata": {},
   "outputs": [
    {
     "name": "stdout",
     "output_type": "stream",
     "text": [
      "hello world\n"
     ]
    }
   ],
   "source": [
    "print(\"hello world\")"
   ]
  },
  {
   "cell_type": "markdown",
   "metadata": {},
   "source": [
    "Example of something simple that only wroks from python3.4 on.    \n",
    "using the so called f-strings"
   ]
  },
  {
   "cell_type": "code",
   "execution_count": 9,
   "metadata": {},
   "outputs": [
    {
     "name": "stdout",
     "output_type": "stream",
     "text": [
      "I wish you happy new year in 2027\n",
      "I wish you happy new year in 2027\n"
     ]
    }
   ],
   "source": [
    "year = 2027\n",
    "greetings = 'happy new year'\n",
    "print(f'I wish you {greetings} in {year}')\n",
    "print('I wish you {} in {}'.format(greetings,year))\n",
    "\n",
    "\n",
    "# note about versions. The so called f-strings (above) where introduced in python 3.4.\n",
    "# this line of code would not work in python 2.7\n"
   ]
  },
  {
   "cell_type": "code",
   "execution_count": 10,
   "metadata": {},
   "outputs": [
    {
     "name": "stdout",
     "output_type": "stream",
     "text": [
      "<class 'int'>\n"
     ]
    }
   ],
   "source": [
    "print(type(year))"
   ]
  },
  {
   "cell_type": "code",
   "execution_count": 11,
   "metadata": {},
   "outputs": [
    {
     "name": "stdout",
     "output_type": "stream",
     "text": [
      "<class 'str'>\n"
     ]
    }
   ],
   "source": [
    "print(type(greetings))"
   ]
  },
  {
   "cell_type": "markdown",
   "metadata": {},
   "source": [
    "### Python symplicity\n",
    "There are many theories and many reasons why pyhton is popular, but look at this:    \n",
    "Here an examples of printing out in other languages   "
   ]
  },
  {
   "cell_type": "markdown",
   "metadata": {},
   "source": [
    "***\n",
    "C++:   \n",
    "#include <iostream>   \n",
    "   \n",
    "int main()\n",
    "{   \n",
    "    std::cout << \"Hello, world!\\n\";   \n",
    "    return 0;   \n",
    "}   \n",
    "***\n",
    "JAVA:   \n",
    "System.out.println(\"Hello World!\");    \n",
    "\n",
    "***\n",
    "\n",
    "What the hell is all that???"
   ]
  },
  {
   "cell_type": "markdown",
   "metadata": {},
   "source": [
    "***\n",
    "### 1.8. Reading and writing text files in disc"
   ]
  },
  {
   "cell_type": "markdown",
   "metadata": {},
   "source": [
    "The method is open. It is noramlly used with the womand with in order to avoid forgetting closing the file."
   ]
  },
  {
   "cell_type": "code",
   "execution_count": 14,
   "metadata": {},
   "outputs": [],
   "source": [
    "path_and_name = r'c:\\Users\\JF30443\\Desktop\\temp\\this_is_a_test.txt'\n",
    "\n",
    "with open(path_and_name,\"w\") as ramoncin:\n",
    "    ramoncin.write(\"this is a new line added to the file \" + \"\\n\")\n",
    "    \n",
    "# here the file is supposed to be closed"
   ]
  },
  {
   "cell_type": "markdown",
   "metadata": {},
   "source": [
    "Adding another line to the file  \n",
    "Open in append modus"
   ]
  },
  {
   "cell_type": "code",
   "execution_count": null,
   "metadata": {},
   "outputs": [],
   "source": [
    "for i in range(10):\n",
    "    with open(path_and_name,\"a\") as f:\n",
    "        f.write(f\"this is a new line added to the file {i}\" + \"\\n\")\n",
    "        print('I added a line')\n",
    "        "
   ]
  },
  {
   "cell_type": "code",
   "execution_count": 16,
   "metadata": {},
   "outputs": [
    {
     "name": "stdout",
     "output_type": "stream",
     "text": [
      "0.04476118087768555 seconds to open and close and write a line 100 times\n"
     ]
    }
   ],
   "source": [
    "import time\n",
    "\n",
    "nrfiles2open = 100\n",
    "tic = time.time()\n",
    "for i in range(nrfiles2open):\n",
    "    \n",
    "    with open(path_and_name,\"a\") as f:\n",
    "        f.write(f\"this is a new line added to the file {i}\" + \"\\n\")\n",
    "toc =time.time()\n",
    "print(f\"{toc-tic} seconds to open and close and write a line {nrfiles2open} times\" )"
   ]
  },
  {
   "cell_type": "markdown",
   "metadata": {},
   "source": [
    "Read all the content of a file"
   ]
  },
  {
   "cell_type": "code",
   "execution_count": 17,
   "metadata": {},
   "outputs": [],
   "source": [
    "with open(path_and_name,\"r\") as f:\n",
    "    first  = f.readlines()\n",
    "    \n",
    "with open(path_and_name,\"r\") as f:\n",
    "    second = f.read()"
   ]
  },
  {
   "cell_type": "code",
   "execution_count": 18,
   "metadata": {},
   "outputs": [
    {
     "name": "stdout",
     "output_type": "stream",
     "text": [
      "['this is a new line added to the file \\n', 'this is a new line added to the file 0\\n', 'this is a new line added to the file 1\\n', 'this is a new line added to the file 2\\n', 'this is a new line added to the file 3\\n', 'this is a new line added to the file 4\\n', 'this is a new line added to the file 5\\n', 'this is a new line added to the file 6\\n', 'this is a new line added to the file 7\\n', 'this is a new line added to the file 8\\n', 'this is a new line added to the file 9\\n', 'this is a new line added to the file 10\\n', 'this is a new line added to the file 11\\n', 'this is a new line added to the file 12\\n', 'this is a new line added to the file 13\\n', 'this is a new line added to the file 14\\n', 'this is a new line added to the file 15\\n', 'this is a new line added to the file 16\\n', 'this is a new line added to the file 17\\n', 'this is a new line added to the file 18\\n', 'this is a new line added to the file 19\\n', 'this is a new line added to the file 20\\n', 'this is a new line added to the file 21\\n', 'this is a new line added to the file 22\\n', 'this is a new line added to the file 23\\n', 'this is a new line added to the file 24\\n', 'this is a new line added to the file 25\\n', 'this is a new line added to the file 26\\n', 'this is a new line added to the file 27\\n', 'this is a new line added to the file 28\\n', 'this is a new line added to the file 29\\n', 'this is a new line added to the file 30\\n', 'this is a new line added to the file 31\\n', 'this is a new line added to the file 32\\n', 'this is a new line added to the file 33\\n', 'this is a new line added to the file 34\\n', 'this is a new line added to the file 35\\n', 'this is a new line added to the file 36\\n', 'this is a new line added to the file 37\\n', 'this is a new line added to the file 38\\n', 'this is a new line added to the file 39\\n', 'this is a new line added to the file 40\\n', 'this is a new line added to the file 41\\n', 'this is a new line added to the file 42\\n', 'this is a new line added to the file 43\\n', 'this is a new line added to the file 44\\n', 'this is a new line added to the file 45\\n', 'this is a new line added to the file 46\\n', 'this is a new line added to the file 47\\n', 'this is a new line added to the file 48\\n', 'this is a new line added to the file 49\\n', 'this is a new line added to the file 50\\n', 'this is a new line added to the file 51\\n', 'this is a new line added to the file 52\\n', 'this is a new line added to the file 53\\n', 'this is a new line added to the file 54\\n', 'this is a new line added to the file 55\\n', 'this is a new line added to the file 56\\n', 'this is a new line added to the file 57\\n', 'this is a new line added to the file 58\\n', 'this is a new line added to the file 59\\n', 'this is a new line added to the file 60\\n', 'this is a new line added to the file 61\\n', 'this is a new line added to the file 62\\n', 'this is a new line added to the file 63\\n', 'this is a new line added to the file 64\\n', 'this is a new line added to the file 65\\n', 'this is a new line added to the file 66\\n', 'this is a new line added to the file 67\\n', 'this is a new line added to the file 68\\n', 'this is a new line added to the file 69\\n', 'this is a new line added to the file 70\\n', 'this is a new line added to the file 71\\n', 'this is a new line added to the file 72\\n', 'this is a new line added to the file 73\\n', 'this is a new line added to the file 74\\n', 'this is a new line added to the file 75\\n', 'this is a new line added to the file 76\\n', 'this is a new line added to the file 77\\n', 'this is a new line added to the file 78\\n', 'this is a new line added to the file 79\\n', 'this is a new line added to the file 80\\n', 'this is a new line added to the file 81\\n', 'this is a new line added to the file 82\\n', 'this is a new line added to the file 83\\n', 'this is a new line added to the file 84\\n', 'this is a new line added to the file 85\\n', 'this is a new line added to the file 86\\n', 'this is a new line added to the file 87\\n', 'this is a new line added to the file 88\\n', 'this is a new line added to the file 89\\n', 'this is a new line added to the file 90\\n', 'this is a new line added to the file 91\\n', 'this is a new line added to the file 92\\n', 'this is a new line added to the file 93\\n', 'this is a new line added to the file 94\\n', 'this is a new line added to the file 95\\n', 'this is a new line added to the file 96\\n', 'this is a new line added to the file 97\\n', 'this is a new line added to the file 98\\n', 'this is a new line added to the file 99\\n', 'this is a new line added to the file 0\\n', 'this is a new line added to the file 1\\n', 'this is a new line added to the file 2\\n', 'this is a new line added to the file 3\\n', 'this is a new line added to the file 4\\n', 'this is a new line added to the file 5\\n', 'this is a new line added to the file 6\\n', 'this is a new line added to the file 7\\n', 'this is a new line added to the file 8\\n', 'this is a new line added to the file 9\\n', 'this is a new line added to the file 10\\n', 'this is a new line added to the file 11\\n', 'this is a new line added to the file 12\\n', 'this is a new line added to the file 13\\n', 'this is a new line added to the file 14\\n', 'this is a new line added to the file 15\\n', 'this is a new line added to the file 16\\n', 'this is a new line added to the file 17\\n', 'this is a new line added to the file 18\\n', 'this is a new line added to the file 19\\n', 'this is a new line added to the file 20\\n', 'this is a new line added to the file 21\\n', 'this is a new line added to the file 22\\n', 'this is a new line added to the file 23\\n', 'this is a new line added to the file 24\\n', 'this is a new line added to the file 25\\n', 'this is a new line added to the file 26\\n', 'this is a new line added to the file 27\\n', 'this is a new line added to the file 28\\n', 'this is a new line added to the file 29\\n', 'this is a new line added to the file 30\\n', 'this is a new line added to the file 31\\n', 'this is a new line added to the file 32\\n', 'this is a new line added to the file 33\\n', 'this is a new line added to the file 34\\n', 'this is a new line added to the file 35\\n', 'this is a new line added to the file 36\\n', 'this is a new line added to the file 37\\n', 'this is a new line added to the file 38\\n', 'this is a new line added to the file 39\\n', 'this is a new line added to the file 40\\n', 'this is a new line added to the file 41\\n', 'this is a new line added to the file 42\\n', 'this is a new line added to the file 43\\n', 'this is a new line added to the file 44\\n', 'this is a new line added to the file 45\\n', 'this is a new line added to the file 46\\n', 'this is a new line added to the file 47\\n', 'this is a new line added to the file 48\\n', 'this is a new line added to the file 49\\n', 'this is a new line added to the file 50\\n', 'this is a new line added to the file 51\\n', 'this is a new line added to the file 52\\n', 'this is a new line added to the file 53\\n', 'this is a new line added to the file 54\\n', 'this is a new line added to the file 55\\n', 'this is a new line added to the file 56\\n', 'this is a new line added to the file 57\\n', 'this is a new line added to the file 58\\n', 'this is a new line added to the file 59\\n', 'this is a new line added to the file 60\\n', 'this is a new line added to the file 61\\n', 'this is a new line added to the file 62\\n', 'this is a new line added to the file 63\\n', 'this is a new line added to the file 64\\n', 'this is a new line added to the file 65\\n', 'this is a new line added to the file 66\\n', 'this is a new line added to the file 67\\n', 'this is a new line added to the file 68\\n', 'this is a new line added to the file 69\\n', 'this is a new line added to the file 70\\n', 'this is a new line added to the file 71\\n', 'this is a new line added to the file 72\\n', 'this is a new line added to the file 73\\n', 'this is a new line added to the file 74\\n', 'this is a new line added to the file 75\\n', 'this is a new line added to the file 76\\n', 'this is a new line added to the file 77\\n', 'this is a new line added to the file 78\\n', 'this is a new line added to the file 79\\n', 'this is a new line added to the file 80\\n', 'this is a new line added to the file 81\\n', 'this is a new line added to the file 82\\n', 'this is a new line added to the file 83\\n', 'this is a new line added to the file 84\\n', 'this is a new line added to the file 85\\n', 'this is a new line added to the file 86\\n', 'this is a new line added to the file 87\\n', 'this is a new line added to the file 88\\n', 'this is a new line added to the file 89\\n', 'this is a new line added to the file 90\\n', 'this is a new line added to the file 91\\n', 'this is a new line added to the file 92\\n', 'this is a new line added to the file 93\\n', 'this is a new line added to the file 94\\n', 'this is a new line added to the file 95\\n', 'this is a new line added to the file 96\\n', 'this is a new line added to the file 97\\n', 'this is a new line added to the file 98\\n', 'this is a new line added to the file 99\\n']\n"
     ]
    }
   ],
   "source": [
    "print(first)"
   ]
  },
  {
   "cell_type": "code",
   "execution_count": 20,
   "metadata": {},
   "outputs": [
    {
     "name": "stdout",
     "output_type": "stream",
     "text": [
      "<class 'list'>\n"
     ]
    }
   ],
   "source": [
    "print(type(first))"
   ]
  },
  {
   "cell_type": "code",
   "execution_count": 19,
   "metadata": {},
   "outputs": [
    {
     "name": "stdout",
     "output_type": "stream",
     "text": [
      "this is a new line added to the file \n",
      "this is a new line added to the file 0\n",
      "this is a new line added to the file 1\n",
      "this is a new line added to the file 2\n",
      "this is a new line added to the file 3\n",
      "this is a new line added to the file 4\n",
      "this is a new line added to the file 5\n",
      "this is a new line added to the file 6\n",
      "this is a new line added to the file 7\n",
      "this is a new line added to the file 8\n",
      "this is a new line added to the file 9\n",
      "this is a new line added to the file 10\n",
      "this is a new line added to the file 11\n",
      "this is a new line added to the file 12\n",
      "this is a new line added to the file 13\n",
      "this is a new line added to the file 14\n",
      "this is a new line added to the file 15\n",
      "this is a new line added to the file 16\n",
      "this is a new line added to the file 17\n",
      "this is a new line added to the file 18\n",
      "this is a new line added to the file 19\n",
      "this is a new line added to the file 20\n",
      "this is a new line added to the file 21\n",
      "this is a new line added to the file 22\n",
      "this is a new line added to the file 23\n",
      "this is a new line added to the file 24\n",
      "this is a new line added to the file 25\n",
      "this is a new line added to the file 26\n",
      "this is a new line added to the file 27\n",
      "this is a new line added to the file 28\n",
      "this is a new line added to the file 29\n",
      "this is a new line added to the file 30\n",
      "this is a new line added to the file 31\n",
      "this is a new line added to the file 32\n",
      "this is a new line added to the file 33\n",
      "this is a new line added to the file 34\n",
      "this is a new line added to the file 35\n",
      "this is a new line added to the file 36\n",
      "this is a new line added to the file 37\n",
      "this is a new line added to the file 38\n",
      "this is a new line added to the file 39\n",
      "this is a new line added to the file 40\n",
      "this is a new line added to the file 41\n",
      "this is a new line added to the file 42\n",
      "this is a new line added to the file 43\n",
      "this is a new line added to the file 44\n",
      "this is a new line added to the file 45\n",
      "this is a new line added to the file 46\n",
      "this is a new line added to the file 47\n",
      "this is a new line added to the file 48\n",
      "this is a new line added to the file 49\n",
      "this is a new line added to the file 50\n",
      "this is a new line added to the file 51\n",
      "this is a new line added to the file 52\n",
      "this is a new line added to the file 53\n",
      "this is a new line added to the file 54\n",
      "this is a new line added to the file 55\n",
      "this is a new line added to the file 56\n",
      "this is a new line added to the file 57\n",
      "this is a new line added to the file 58\n",
      "this is a new line added to the file 59\n",
      "this is a new line added to the file 60\n",
      "this is a new line added to the file 61\n",
      "this is a new line added to the file 62\n",
      "this is a new line added to the file 63\n",
      "this is a new line added to the file 64\n",
      "this is a new line added to the file 65\n",
      "this is a new line added to the file 66\n",
      "this is a new line added to the file 67\n",
      "this is a new line added to the file 68\n",
      "this is a new line added to the file 69\n",
      "this is a new line added to the file 70\n",
      "this is a new line added to the file 71\n",
      "this is a new line added to the file 72\n",
      "this is a new line added to the file 73\n",
      "this is a new line added to the file 74\n",
      "this is a new line added to the file 75\n",
      "this is a new line added to the file 76\n",
      "this is a new line added to the file 77\n",
      "this is a new line added to the file 78\n",
      "this is a new line added to the file 79\n",
      "this is a new line added to the file 80\n",
      "this is a new line added to the file 81\n",
      "this is a new line added to the file 82\n",
      "this is a new line added to the file 83\n",
      "this is a new line added to the file 84\n",
      "this is a new line added to the file 85\n",
      "this is a new line added to the file 86\n",
      "this is a new line added to the file 87\n",
      "this is a new line added to the file 88\n",
      "this is a new line added to the file 89\n",
      "this is a new line added to the file 90\n",
      "this is a new line added to the file 91\n",
      "this is a new line added to the file 92\n",
      "this is a new line added to the file 93\n",
      "this is a new line added to the file 94\n",
      "this is a new line added to the file 95\n",
      "this is a new line added to the file 96\n",
      "this is a new line added to the file 97\n",
      "this is a new line added to the file 98\n",
      "this is a new line added to the file 99\n",
      "this is a new line added to the file 0\n",
      "this is a new line added to the file 1\n",
      "this is a new line added to the file 2\n",
      "this is a new line added to the file 3\n",
      "this is a new line added to the file 4\n",
      "this is a new line added to the file 5\n",
      "this is a new line added to the file 6\n",
      "this is a new line added to the file 7\n",
      "this is a new line added to the file 8\n",
      "this is a new line added to the file 9\n",
      "this is a new line added to the file 10\n",
      "this is a new line added to the file 11\n",
      "this is a new line added to the file 12\n",
      "this is a new line added to the file 13\n",
      "this is a new line added to the file 14\n",
      "this is a new line added to the file 15\n",
      "this is a new line added to the file 16\n",
      "this is a new line added to the file 17\n",
      "this is a new line added to the file 18\n",
      "this is a new line added to the file 19\n",
      "this is a new line added to the file 20\n",
      "this is a new line added to the file 21\n",
      "this is a new line added to the file 22\n",
      "this is a new line added to the file 23\n",
      "this is a new line added to the file 24\n",
      "this is a new line added to the file 25\n",
      "this is a new line added to the file 26\n",
      "this is a new line added to the file 27\n",
      "this is a new line added to the file 28\n",
      "this is a new line added to the file 29\n",
      "this is a new line added to the file 30\n",
      "this is a new line added to the file 31\n",
      "this is a new line added to the file 32\n",
      "this is a new line added to the file 33\n",
      "this is a new line added to the file 34\n",
      "this is a new line added to the file 35\n",
      "this is a new line added to the file 36\n",
      "this is a new line added to the file 37\n",
      "this is a new line added to the file 38\n",
      "this is a new line added to the file 39\n",
      "this is a new line added to the file 40\n",
      "this is a new line added to the file 41\n",
      "this is a new line added to the file 42\n",
      "this is a new line added to the file 43\n",
      "this is a new line added to the file 44\n",
      "this is a new line added to the file 45\n",
      "this is a new line added to the file 46\n",
      "this is a new line added to the file 47\n",
      "this is a new line added to the file 48\n",
      "this is a new line added to the file 49\n",
      "this is a new line added to the file 50\n",
      "this is a new line added to the file 51\n",
      "this is a new line added to the file 52\n",
      "this is a new line added to the file 53\n",
      "this is a new line added to the file 54\n",
      "this is a new line added to the file 55\n",
      "this is a new line added to the file 56\n",
      "this is a new line added to the file 57\n",
      "this is a new line added to the file 58\n",
      "this is a new line added to the file 59\n",
      "this is a new line added to the file 60\n",
      "this is a new line added to the file 61\n",
      "this is a new line added to the file 62\n",
      "this is a new line added to the file 63\n",
      "this is a new line added to the file 64\n",
      "this is a new line added to the file 65\n",
      "this is a new line added to the file 66\n",
      "this is a new line added to the file 67\n",
      "this is a new line added to the file 68\n",
      "this is a new line added to the file 69\n",
      "this is a new line added to the file 70\n",
      "this is a new line added to the file 71\n",
      "this is a new line added to the file 72\n",
      "this is a new line added to the file 73\n",
      "this is a new line added to the file 74\n",
      "this is a new line added to the file 75\n",
      "this is a new line added to the file 76\n",
      "this is a new line added to the file 77\n",
      "this is a new line added to the file 78\n",
      "this is a new line added to the file 79\n",
      "this is a new line added to the file 80\n",
      "this is a new line added to the file 81\n",
      "this is a new line added to the file 82\n",
      "this is a new line added to the file 83\n",
      "this is a new line added to the file 84\n",
      "this is a new line added to the file 85\n",
      "this is a new line added to the file 86\n",
      "this is a new line added to the file 87\n",
      "this is a new line added to the file 88\n",
      "this is a new line added to the file 89\n",
      "this is a new line added to the file 90\n",
      "this is a new line added to the file 91\n",
      "this is a new line added to the file 92\n",
      "this is a new line added to the file 93\n",
      "this is a new line added to the file 94\n",
      "this is a new line added to the file 95\n",
      "this is a new line added to the file 96\n",
      "this is a new line added to the file 97\n",
      "this is a new line added to the file 98\n",
      "this is a new line added to the file 99\n",
      "\n"
     ]
    }
   ],
   "source": [
    "print(second)"
   ]
  },
  {
   "cell_type": "code",
   "execution_count": 24,
   "metadata": {},
   "outputs": [
    {
     "name": "stdout",
     "output_type": "stream",
     "text": [
      "<class 'str'>\n"
     ]
    }
   ],
   "source": [
    "print(type(second))"
   ]
  },
  {
   "cell_type": "markdown",
   "metadata": {
    "scrolled": false
   },
   "source": [
    "***"
   ]
  },
  {
   "cell_type": "markdown",
   "metadata": {},
   "source": [
    "Show Jupyter notebook functionality    \n",
    "Show google colab    \n",
    "https://colab.research.google.com/notebooks/welcome.ipynb"
   ]
  },
  {
   "cell_type": "markdown",
   "metadata": {},
   "source": [
    "***\n"
   ]
  },
  {
   "cell_type": "markdown",
   "metadata": {},
   "source": [
    "### THE END \n",
    "### part 1\n",
    "### Q&A lesson 1"
   ]
  },
  {
   "cell_type": "code",
   "execution_count": 25,
   "metadata": {},
   "outputs": [],
   "source": [
    "import pandas\n"
   ]
  },
  {
   "cell_type": "code",
   "execution_count": 27,
   "metadata": {},
   "outputs": [
    {
     "name": "stdout",
     "output_type": "stream",
     "text": [
      "sdfsdfsf\n"
     ]
    }
   ],
   "source": [
    "a = input()"
   ]
  },
  {
   "cell_type": "code",
   "execution_count": 28,
   "metadata": {},
   "outputs": [
    {
     "name": "stdout",
     "output_type": "stream",
     "text": [
      "sdfsdfsf\n"
     ]
    }
   ],
   "source": [
    "print(a)"
   ]
  },
  {
   "cell_type": "code",
   "execution_count": null,
   "metadata": {},
   "outputs": [],
   "source": []
  }
 ],
 "metadata": {
  "kernelspec": {
   "display_name": "Python 3",
   "language": "python",
   "name": "python3"
  },
  "language_info": {
   "codemirror_mode": {
    "name": "ipython",
    "version": 3
   },
   "file_extension": ".py",
   "mimetype": "text/x-python",
   "name": "python",
   "nbconvert_exporter": "python",
   "pygments_lexer": "ipython3",
   "version": "3.7.4"
  }
 },
 "nbformat": 4,
 "nbformat_minor": 2
}
