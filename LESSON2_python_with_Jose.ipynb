{
 "cells": [
  {
   "cell_type": "markdown",
   "metadata": {},
   "source": [
    "## LESSON 2: BASICS"
   ]
  },
  {
   "cell_type": "markdown",
   "metadata": {},
   "source": [
    "2.1.\tLists, tupples  \n",
    "2.2.\tManipulating lists (append, pop etc)  \n",
    "2.3.\tText functions (strings).  \n",
    "2.4.\tText formatting: f strings  .format, concatenate, split, etc  \n",
    "2.5.\tDefining functions   \n",
    "2.6.\tFor excel lovers: xlwings, pyxll [this las one just recently discovered and very promising]"
   ]
  },
  {
   "cell_type": "markdown",
   "metadata": {},
   "source": [
    "### List, tuppels\n",
    "I will not go into the kind of variables that are available in Python.  \n",
    "Basically like in any other language (int,float,str, bool, etc)    \n",
    "\n",
    "You dont have to declare variables !!!!!   \n",
    "VBA: Dim a as integer   \n",
    "Python assumes what kind of variable it is depending on what is inside.   "
   ]
  },
  {
   "cell_type": "code",
   "execution_count": 1,
   "metadata": {},
   "outputs": [
    {
     "data": {
      "text/plain": [
       "['first', 'second', 'third', 'fourth']"
      ]
     },
     "execution_count": 1,
     "metadata": {},
     "output_type": "execute_result"
    }
   ],
   "source": [
    "my_first_list =['first', 'second','third','fourth']\n",
    "my_first_list"
   ]
  },
  {
   "cell_type": "markdown",
   "metadata": {},
   "source": [
    "Manipulating lists"
   ]
  },
  {
   "cell_type": "code",
   "execution_count": 2,
   "metadata": {},
   "outputs": [
    {
     "data": {
      "text/plain": [
       "['first', 'second', 'third', 'fourth', 'this is an appended value']"
      ]
     },
     "execution_count": 2,
     "metadata": {},
     "output_type": "execute_result"
    }
   ],
   "source": [
    "my_first_list.append('this is an appended value')\n",
    "my_first_list"
   ]
  },
  {
   "cell_type": "code",
   "execution_count": 3,
   "metadata": {},
   "outputs": [],
   "source": [
    "my_first_list[1] = 'I changed value 2'"
   ]
  },
  {
   "cell_type": "code",
   "execution_count": 4,
   "metadata": {},
   "outputs": [
    {
     "name": "stdout",
     "output_type": "stream",
     "text": [
      "first\n",
      "I changed value 2\n",
      "third\n",
      "fourth\n",
      "this is an appended value\n"
     ]
    }
   ],
   "source": [
    "for element in my_first_list:\n",
    "    print(element)"
   ]
  },
  {
   "cell_type": "code",
   "execution_count": 81,
   "metadata": {},
   "outputs": [
    {
     "name": "stdout",
     "output_type": "stream",
     "text": [
      "element nr 0 is: first\n",
      "f_stirng: element nr 0 is: first\n",
      "element nr 1 is: I changed value 2\n",
      "f_stirng: element nr 1 is: I changed value 2\n",
      "element nr 2 is: fourth\n",
      "f_stirng: element nr 2 is: fourth\n",
      "element nr 3 is: this is an appended value\n",
      "f_stirng: element nr 3 is: this is an appended value\n"
     ]
    }
   ],
   "source": [
    "for i,element in enumerate(my_first_list):\n",
    "    print('element nr %s is: %s' % (i,element))\n",
    "    print(f'f_stirng: element nr {i} is: {element}')"
   ]
  },
  {
   "cell_type": "code",
   "execution_count": 82,
   "metadata": {},
   "outputs": [
    {
     "name": "stdout",
     "output_type": "stream",
     "text": [
      "element nr 0 is: first\n",
      "element nr 1 is: I changed value 2\n",
      "element nr 2 is: fourth\n",
      "element nr 3 is: this is an appended value\n"
     ]
    }
   ],
   "source": [
    "# f strings\n",
    "for i,element in enumerate(my_first_list):\n",
    "    print(f'element nr {i} is: {element}')"
   ]
  },
  {
   "cell_type": "markdown",
   "metadata": {},
   "source": [
    "slicing lists"
   ]
  },
  {
   "cell_type": "code",
   "execution_count": 7,
   "metadata": {},
   "outputs": [
    {
     "data": {
      "text/plain": [
       "['third', 'fourth']"
      ]
     },
     "execution_count": 7,
     "metadata": {},
     "output_type": "execute_result"
    }
   ],
   "source": [
    "from_nr  = 2\n",
    "up_to_nr = 4\n",
    "my_first_list[from_nr:up_to_nr]\n",
    "# it is zero based index"
   ]
  },
  {
   "cell_type": "code",
   "execution_count": 8,
   "metadata": {},
   "outputs": [
    {
     "data": {
      "text/plain": [
       "[]"
      ]
     },
     "execution_count": 8,
     "metadata": {},
     "output_type": "execute_result"
    }
   ],
   "source": [
    "one_element = 3\n",
    "my_first_list[one_element:one_element]\n",
    "# does not get any element"
   ]
  },
  {
   "cell_type": "code",
   "execution_count": 9,
   "metadata": {},
   "outputs": [
    {
     "data": {
      "text/plain": [
       "['fourth']"
      ]
     },
     "execution_count": 9,
     "metadata": {},
     "output_type": "execute_result"
    }
   ],
   "source": [
    "my_first_list[one_element:one_element+1]"
   ]
  },
  {
   "cell_type": "markdown",
   "metadata": {},
   "source": [
    "pop elements"
   ]
  },
  {
   "cell_type": "code",
   "execution_count": 10,
   "metadata": {},
   "outputs": [
    {
     "data": {
      "text/plain": [
       "['first', 'I changed value 2', 'fourth', 'this is an appended value']"
      ]
     },
     "execution_count": 10,
     "metadata": {},
     "output_type": "execute_result"
    }
   ],
   "source": [
    "my_first_list.pop(2)\n",
    "my_first_list\n",
    "# be careful in jupyter when running the same cell several times."
   ]
  },
  {
   "cell_type": "markdown",
   "metadata": {},
   "source": [
    "Other methods for lists"
   ]
  },
  {
   "cell_type": "code",
   "execution_count": 11,
   "metadata": {},
   "outputs": [
    {
     "name": "stdout",
     "output_type": "stream",
     "text": [
      "['__add__', '__class__', '__contains__', '__delattr__', '__delitem__', '__dir__', '__doc__', '__eq__', '__format__', '__ge__', '__getattribute__', '__getitem__', '__gt__', '__hash__', '__iadd__', '__imul__', '__init__', '__init_subclass__', '__iter__', '__le__', '__len__', '__lt__', '__mul__', '__ne__', '__new__', '__reduce__', '__reduce_ex__', '__repr__', '__reversed__', '__rmul__', '__setattr__', '__setitem__', '__sizeof__', '__str__', '__subclasshook__', 'append', 'clear', 'copy', 'count', 'extend', 'index', 'insert', 'pop', 'remove', 'reverse', 'sort']\n"
     ]
    }
   ],
   "source": [
    "print(dir(list))"
   ]
  },
  {
   "cell_type": "markdown",
   "metadata": {},
   "source": [
    "You can put anything in a list of course.    \n",
    "Everything in python is an object.   \n",
    "You can have a list of lists, including tuples, including entire files etcetc"
   ]
  },
  {
   "cell_type": "code",
   "execution_count": 12,
   "metadata": {},
   "outputs": [
    {
     "name": "stdout",
     "output_type": "stream",
     "text": [
      "element nr 0 is: this is a text\n",
      "element nr 1 is: [2, 3, 4, 5]\n",
      "element nr 2 is: ['another list', 2, 3, [4, 5]]\n"
     ]
    }
   ],
   "source": [
    "crazy_list = ['this is a text',[2,3,4,5],['another list', 2,3,[4,5]]]\n",
    "for i,element in enumerate(crazy_list):\n",
    "    print('element nr %s is: %s' % (i,element))\n",
    "    "
   ]
  },
  {
   "cell_type": "code",
   "execution_count": 13,
   "metadata": {},
   "outputs": [
    {
     "name": "stdout",
     "output_type": "stream",
     "text": [
      "['another list', 2, 3, [4, 5]]\n"
     ]
    }
   ],
   "source": [
    "element3 = crazy_list[2]\n",
    "print(element3)"
   ]
  },
  {
   "cell_type": "code",
   "execution_count": 14,
   "metadata": {},
   "outputs": [],
   "source": [
    "element2of3 = element3 "
   ]
  },
  {
   "cell_type": "markdown",
   "metadata": {},
   "source": [
    "Shallow copy / real copy"
   ]
  },
  {
   "cell_type": "code",
   "execution_count": 15,
   "metadata": {},
   "outputs": [],
   "source": [
    "a=[1,2,3,4,5]\n",
    "b=a\n",
    "b[2] = 555"
   ]
  },
  {
   "cell_type": "code",
   "execution_count": 16,
   "metadata": {},
   "outputs": [
    {
     "name": "stdout",
     "output_type": "stream",
     "text": [
      "[1, 2, 555, 4, 5]\n"
     ]
    }
   ],
   "source": [
    "# does a change?\n",
    "print(a)\n",
    "# yes, b points to b"
   ]
  },
  {
   "cell_type": "code",
   "execution_count": 17,
   "metadata": {},
   "outputs": [
    {
     "name": "stdout",
     "output_type": "stream",
     "text": [
      "[6, 7, 8, 9]\n",
      "[6, 7, 8, 999]\n"
     ]
    }
   ],
   "source": [
    "c=[6,7,8,9]\n",
    "d=c.copy()\n",
    "d[3]=999\n",
    "print(c)\n",
    "print(d)"
   ]
  },
  {
   "cell_type": "markdown",
   "metadata": {},
   "source": [
    "#### Tupples  \n",
    "A tupple is an unmutable object.  \n",
    "Once created you can not change it.  \n",
    "Worth having a look to mutable and unmutable objects.   \n",
    "In lists you can add, pop, reverse, etcetc, in tupples not.   \n",
    "\n",
    "NOTE: I have never felt the need for using tuples.\n",
    "\n"
   ]
  },
  {
   "cell_type": "code",
   "execution_count": 18,
   "metadata": {},
   "outputs": [],
   "source": [
    "my_tuple=(4,5,6,7)"
   ]
  },
  {
   "cell_type": "markdown",
   "metadata": {},
   "source": [
    "Tuples are inmutable"
   ]
  },
  {
   "cell_type": "code",
   "execution_count": 19,
   "metadata": {},
   "outputs": [
    {
     "name": "stdout",
     "output_type": "stream",
     "text": [
      "error\n"
     ]
    }
   ],
   "source": [
    "try:\n",
    "    my_tuple[2] = 'I want to change value number 3'\n",
    "except:\n",
    "    print('error')"
   ]
  },
  {
   "cell_type": "code",
   "execution_count": 20,
   "metadata": {},
   "outputs": [
    {
     "name": "stdout",
     "output_type": "stream",
     "text": [
      "<class 'tuple'>\n"
     ]
    }
   ],
   "source": [
    "print(type(my_tuple))"
   ]
  },
  {
   "cell_type": "code",
   "execution_count": 21,
   "metadata": {},
   "outputs": [
    {
     "name": "stdout",
     "output_type": "stream",
     "text": [
      "element nr 0 is: 4\n",
      "element nr 1 is: 5\n",
      "element nr 2 is: 6\n",
      "element nr 3 is: 7\n"
     ]
    }
   ],
   "source": [
    "for i,element in enumerate(my_tuple):\n",
    "    print('element nr %s is: %s' % (i,element))"
   ]
  },
  {
   "cell_type": "code",
   "execution_count": 22,
   "metadata": {},
   "outputs": [
    {
     "name": "stdout",
     "output_type": "stream",
     "text": [
      "['__add__', '__class__', '__contains__', '__delattr__', '__dir__', '__doc__', '__eq__', '__format__', '__ge__', '__getattribute__', '__getitem__', '__getnewargs__', '__gt__', '__hash__', '__init__', '__init_subclass__', '__iter__', '__le__', '__len__', '__lt__', '__mul__', '__ne__', '__new__', '__reduce__', '__reduce_ex__', '__repr__', '__rmul__', '__setattr__', '__sizeof__', '__str__', '__subclasshook__', 'count', 'index']\n"
     ]
    }
   ],
   "source": [
    "print(dir(tuple))"
   ]
  },
  {
   "cell_type": "code",
   "execution_count": 23,
   "metadata": {},
   "outputs": [
    {
     "name": "stdout",
     "output_type": "stream",
     "text": [
      "['__delitem__', '__iadd__', '__imul__', '__reversed__', '__setitem__', 'append', 'clear', 'copy', 'extend', 'insert', 'pop', 'remove', 'reverse', 'sort']\n"
     ]
    }
   ],
   "source": [
    "list_of_methods_for_list = dir(list)\n",
    "list_of_methods_for_tuple = dir(tuple)\n",
    "\n",
    "list_of_methods_only_in_list = [method for method in list_of_methods_for_list if method not in list_of_methods_for_tuple]\n",
    "\n",
    "print(list_of_methods_only_in_list)"
   ]
  },
  {
   "cell_type": "markdown",
   "metadata": {},
   "source": [
    "### Text functions (strings)"
   ]
  },
  {
   "cell_type": "code",
   "execution_count": 24,
   "metadata": {},
   "outputs": [],
   "source": [
    "mystring=\"Lorem Ipsum is simply dummy text of the printing and typesetting industry\""
   ]
  },
  {
   "cell_type": "code",
   "execution_count": 25,
   "metadata": {},
   "outputs": [
    {
     "data": {
      "text/plain": [
       "True"
      ]
     },
     "execution_count": 25,
     "metadata": {},
     "output_type": "execute_result"
    }
   ],
   "source": [
    "mystring.endswith(\"y\")"
   ]
  },
  {
   "cell_type": "code",
   "execution_count": 26,
   "metadata": {},
   "outputs": [
    {
     "data": {
      "text/plain": [
       "'Lorem Ipsum is simply dummy text of the printing and typesetting industrysome other text'"
      ]
     },
     "execution_count": 26,
     "metadata": {},
     "output_type": "execute_result"
    }
   ],
   "source": [
    "mystring = mystring + \"some other text\"\n",
    "mystring"
   ]
  },
  {
   "cell_type": "code",
   "execution_count": 27,
   "metadata": {},
   "outputs": [
    {
     "data": {
      "text/plain": [
       "['Lorem',\n",
       " 'Ipsum',\n",
       " 'is',\n",
       " 'simply',\n",
       " 'dummy',\n",
       " 'text',\n",
       " 'of',\n",
       " 'the',\n",
       " 'printing',\n",
       " 'and',\n",
       " 'typesetting',\n",
       " 'industrysome',\n",
       " 'other',\n",
       " 'text']"
      ]
     },
     "execution_count": 27,
     "metadata": {},
     "output_type": "execute_result"
    }
   ],
   "source": [
    "tokenized = mystring.split(\" \")\n",
    "tokenized"
   ]
  },
  {
   "cell_type": "code",
   "execution_count": 28,
   "metadata": {},
   "outputs": [
    {
     "data": {
      "text/plain": [
       "'re'"
      ]
     },
     "execution_count": 28,
     "metadata": {},
     "output_type": "execute_result"
    }
   ],
   "source": [
    "# a string can be thought of as a list\n",
    "mystring[2:4]"
   ]
  },
  {
   "cell_type": "code",
   "execution_count": 29,
   "metadata": {},
   "outputs": [
    {
     "name": "stdout",
     "output_type": "stream",
     "text": [
      "['__add__', '__class__', '__contains__', '__delattr__', '__dir__', '__doc__', '__eq__', '__format__', '__ge__', '__getattribute__', '__getitem__', '__getnewargs__', '__gt__', '__hash__', '__init__', '__init_subclass__', '__iter__', '__le__', '__len__', '__lt__', '__mod__', '__mul__', '__ne__', '__new__', '__reduce__', '__reduce_ex__', '__repr__', '__rmod__', '__rmul__', '__setattr__', '__sizeof__', '__str__', '__subclasshook__', 'capitalize', 'casefold', 'center', 'count', 'encode', 'endswith', 'expandtabs', 'find', 'format', 'format_map', 'index', 'isalnum', 'isalpha', 'isascii', 'isdecimal', 'isdigit', 'isidentifier', 'islower', 'isnumeric', 'isprintable', 'isspace', 'istitle', 'isupper', 'join', 'ljust', 'lower', 'lstrip', 'maketrans', 'partition', 'replace', 'rfind', 'rindex', 'rjust', 'rpartition', 'rsplit', 'rstrip', 'split', 'splitlines', 'startswith', 'strip', 'swapcase', 'title', 'translate', 'upper', 'zfill']\n"
     ]
    }
   ],
   "source": [
    "print(dir(str))"
   ]
  },
  {
   "cell_type": "markdown",
   "metadata": {},
   "source": [
    "### list comprehensions\n",
    "List comprehensions provide a concise way to create lists.    \n",
    "\n",
    "It consists of brackets containing an expression followed by a for clause.   \n",
    "\n",
    "At this level this is one of the most pythonic ways in python.\n",
    "\n",
    "Lets see an example"
   ]
  },
  {
   "cell_type": "code",
   "execution_count": 30,
   "metadata": {},
   "outputs": [],
   "source": [
    "A = [1,3,5,3,6,8,9,23,45,22,64]\n",
    "B = [3,6,2,7,9,23,4,55,78,54,4]"
   ]
  },
  {
   "cell_type": "code",
   "execution_count": 31,
   "metadata": {},
   "outputs": [
    {
     "name": "stdout",
     "output_type": "stream",
     "text": [
      "[6, 8, 22, 64]\n"
     ]
    }
   ],
   "source": [
    "# get the list of all the elements even in A\n",
    "even_list = [element_of_A for element_of_A in A if element_of_A%2 == 0]\n",
    "print(even_list)"
   ]
  },
  {
   "cell_type": "code",
   "execution_count": 32,
   "metadata": {},
   "outputs": [
    {
     "name": "stdout",
     "output_type": "stream",
     "text": [
      "[2, 7, 4, 55, 78, 54, 4]\n"
     ]
    }
   ],
   "source": [
    "# get the list of all the elements in B not in A\n",
    "B_not_A_list = [element_of_B for element_of_B in B if element_of_B not in A]\n",
    "print(B_not_A_list)"
   ]
  },
  {
   "cell_type": "code",
   "execution_count": 33,
   "metadata": {},
   "outputs": [
    {
     "name": "stdout",
     "output_type": "stream",
     "text": [
      "[2, 4, 78, 54, 4]\n"
     ]
    }
   ],
   "source": [
    "# get the list of all the elements in B not in A and even\n",
    "B_not_A_even_list = [element_of_B for element_of_B in B if (element_of_B not in A and element_of_B%2 == 0)]\n",
    "print(B_not_A_even_list)"
   ]
  },
  {
   "cell_type": "markdown",
   "metadata": {},
   "source": [
    "### Time to ZEN\n",
    "Why is time to ZEN?   \n",
    "because lines are getting too long.    \n",
    "Things are getting too complicated.   \n",
    "\n",
    "How is programming done in python?\n",
    "Following the Zen of python\n",
    "(well not really but worth to think about)"
   ]
  },
  {
   "cell_type": "code",
   "execution_count": 34,
   "metadata": {},
   "outputs": [
    {
     "name": "stdout",
     "output_type": "stream",
     "text": [
      "The Zen of Python, by Tim Peters\n",
      "\n",
      "Beautiful is better than ugly.\n",
      "Explicit is better than implicit.\n",
      "Simple is better than complex.\n",
      "Complex is better than complicated.\n",
      "Flat is better than nested.\n",
      "Sparse is better than dense.\n",
      "Readability counts.\n",
      "Special cases aren't special enough to break the rules.\n",
      "Although practicality beats purity.\n",
      "Errors should never pass silently.\n",
      "Unless explicitly silenced.\n",
      "In the face of ambiguity, refuse the temptation to guess.\n",
      "There should be one-- and preferably only one --obvious way to do it.\n",
      "Although that way may not be obvious at first unless you're Dutch.\n",
      "Now is better than never.\n",
      "Although never is often better than *right* now.\n",
      "If the implementation is hard to explain, it's a bad idea.\n",
      "If the implementation is easy to explain, it may be a good idea.\n",
      "Namespaces are one honking great idea -- let's do more of those!\n"
     ]
    }
   ],
   "source": [
    "import this"
   ]
  },
  {
   "cell_type": "markdown",
   "metadata": {},
   "source": [
    "### PEP 8\n",
    "Python Enhancement Proposal.\n",
    "PEP 8 is Python's style guide. It's a set of rules for how to format your Python code to maximize its readability. Writing code to a specification helps to make large code bases, with lots of writers, more uniform and predictable, too.   \n",
    "\n",
    "Is it important to stick to PEP8?   \n",
    "PEP 8 exists to improve the readability of Python code. But why is readability so important? Why is writing readable code one of the guiding principles of the Python language?   \n",
    "\n",
    "As Guido van Rossum said, “Code is read much more often than it is written.”    \n",
    "\n",
    "Check for PEP8 conventions online. There are hundreds of pages.\n",
    "\n",
    "as a matter of example:\n",
    "pep8 says that a line might not have more than 79 chareacteres.   \n",
    "\n",
    "there are python modules helping to format code accordingly."
   ]
  },
  {
   "cell_type": "code",
   "execution_count": 35,
   "metadata": {},
   "outputs": [
    {
     "name": "stdout",
     "output_type": "stream",
     "text": [
      "[2, 4, 78, 54, 4]\n"
     ]
    }
   ],
   "source": [
    "# bad:\n",
    "B_not_A_even_list = [element_of_B for element_of_B in B if (element_of_B not in A and element_of_B%2 == 0)]\n",
    "\n",
    "# better:\n",
    "B_not_A_even_list = [\n",
    "    element_of_B for element_of_B in B if (\n",
    "        element_of_B not in A and element_of_B%2 == 0\n",
    "    )]\n",
    "print(B_not_A_even_list)"
   ]
  },
  {
   "cell_type": "markdown",
   "metadata": {},
   "source": [
    "### Functions/methods"
   ]
  },
  {
   "cell_type": "code",
   "execution_count": 36,
   "metadata": {},
   "outputs": [
    {
     "name": "stdout",
     "output_type": "stream",
     "text": [
      "-10\n"
     ]
    }
   ],
   "source": [
    "def my_first_method(variable1,variable2):\n",
    "    operation=(variable1 - variable2)^3\n",
    "            \n",
    "    return operation\n",
    "    \n",
    "    \n",
    "variable1 = 34\n",
    "variable2 = 45\n",
    "\n",
    "print(my_first_method(variable1,variable2))"
   ]
  },
  {
   "cell_type": "markdown",
   "metadata": {},
   "source": [
    "### Functions inside of funcitons"
   ]
  },
  {
   "cell_type": "code",
   "execution_count": 37,
   "metadata": {},
   "outputs": [
    {
     "name": "stdout",
     "output_type": "stream",
     "text": [
      "passing in func inside 1: 2\n",
      "4\n",
      "passing in func inside 2: 4\n",
      "16\n",
      "20\n"
     ]
    }
   ],
   "source": [
    "def method2(var1,var2):\n",
    "    '''\n",
    "    write doc string\n",
    "    \n",
    "    '''\n",
    "    \n",
    "    def func_inside1 (var1):\n",
    "        print('passing in func inside 1:',var1)\n",
    "        c = var1*var1\n",
    "        print(c)\n",
    "        return c\n",
    "    \n",
    "    def func_inside2 (var2):\n",
    "        print('passing in func inside 2:',var2)\n",
    "        c= var2*var2\n",
    "        print(c)\n",
    "        return c\n",
    "    \n",
    "    result = func_inside1(var1) + func_inside2(var2)\n",
    "    \n",
    "    return result\n",
    "    \n",
    "nr1 = 2\n",
    "nr2 = 4\n",
    "\n",
    "print(method2(nr1,nr2))"
   ]
  },
  {
   "cell_type": "markdown",
   "metadata": {},
   "source": [
    "### Importing your own modules"
   ]
  },
  {
   "cell_type": "markdown",
   "metadata": {},
   "source": [
    "Question: Deal first with managing your own funcitons or with standard lybraries?\n"
   ]
  },
  {
   "cell_type": "code",
   "execution_count": 38,
   "metadata": {},
   "outputs": [],
   "source": [
    "from my_functions import jose_function1,jose_function2"
   ]
  },
  {
   "cell_type": "code",
   "execution_count": 39,
   "metadata": {},
   "outputs": [
    {
     "name": "stdout",
     "output_type": "stream",
     "text": [
      "\n",
      "    this is the doc string of jose_function1(a,b)\n",
      "    This is a function to show you how to import your own functions\n",
      "    \n",
      "    this particular function performs:\n",
      "    Input:\n",
      "        a,b\n",
      "    Return\n",
      "        a+b\n",
      "    Error checking: none\n",
      "    Error type variables: none\n",
      "    the return line is a+b\n",
      "    \n",
      "    \n"
     ]
    }
   ],
   "source": [
    "print(jose_function1.__doc__)"
   ]
  },
  {
   "cell_type": "code",
   "execution_count": 40,
   "metadata": {},
   "outputs": [
    {
     "data": {
      "text/plain": [
       "10"
      ]
     },
     "execution_count": 40,
     "metadata": {},
     "output_type": "execute_result"
    }
   ],
   "source": [
    "jose_function1(4,6)"
   ]
  },
  {
   "cell_type": "code",
   "execution_count": 41,
   "metadata": {},
   "outputs": [
    {
     "data": {
      "text/plain": [
       "24"
      ]
     },
     "execution_count": 41,
     "metadata": {},
     "output_type": "execute_result"
    }
   ],
   "source": [
    "jose_function2(4,6)"
   ]
  },
  {
   "cell_type": "code",
   "execution_count": null,
   "metadata": {},
   "outputs": [],
   "source": []
  },
  {
   "cell_type": "markdown",
   "metadata": {},
   "source": [
    "I could have imported everything"
   ]
  },
  {
   "cell_type": "code",
   "execution_count": 42,
   "metadata": {},
   "outputs": [],
   "source": [
    "from my_functions import *"
   ]
  },
  {
   "cell_type": "markdown",
   "metadata": {},
   "source": [
    "To group many .py files put them in a folder.  \n",
    "Any folder with an __ init __.py is considered a module by python and you can call them a package\n",
    "\n",
    "Show here the folder my_first_package   \n",
    "\n",
    "Important note:   \n",
    "A powerful feature of Jupyter / IPython (indeed, of Python itself) is that you can interact with your data from the (I)Python command line. In order to provide this functionality, the modules which hold your data remain alive between invocations.\n",
    "Therefore once a module is imported, it stays imported, and re-importing it has no effect at all.\n",
    "\n",
    "\n"
   ]
  },
  {
   "cell_type": "code",
   "execution_count": 43,
   "metadata": {},
   "outputs": [],
   "source": [
    "import my_first_package.nicer_functions"
   ]
  },
  {
   "cell_type": "code",
   "execution_count": 44,
   "metadata": {},
   "outputs": [
    {
     "name": "stdout",
     "output_type": "stream",
     "text": [
      "['__builtins__', '__cached__', '__doc__', '__file__', '__loader__', '__name__', '__package__', '__path__', '__spec__', 'nice_func_add3', 'nicer_functions']\n"
     ]
    }
   ],
   "source": [
    "print(dir(my_first_package))"
   ]
  },
  {
   "cell_type": "code",
   "execution_count": 45,
   "metadata": {},
   "outputs": [
    {
     "name": "stdout",
     "output_type": "stream",
     "text": [
      "\n",
      "This is the doc string contained in the __init__.py file\n",
      "\n"
     ]
    }
   ],
   "source": [
    "print(my_first_package.__doc__)"
   ]
  },
  {
   "cell_type": "code",
   "execution_count": 46,
   "metadata": {},
   "outputs": [
    {
     "data": {
      "text/plain": [
       "['__builtins__',\n",
       " '__cached__',\n",
       " '__doc__',\n",
       " '__file__',\n",
       " '__loader__',\n",
       " '__name__',\n",
       " '__package__',\n",
       " '__spec__',\n",
       " 'hallo']"
      ]
     },
     "execution_count": 46,
     "metadata": {},
     "output_type": "execute_result"
    }
   ],
   "source": [
    "dir(my_first_package.nicer_functions)"
   ]
  },
  {
   "cell_type": "code",
   "execution_count": 47,
   "metadata": {},
   "outputs": [],
   "source": [
    "import antigravity"
   ]
  },
  {
   "cell_type": "markdown",
   "metadata": {},
   "source": [
    "### Standard Library"
   ]
  },
  {
   "cell_type": "code",
   "execution_count": 48,
   "metadata": {},
   "outputs": [],
   "source": [
    "import os"
   ]
  },
  {
   "cell_type": "code",
   "execution_count": 49,
   "metadata": {},
   "outputs": [
    {
     "name": "stdout",
     "output_type": "stream",
     "text": [
      "OS routines for NT or Posix depending on what system we're on.\n",
      "\n",
      "This exports:\n",
      "  - all functions from posix or nt, e.g. unlink, stat, etc.\n",
      "  - os.path is either posixpath or ntpath\n",
      "  - os.name is either 'posix' or 'nt'\n",
      "  - os.curdir is a string representing the current directory (always '.')\n",
      "  - os.pardir is a string representing the parent directory (always '..')\n",
      "  - os.sep is the (or a most common) pathname separator ('/' or '\\\\')\n",
      "  - os.extsep is the extension separator (always '.')\n",
      "  - os.altsep is the alternate pathname separator (None or '/')\n",
      "  - os.pathsep is the component separator used in $PATH etc\n",
      "  - os.linesep is the line separator in text files ('\\r' or '\\n' or '\\r\\n')\n",
      "  - os.defpath is the default search path for executables\n",
      "  - os.devnull is the file path of the null device ('/dev/null', etc.)\n",
      "\n",
      "Programs that import and use 'os' stand a better chance of being\n",
      "portable between different platforms.  Of course, they must then\n",
      "only use functions that are defined by all platforms (e.g., unlink\n",
      "and opendir), and leave all pathname manipulation to os.path\n",
      "(e.g., split and join).\n",
      "\n"
     ]
    }
   ],
   "source": [
    "print(os.__doc__)"
   ]
  },
  {
   "cell_type": "code",
   "execution_count": 50,
   "metadata": {},
   "outputs": [
    {
     "name": "stdout",
     "output_type": "stream",
     "text": [
      "['DirEntry', 'F_OK', 'MutableMapping', 'O_APPEND', 'O_BINARY', 'O_CREAT', 'O_EXCL', 'O_NOINHERIT', 'O_RANDOM', 'O_RDONLY', 'O_RDWR', 'O_SEQUENTIAL', 'O_SHORT_LIVED', 'O_TEMPORARY', 'O_TEXT', 'O_TRUNC', 'O_WRONLY', 'P_DETACH', 'P_NOWAIT', 'P_NOWAITO', 'P_OVERLAY', 'P_WAIT', 'PathLike', 'R_OK', 'SEEK_CUR', 'SEEK_END', 'SEEK_SET', 'TMP_MAX', 'W_OK', 'X_OK', '_Environ', '__all__', '__builtins__', '__cached__', '__doc__', '__file__', '__loader__', '__name__', '__package__', '__spec__', '_execvpe', '_exists', '_exit', '_fspath', '_get_exports_list', '_putenv', '_unsetenv', '_wrap_close', 'abc', 'abort', 'access', 'altsep', 'chdir', 'chmod', 'close', 'closerange', 'cpu_count', 'curdir', 'defpath', 'device_encoding', 'devnull', 'dup', 'dup2', 'environ', 'error', 'execl', 'execle', 'execlp', 'execlpe', 'execv', 'execve', 'execvp', 'execvpe', 'extsep', 'fdopen', 'fsdecode', 'fsencode', 'fspath', 'fstat', 'fsync', 'ftruncate', 'get_exec_path', 'get_handle_inheritable', 'get_inheritable', 'get_terminal_size', 'getcwd', 'getcwdb', 'getenv', 'getlogin', 'getpid', 'getppid', 'isatty', 'kill', 'linesep', 'link', 'listdir', 'lseek', 'lstat', 'makedirs', 'mkdir', 'name', 'open', 'pardir', 'path', 'pathsep', 'pipe', 'popen', 'putenv', 'read', 'readlink', 'remove', 'removedirs', 'rename', 'renames', 'replace', 'rmdir', 'scandir', 'sep', 'set_handle_inheritable', 'set_inheritable', 'spawnl', 'spawnle', 'spawnv', 'spawnve', 'st', 'startfile', 'stat', 'stat_result', 'statvfs_result', 'strerror', 'supports_bytes_environ', 'supports_dir_fd', 'supports_effective_ids', 'supports_fd', 'supports_follow_symlinks', 'symlink', 'sys', 'system', 'terminal_size', 'times', 'times_result', 'truncate', 'umask', 'uname_result', 'unlink', 'urandom', 'utime', 'waitpid', 'walk', 'write']\n"
     ]
    }
   ],
   "source": [
    "print(dir(os))"
   ]
  },
  {
   "cell_type": "code",
   "execution_count": 51,
   "metadata": {},
   "outputs": [
    {
     "name": "stdout",
     "output_type": "stream",
     "text": [
      "C:\\Users\\JF30443\\pyCODE\\P5_Python_course\\claimsset.txt\n",
      "What is claimed is: 1. 1. A photovoltaic device having a substrate configuration, comprising:\n",
      "a substrate,\n",
      "said substrate being transparent or opaque,\n",
      "a metal electrode layer,\n",
      "a transparent conductor layer,\n",
      "an absorber layer,\n",
      "said absorber layer comprises a Group II-VI semiconductor compound,\n",
      "a window layer, and\n",
      "an interface layer, wherein\n",
      "the interface layer is disposed between the metal electrode layer and the absorber layer such that an ohmic contact is created between the metal electrode layer and the absorber layer.\n",
      "2. 2. A photovoltaic device according claim 1, wherein:\n",
      "said absorber layer comprises a CdTe semiconductor.\n",
      "3. 3. A photovoltaic device according claim 2, wherein:\n",
      "said window layer comprises a CdS semiconductor.\n",
      "4. 4. A photovoltaic device as claimed in claim 1, wherein:\n",
      "the interface layer comprises a material selected from the group consisting of nanoparticles, nanoparticles that are sintered and a thin film.\n",
      "5. 5. A photovoltaic device as claimed in claim 4, wherein:\n",
      "the nanoparticles, nanoparticles that are sintered and a thin film each independently comprise a material selected from the group consisting of Group II-IV compounds, Group IV-VI compounds, Group IV compounds, Group III-V compounds and Group I-III-VI compounds.\n",
      "6. 6. A photovoltaic device as claimed in claim 5, wherein:\n",
      "the nanoparticles, nanoparticles that are sintered and a thin film independently comprise a material selected from the group consisting of CuxTe where 1â‰¦xâ‰¦2, ZnTe, p doped ZnTe, CdxTey where xâ‰ y, Cu doped CdTe, CdZnTe, Sb2Te3, Bi2Te3 and Te metal.\n",
      "7. 7. A photovoltaic device as claimed in claim 6, wherein:\n",
      "the nanoparticles, nanoparticles that are sintered and a thin film independently comprise a material selected from the group consisting of CdxTey where x>y and Cu doped ZnTe.\n",
      "8. 8. A photovoltaic device as claimed in claim 1, wherein:\n",
      "the interface layer comprises a plurality of layers.\n",
      "9. 9. A photovoltaic device as claimed in claim 1, wherein:\n",
      "the interface layer comprises a plurality of layers,\n",
      "said plurality of layers comprising a first layer comprising p-doped ZnTe nanoparticles,\n",
      "and a second layer comprising ZnTe nanoparticles.\n",
      "10. 10. A photovoltaic device as claimed in claim 9, wherein:\n",
      "the interface layer further comprises a third layer comprising Te metal nanoparticles disposed between the second layer comprising ZnTe nanoparticles and the absorber layer.\n",
      "11. 11. A photovoltaic device as claimed in claim 1, wherein:\n",
      "said interface layer comprises a plurality of layers,\n",
      "said plurality of layers comprises a first layer comprising CuxTe where 1â‰¦xâ‰¦2 nanoparticles,\n",
      "and a second layer comprising ZnTe nanoparticles.\n",
      "12. 12. A photovoltaic device as claimed in claim 11, wherein:\n",
      "the interface layer further comprises a third layer disposed between the second layer and the absorber layer,\n",
      "said third layer comprising a material selected from the group consisting of Te metal nanoparticles, CdxTey where xâ‰ y nanoparticles and CdZnTe nanoparticles.\n",
      "13. 13. A photovoltaic device as claimed in claim 1, wherein:\n",
      "the interface layer comprises at least three layers, wherein\n",
      "a first interface layer comprises Cd1âˆ’xZnxTe nanoparticles where x=0,\n",
      "a second interface layer comprises Cd1âˆ’xZnxTe nanoparticles that are sintered where xâ‰ 0, and\n",
      "a third interface layer in between the first and second interface layer said layer comprising Cd1âˆ’xZnxTe nanoparticles that are sintered where 0â‰¦xâ‰¦1.\n",
      "14. 14. A photovoltaic device as claimed in claim 1, wherein:\n",
      "the interface layer comprises a plurality of layers,\n",
      "said plurality of layers comprises a first layer comprising p-doped ZnTe nanoparticles that are sintered,\n",
      "and a second layer comprising ZnTe nanoparticles that are sintered.\n",
      "15. 15. A photovoltaic device as claimed in claim 14, wherein:\n",
      "the interface layer further comprises a third layer comprising Te metal nanoparticles that are sintered disposed between the second layer comprising ZnTe nanoparticles that are sintered and the absorber layer.\n",
      "16. 16. A photovoltaic device as claimed in claim 1, wherein:\n",
      "said interface layer comprises a plurality of layers,\n",
      "said plurality of layers comprises a first layer comprising a CuxTe where 1â‰¦xâ‰¦2 nanoparticles that are sintered, and\n",
      "a second layer comprising ZnTe nanoparticles that are sintered.\n",
      "17. 17. A photovoltaic device as claimed in claim 16, wherein:\n",
      "the interface layer further comprises a third layer disposed between the second layer and the absorber layer,\n",
      "said third layer comprises a material selected from the group consisting of Te metal nanoparticles that are sintered, CdxTey where xâ‰ y nanoparticles that are sintered and CdZnTe nanoparticles that are sintered.\n",
      "18. 18. A photovoltaic device as claimed in claim 1, wherein:\n",
      "the interface layer comprises at least three layers, wherein\n",
      "a first interface layer comprises Cd1âˆ’xZnxTe nanoparticles that are sintered where x=0,\n",
      "a second interface layer comprises Cd1âˆ’xZnxTe nanoparticles that are sintered where xâ‰ 0, and\n",
      "a third interface layer in between the first and second interface layer said layer comprising Cd1âˆ’xZnxTe nanoparticles that are sintered where 0â‰¦xâ‰¦1.\n",
      "19. 19. A photovoltaic device as claimed in claim 1, wherein:\n",
      "the interface layer comprises a plurality of layers,\n",
      "said plurality of layers comprises a first layer comprising a p-doped ZnTe thin film, and\n",
      "a second layer comprising ZnTe thin film.\n",
      "20. 20. A photovoltaic device as claimed in claim 19, wherein:\n",
      "the interface layer further comprises a third layer comprising a Te metal thin film disposed between the second layer comprising a ZnTe thin film and the absorber layer.\n",
      "21. 21. A photovoltaic device as claimed in claim 1, wherein:\n",
      "said interface layer comprises a plurality of layers,\n",
      "said plurality of layers comprises a first layer comprising a CuxTe where 1â‰¦xâ‰¦2 thin film, and\n",
      "a second layer comprising a ZnTe thin film.\n",
      "22. 22. A photovoltaic device as claimed in claim 21, wherein:\n",
      "the interface layer further comprises a third layer disposed between the second layer and the absorber layer,\n",
      "said third layer comprises a material selected from the group consisting of a Te metal thin film, a CdxTey where xâ‰ y thin film, and a CdZnTe thin film.\n",
      "23. 23. A photovoltaic device as claimed in claim 1, wherein:\n",
      "the interface layer comprises at least three layers, wherein\n",
      "a first interface layer comprises a Cd1âˆ’xZnxTe thin film where x=0,\n",
      "a second interface layer comprises a Cd1âˆ’xZnxTe thin film where xâ‰ 0, and\n",
      "a third interface layer in between the first and second interface layer,\n",
      "said layer comprising a Cd1âˆ’xZnxTe thin film where 0â‰¦xâ‰¦1.\n",
      "24. 24. A photovoltaic device having a superstrate configuration, comprising:\n",
      "a substrate,\n",
      "said substrate being transparent,\n",
      "a metal electrode layer,\n",
      "a transparent conductor layer,\n",
      "an absorber layer,\n",
      "said absorber layer comprising a Group II-VI semiconductor compound,\n",
      "a window layer, and\n",
      "an interface layer comprising nanoparticles or nanoparticles that are sintered, and\n",
      "the interface layer is disposed between the metal electrode layer and the absorber layer such that an ohmic contact is created between the metal electrode layer and the absorber layer.\n",
      "25. 25. A photovoltaic device as claimed in claim 24, wherein:\n",
      "the nanoparticles or nanoparticles that are sintered independently comprise a material selected from the group consisting of CuxTe where 1â‰¦xâ‰¦2, ZnTe, p doped ZnTe, CdxTey where xâ‰ y, Cu doped CdTe, CdZnTe, Sb2Te3, Bi2Te3 and Te metal.\n",
      "\n",
      "\n",
      "\n"
     ]
    }
   ],
   "source": [
    "path=r'C:\\Users\\JF30443\\pyCODE\\P5_Python_course\\claimsset.txt'\n",
    "print(path)\n",
    "with open(path,'r') as f:\n",
    "    rawclaims=f.read()\n",
    "\n",
    "print(rawclaims)"
   ]
  },
  {
   "cell_type": "markdown",
   "metadata": {},
   "source": [
    "### Parsing the claims"
   ]
  },
  {
   "cell_type": "code",
   "execution_count": 52,
   "metadata": {},
   "outputs": [
    {
     "name": "stdout",
     "output_type": "stream",
     "text": [
      " 1. 1. A photovoltaic device having a substrate configuratio\n"
     ]
    }
   ],
   "source": [
    "# a) starts with 'what is claimed is\n",
    "rawclaims = rawclaims.replace('What is claimed is:','')\n",
    "print(rawclaims[0:60])"
   ]
  },
  {
   "cell_type": "code",
   "execution_count": 53,
   "metadata": {},
   "outputs": [
    {
     "name": "stdout",
     "output_type": "stream",
     "text": [
      "1. 1. A photovoltaic device having a substrate configuration\n"
     ]
    }
   ],
   "source": [
    "# b) strip the string\n",
    "rawclaims = rawclaims.strip()\n",
    "print(rawclaims[0:60])"
   ]
  },
  {
   "cell_type": "code",
   "execution_count": 54,
   "metadata": {},
   "outputs": [],
   "source": [
    "# c) it looks like they start by 1.\n",
    "# tricky thing. what about 1.5 mm???\n",
    "# this is a basic approach\n",
    "\n",
    "for nr in range(1,100):\n",
    "    string= str(nr) + '. ' + str(nr) + '. '\n",
    "    if string in rawclaims:\n",
    "        rawclaims = rawclaims.replace(string,'<newclaim>')"
   ]
  },
  {
   "cell_type": "code",
   "execution_count": 55,
   "metadata": {},
   "outputs": [
    {
     "name": "stdout",
     "output_type": "stream",
     "text": [
      "<newclaim>A photovoltaic device having a substrate configuration, comprising:\n",
      "a substrate,\n",
      "said substrate being transparent or opaque,\n",
      "a metal electrode layer,\n",
      "a transparent conductor layer,\n",
      "an absorber layer,\n",
      "said absorber layer comprises a Group II-VI semiconductor compound,\n",
      "a window layer, and\n",
      "an interface layer, wherein\n",
      "the interface layer is disposed between the metal electrode layer and the absorber layer such that an ohmic contact is created between the metal electrode layer and the absorber layer.\n",
      "<newclaim>A photovoltaic device according claim 1, wherein:\n",
      "said absorber layer comprises a CdTe semiconductor.\n",
      "<newclaim>A photovoltaic device according claim 2, wherein:\n",
      "said window layer comprises a CdS semiconductor.\n",
      "<newclaim>A photovoltaic device as claimed in claim 1, wherein:\n",
      "the interface layer comprises a material selected from the group consisting of nanoparticles, nanoparticles that are sintered and a thin film.\n",
      "<newclaim>A photovoltaic device as claimed in claim 4, wherein:\n",
      "the nanoparticles, nanoparticles that are sintered and a thin film each independently comprise a material selected from the group consisting of Group II-IV compounds, Group IV-VI compounds, Group IV compounds, Group III-V compounds and Group I-III-VI compounds.\n",
      "<newclaim>A photovoltaic device as claimed in claim 5, wherein:\n",
      "the nanoparticles, nanoparticles that are sintered and a thin film independently comprise a material selected from the group consisting of CuxTe where 1â‰¦xâ‰¦2, ZnTe, p doped ZnTe, CdxTey where xâ‰ y, Cu doped CdTe, CdZnTe, Sb2Te3, Bi2Te3 and Te metal.\n",
      "<newclaim>A photovoltaic device as claimed in claim 6, wherein:\n",
      "the nanoparticles, nanoparticles that are sintered and a thin film independently comprise a material selected from the group consisting of CdxTey where x>y and Cu doped ZnTe.\n",
      "<newclaim>A photovoltaic device as claimed in claim 1, wherein:\n",
      "the interface layer comprises a plurality of layers.\n",
      "<newclaim>A photovoltaic device as claimed in claim 1, wherein:\n",
      "the interface layer comprises a plurality of layers,\n",
      "said plurality of layers comprising a first layer comprising p-doped ZnTe nanoparticles,\n",
      "and a second layer comprising ZnTe nanoparticles.\n",
      "<newclaim>A photovoltaic device as claimed in claim 9, wherein:\n",
      "the interface layer further comprises a third layer comprising Te metal nanoparticles disposed between the second layer comprising ZnTe nanoparticles and the absorber layer.\n",
      "<newclaim>A photovoltaic device as claimed in claim 1, wherein:\n",
      "said interface layer comprises a plurality of layers,\n",
      "said plurality of layers comprises a first layer comprising CuxTe where 1â‰¦xâ‰¦2 nanoparticles,\n",
      "and a second layer comprising ZnTe nanoparticles.\n",
      "<newclaim>A photovoltaic device as claimed in claim 11, wherein:\n",
      "the interface layer further comprises a third layer disposed between the second layer and the absorber layer,\n",
      "said third layer comprising a material selected from the group consisting of Te metal nanoparticles, CdxTey where xâ‰ y nanoparticles and CdZnTe nanoparticles.\n",
      "<newclaim>A photovoltaic device as claimed in claim 1, wherein:\n",
      "the interface layer comprises at least three layers, wherein\n",
      "a first interface layer comprises Cd1âˆ’xZnxTe nanoparticles where x=0,\n",
      "a second interface layer comprises Cd1âˆ’xZnxTe nanoparticles that are sintered where xâ‰ 0, and\n",
      "a third interface layer in between the first and second interface layer said layer comprising Cd1âˆ’xZnxTe nanoparticles that are sintered where 0â‰¦xâ‰¦1.\n",
      "<newclaim>A photovoltaic device as claimed in claim 1, wherein:\n",
      "the interface layer comprises a plurality of layers,\n",
      "said plurality of layers comprises a first layer comprising p-doped ZnTe nanoparticles that are sintered,\n",
      "and a second layer comprising ZnTe nanoparticles that are sintered.\n",
      "<newclaim>A photovoltaic device as claimed in claim 14, wherein:\n",
      "the interface layer further comprises a third layer comprising Te metal nanoparticles that are sintered disposed between the second layer comprising ZnTe nanoparticles that are sintered and the absorber layer.\n",
      "<newclaim>A photovoltaic device as claimed in claim 1, wherein:\n",
      "said interface layer comprises a plurality of layers,\n",
      "said plurality of layers comprises a first layer comprising a CuxTe where 1â‰¦xâ‰¦2 nanoparticles that are sintered, and\n",
      "a second layer comprising ZnTe nanoparticles that are sintered.\n",
      "<newclaim>A photovoltaic device as claimed in claim 16, wherein:\n",
      "the interface layer further comprises a third layer disposed between the second layer and the absorber layer,\n",
      "said third layer comprises a material selected from the group consisting of Te metal nanoparticles that are sintered, CdxTey where xâ‰ y nanoparticles that are sintered and CdZnTe nanoparticles that are sintered.\n",
      "<newclaim>A photovoltaic device as claimed in claim 1, wherein:\n",
      "the interface layer comprises at least three layers, wherein\n",
      "a first interface layer comprises Cd1âˆ’xZnxTe nanoparticles that are sintered where x=0,\n",
      "a second interface layer comprises Cd1âˆ’xZnxTe nanoparticles that are sintered where xâ‰ 0, and\n",
      "a third interface layer in between the first and second interface layer said layer comprising Cd1âˆ’xZnxTe nanoparticles that are sintered where 0â‰¦xâ‰¦1.\n",
      "<newclaim>A photovoltaic device as claimed in claim 1, wherein:\n",
      "the interface layer comprises a plurality of layers,\n",
      "said plurality of layers comprises a first layer comprising a p-doped ZnTe thin film, and\n",
      "a second layer comprising ZnTe thin film.\n",
      "<newclaim>A photovoltaic device as claimed in claim 19, wherein:\n",
      "the interface layer further comprises a third layer comprising a Te metal thin film disposed between the second layer comprising a ZnTe thin film and the absorber layer.\n",
      "<newclaim>A photovoltaic device as claimed in claim 1, wherein:\n",
      "said interface layer comprises a plurality of layers,\n",
      "said plurality of layers comprises a first layer comprising a CuxTe where 1â‰¦xâ‰¦2 thin film, and\n",
      "a second layer comprising a ZnTe thin film.\n",
      "<newclaim>A photovoltaic device as claimed in claim 21, wherein:\n",
      "the interface layer further comprises a third layer disposed between the second layer and the absorber layer,\n",
      "said third layer comprises a material selected from the group consisting of a Te metal thin film, a CdxTey where xâ‰ y thin film, and a CdZnTe thin film.\n",
      "<newclaim>A photovoltaic device as claimed in claim 1, wherein:\n",
      "the interface layer comprises at least three layers, wherein\n",
      "a first interface layer comprises a Cd1âˆ’xZnxTe thin film where x=0,\n",
      "a second interface layer comprises a Cd1âˆ’xZnxTe thin film where xâ‰ 0, and\n",
      "a third interface layer in between the first and second interface layer,\n",
      "said layer comprising a Cd1âˆ’xZnxTe thin film where 0â‰¦xâ‰¦1.\n",
      "<newclaim>A photovoltaic device having a superstrate configuration, comprising:\n",
      "a substrate,\n",
      "said substrate being transparent,\n",
      "a metal electrode layer,\n",
      "a transparent conductor layer,\n",
      "an absorber layer,\n",
      "said absorber layer comprising a Group II-VI semiconductor compound,\n",
      "a window layer, and\n",
      "an interface layer comprising nanoparticles or nanoparticles that are sintered, and\n",
      "the interface layer is disposed between the metal electrode layer and the absorber layer such that an ohmic contact is created between the metal electrode layer and the absorber layer.\n",
      "<newclaim>A photovoltaic device as claimed in claim 24, wherein:\n",
      "the nanoparticles or nanoparticles that are sintered independently comprise a material selected from the group consisting of CuxTe where 1â‰¦xâ‰¦2, ZnTe, p doped ZnTe, CdxTey where xâ‰ y, Cu doped CdTe, CdZnTe, Sb2Te3, Bi2Te3 and Te metal.\n"
     ]
    }
   ],
   "source": [
    "print(rawclaims)"
   ]
  },
  {
   "cell_type": "code",
   "execution_count": 56,
   "metadata": {},
   "outputs": [
    {
     "name": "stdout",
     "output_type": "stream",
     "text": [
      "['', 'A photovoltaic device having a substrate configuration, comprising:\\na substrate,\\nsaid substrate being transparent or opaque,\\na metal electrode layer,\\na transparent conductor layer,\\nan absorber layer,\\nsaid absorber layer comprises a Group II-VI semiconductor compound,\\na window layer, and\\nan interface layer, wherein\\nthe interface layer is disposed between the metal electrode layer and the absorber layer such that an ohmic contact is created between the metal electrode layer and the absorber layer.\\n', 'A photovoltaic device according claim 1, wherein:\\nsaid absorber layer comprises a CdTe semiconductor.\\n', 'A photovoltaic device according claim 2, wherein:\\nsaid window layer comprises a CdS semiconductor.\\n', 'A photovoltaic device as claimed in claim 1, wherein:\\nthe interface layer comprises a material selected from the group consisting of nanoparticles, nanoparticles that are sintered and a thin film.\\n', 'A photovoltaic device as claimed in claim 4, wherein:\\nthe nanoparticles, nanoparticles that are sintered and a thin film each independently comprise a material selected from the group consisting of Group II-IV compounds, Group IV-VI compounds, Group IV compounds, Group III-V compounds and Group I-III-VI compounds.\\n', 'A photovoltaic device as claimed in claim 5, wherein:\\nthe nanoparticles, nanoparticles that are sintered and a thin film independently comprise a material selected from the group consisting of CuxTe where 1â‰¦xâ‰¦2, ZnTe, p doped ZnTe, CdxTey where xâ‰\\xa0y, Cu doped CdTe, CdZnTe, Sb2Te3, Bi2Te3 and Te metal.\\n', 'A photovoltaic device as claimed in claim 6, wherein:\\nthe nanoparticles, nanoparticles that are sintered and a thin film independently comprise a material selected from the group consisting of CdxTey where x>y and Cu doped ZnTe.\\n', 'A photovoltaic device as claimed in claim 1, wherein:\\nthe interface layer comprises a plurality of layers.\\n', 'A photovoltaic device as claimed in claim 1, wherein:\\nthe interface layer comprises a plurality of layers,\\nsaid plurality of layers comprising a first layer comprising p-doped ZnTe nanoparticles,\\nand a second layer comprising ZnTe nanoparticles.\\n', 'A photovoltaic device as claimed in claim 9, wherein:\\nthe interface layer further comprises a third layer comprising Te metal nanoparticles disposed between the second layer comprising ZnTe nanoparticles and the absorber layer.\\n', 'A photovoltaic device as claimed in claim 1, wherein:\\nsaid interface layer comprises a plurality of layers,\\nsaid plurality of layers comprises a first layer comprising CuxTe where 1â‰¦xâ‰¦2 nanoparticles,\\nand a second layer comprising ZnTe nanoparticles.\\n', 'A photovoltaic device as claimed in claim 11, wherein:\\nthe interface layer further comprises a third layer disposed between the second layer and the absorber layer,\\nsaid third layer comprising a material selected from the group consisting of Te metal nanoparticles, CdxTey where xâ‰\\xa0y nanoparticles and CdZnTe nanoparticles.\\n', 'A photovoltaic device as claimed in claim 1, wherein:\\nthe interface layer comprises at least three layers, wherein\\na first interface layer comprises Cd1âˆ’xZnxTe nanoparticles where x=0,\\na second interface layer comprises Cd1âˆ’xZnxTe nanoparticles that are sintered where xâ‰\\xa00, and\\na third interface layer in between the first and second interface layer said layer comprising Cd1âˆ’xZnxTe nanoparticles that are sintered where 0â‰¦xâ‰¦1.\\n', 'A photovoltaic device as claimed in claim 1, wherein:\\nthe interface layer comprises a plurality of layers,\\nsaid plurality of layers comprises a first layer comprising p-doped ZnTe nanoparticles that are sintered,\\nand a second layer comprising ZnTe nanoparticles that are sintered.\\n', 'A photovoltaic device as claimed in claim 14, wherein:\\nthe interface layer further comprises a third layer comprising Te metal nanoparticles that are sintered disposed between the second layer comprising ZnTe nanoparticles that are sintered and the absorber layer.\\n', 'A photovoltaic device as claimed in claim 1, wherein:\\nsaid interface layer comprises a plurality of layers,\\nsaid plurality of layers comprises a first layer comprising a CuxTe where 1â‰¦xâ‰¦2 nanoparticles that are sintered, and\\na second layer comprising ZnTe nanoparticles that are sintered.\\n', 'A photovoltaic device as claimed in claim 16, wherein:\\nthe interface layer further comprises a third layer disposed between the second layer and the absorber layer,\\nsaid third layer comprises a material selected from the group consisting of Te metal nanoparticles that are sintered, CdxTey where xâ‰\\xa0y nanoparticles that are sintered and CdZnTe nanoparticles that are sintered.\\n', 'A photovoltaic device as claimed in claim 1, wherein:\\nthe interface layer comprises at least three layers, wherein\\na first interface layer comprises Cd1âˆ’xZnxTe nanoparticles that are sintered where x=0,\\na second interface layer comprises Cd1âˆ’xZnxTe nanoparticles that are sintered where xâ‰\\xa00, and\\na third interface layer in between the first and second interface layer said layer comprising Cd1âˆ’xZnxTe nanoparticles that are sintered where 0â‰¦xâ‰¦1.\\n', 'A photovoltaic device as claimed in claim 1, wherein:\\nthe interface layer comprises a plurality of layers,\\nsaid plurality of layers comprises a first layer comprising a p-doped ZnTe thin film, and\\na second layer comprising ZnTe thin film.\\n', 'A photovoltaic device as claimed in claim 19, wherein:\\nthe interface layer further comprises a third layer comprising a Te metal thin film disposed between the second layer comprising a ZnTe thin film and the absorber layer.\\n', 'A photovoltaic device as claimed in claim 1, wherein:\\nsaid interface layer comprises a plurality of layers,\\nsaid plurality of layers comprises a first layer comprising a CuxTe where 1â‰¦xâ‰¦2 thin film, and\\na second layer comprising a ZnTe thin film.\\n', 'A photovoltaic device as claimed in claim 21, wherein:\\nthe interface layer further comprises a third layer disposed between the second layer and the absorber layer,\\nsaid third layer comprises a material selected from the group consisting of a Te metal thin film, a CdxTey where xâ‰\\xa0y thin film, and a CdZnTe thin film.\\n', 'A photovoltaic device as claimed in claim 1, wherein:\\nthe interface layer comprises at least three layers, wherein\\na first interface layer comprises a Cd1âˆ’xZnxTe thin film where x=0,\\na second interface layer comprises a Cd1âˆ’xZnxTe thin film where xâ‰\\xa00, and\\na third interface layer in between the first and second interface layer,\\nsaid layer comprising a Cd1âˆ’xZnxTe thin film where 0â‰¦xâ‰¦1.\\n', 'A photovoltaic device having a superstrate configuration, comprising:\\na substrate,\\nsaid substrate being transparent,\\na metal electrode layer,\\na transparent conductor layer,\\nan absorber layer,\\nsaid absorber layer comprising a Group II-VI semiconductor compound,\\na window layer, and\\nan interface layer comprising nanoparticles or nanoparticles that are sintered, and\\nthe interface layer is disposed between the metal electrode layer and the absorber layer such that an ohmic contact is created between the metal electrode layer and the absorber layer.\\n', 'A photovoltaic device as claimed in claim 24, wherein:\\nthe nanoparticles or nanoparticles that are sintered independently comprise a material selected from the group consisting of CuxTe where 1â‰¦xâ‰¦2, ZnTe, p doped ZnTe, CdxTey where xâ‰\\xa0y, Cu doped CdTe, CdZnTe, Sb2Te3, Bi2Te3 and Te metal.']\n"
     ]
    }
   ],
   "source": [
    "list_of_claims = rawclaims.split('<newclaim>')\n",
    "print(list_of_claims)"
   ]
  },
  {
   "cell_type": "code",
   "execution_count": 57,
   "metadata": {},
   "outputs": [],
   "source": [
    "#list comprehension\n",
    "list_of_claims = [claim for claim in list_of_claims if claim !='']"
   ]
  },
  {
   "cell_type": "code",
   "execution_count": 58,
   "metadata": {
    "scrolled": true
   },
   "outputs": [
    {
     "name": "stdout",
     "output_type": "stream",
     "text": [
      "['A photovoltaic device having a substrate configuration, comprising:\\na substrate,\\nsaid substrate being transparent or opaque,\\na metal electrode layer,\\na transparent conductor layer,\\nan absorber layer,\\nsaid absorber layer comprises a Group II-VI semiconductor compound,\\na window layer, and\\nan interface layer, wherein\\nthe interface layer is disposed between the metal electrode layer and the absorber layer such that an ohmic contact is created between the metal electrode layer and the absorber layer.\\n', 'A photovoltaic device according claim 1, wherein:\\nsaid absorber layer comprises a CdTe semiconductor.\\n', 'A photovoltaic device according claim 2, wherein:\\nsaid window layer comprises a CdS semiconductor.\\n', 'A photovoltaic device as claimed in claim 1, wherein:\\nthe interface layer comprises a material selected from the group consisting of nanoparticles, nanoparticles that are sintered and a thin film.\\n', 'A photovoltaic device as claimed in claim 4, wherein:\\nthe nanoparticles, nanoparticles that are sintered and a thin film each independently comprise a material selected from the group consisting of Group II-IV compounds, Group IV-VI compounds, Group IV compounds, Group III-V compounds and Group I-III-VI compounds.\\n', 'A photovoltaic device as claimed in claim 5, wherein:\\nthe nanoparticles, nanoparticles that are sintered and a thin film independently comprise a material selected from the group consisting of CuxTe where 1â‰¦xâ‰¦2, ZnTe, p doped ZnTe, CdxTey where xâ‰\\xa0y, Cu doped CdTe, CdZnTe, Sb2Te3, Bi2Te3 and Te metal.\\n', 'A photovoltaic device as claimed in claim 6, wherein:\\nthe nanoparticles, nanoparticles that are sintered and a thin film independently comprise a material selected from the group consisting of CdxTey where x>y and Cu doped ZnTe.\\n', 'A photovoltaic device as claimed in claim 1, wherein:\\nthe interface layer comprises a plurality of layers.\\n', 'A photovoltaic device as claimed in claim 1, wherein:\\nthe interface layer comprises a plurality of layers,\\nsaid plurality of layers comprising a first layer comprising p-doped ZnTe nanoparticles,\\nand a second layer comprising ZnTe nanoparticles.\\n', 'A photovoltaic device as claimed in claim 9, wherein:\\nthe interface layer further comprises a third layer comprising Te metal nanoparticles disposed between the second layer comprising ZnTe nanoparticles and the absorber layer.\\n', 'A photovoltaic device as claimed in claim 1, wherein:\\nsaid interface layer comprises a plurality of layers,\\nsaid plurality of layers comprises a first layer comprising CuxTe where 1â‰¦xâ‰¦2 nanoparticles,\\nand a second layer comprising ZnTe nanoparticles.\\n', 'A photovoltaic device as claimed in claim 11, wherein:\\nthe interface layer further comprises a third layer disposed between the second layer and the absorber layer,\\nsaid third layer comprising a material selected from the group consisting of Te metal nanoparticles, CdxTey where xâ‰\\xa0y nanoparticles and CdZnTe nanoparticles.\\n', 'A photovoltaic device as claimed in claim 1, wherein:\\nthe interface layer comprises at least three layers, wherein\\na first interface layer comprises Cd1âˆ’xZnxTe nanoparticles where x=0,\\na second interface layer comprises Cd1âˆ’xZnxTe nanoparticles that are sintered where xâ‰\\xa00, and\\na third interface layer in between the first and second interface layer said layer comprising Cd1âˆ’xZnxTe nanoparticles that are sintered where 0â‰¦xâ‰¦1.\\n', 'A photovoltaic device as claimed in claim 1, wherein:\\nthe interface layer comprises a plurality of layers,\\nsaid plurality of layers comprises a first layer comprising p-doped ZnTe nanoparticles that are sintered,\\nand a second layer comprising ZnTe nanoparticles that are sintered.\\n', 'A photovoltaic device as claimed in claim 14, wherein:\\nthe interface layer further comprises a third layer comprising Te metal nanoparticles that are sintered disposed between the second layer comprising ZnTe nanoparticles that are sintered and the absorber layer.\\n', 'A photovoltaic device as claimed in claim 1, wherein:\\nsaid interface layer comprises a plurality of layers,\\nsaid plurality of layers comprises a first layer comprising a CuxTe where 1â‰¦xâ‰¦2 nanoparticles that are sintered, and\\na second layer comprising ZnTe nanoparticles that are sintered.\\n', 'A photovoltaic device as claimed in claim 16, wherein:\\nthe interface layer further comprises a third layer disposed between the second layer and the absorber layer,\\nsaid third layer comprises a material selected from the group consisting of Te metal nanoparticles that are sintered, CdxTey where xâ‰\\xa0y nanoparticles that are sintered and CdZnTe nanoparticles that are sintered.\\n', 'A photovoltaic device as claimed in claim 1, wherein:\\nthe interface layer comprises at least three layers, wherein\\na first interface layer comprises Cd1âˆ’xZnxTe nanoparticles that are sintered where x=0,\\na second interface layer comprises Cd1âˆ’xZnxTe nanoparticles that are sintered where xâ‰\\xa00, and\\na third interface layer in between the first and second interface layer said layer comprising Cd1âˆ’xZnxTe nanoparticles that are sintered where 0â‰¦xâ‰¦1.\\n', 'A photovoltaic device as claimed in claim 1, wherein:\\nthe interface layer comprises a plurality of layers,\\nsaid plurality of layers comprises a first layer comprising a p-doped ZnTe thin film, and\\na second layer comprising ZnTe thin film.\\n', 'A photovoltaic device as claimed in claim 19, wherein:\\nthe interface layer further comprises a third layer comprising a Te metal thin film disposed between the second layer comprising a ZnTe thin film and the absorber layer.\\n', 'A photovoltaic device as claimed in claim 1, wherein:\\nsaid interface layer comprises a plurality of layers,\\nsaid plurality of layers comprises a first layer comprising a CuxTe where 1â‰¦xâ‰¦2 thin film, and\\na second layer comprising a ZnTe thin film.\\n', 'A photovoltaic device as claimed in claim 21, wherein:\\nthe interface layer further comprises a third layer disposed between the second layer and the absorber layer,\\nsaid third layer comprises a material selected from the group consisting of a Te metal thin film, a CdxTey where xâ‰\\xa0y thin film, and a CdZnTe thin film.\\n', 'A photovoltaic device as claimed in claim 1, wherein:\\nthe interface layer comprises at least three layers, wherein\\na first interface layer comprises a Cd1âˆ’xZnxTe thin film where x=0,\\na second interface layer comprises a Cd1âˆ’xZnxTe thin film where xâ‰\\xa00, and\\na third interface layer in between the first and second interface layer,\\nsaid layer comprising a Cd1âˆ’xZnxTe thin film where 0â‰¦xâ‰¦1.\\n', 'A photovoltaic device having a superstrate configuration, comprising:\\na substrate,\\nsaid substrate being transparent,\\na metal electrode layer,\\na transparent conductor layer,\\nan absorber layer,\\nsaid absorber layer comprising a Group II-VI semiconductor compound,\\na window layer, and\\nan interface layer comprising nanoparticles or nanoparticles that are sintered, and\\nthe interface layer is disposed between the metal electrode layer and the absorber layer such that an ohmic contact is created between the metal electrode layer and the absorber layer.\\n', 'A photovoltaic device as claimed in claim 24, wherein:\\nthe nanoparticles or nanoparticles that are sintered independently comprise a material selected from the group consisting of CuxTe where 1â‰¦xâ‰¦2, ZnTe, p doped ZnTe, CdxTey where xâ‰\\xa0y, Cu doped CdTe, CdZnTe, Sb2Te3, Bi2Te3 and Te metal.']\n"
     ]
    }
   ],
   "source": [
    "print(list_of_claims)"
   ]
  },
  {
   "cell_type": "code",
   "execution_count": null,
   "metadata": {},
   "outputs": [],
   "source": []
  },
  {
   "cell_type": "code",
   "execution_count": 59,
   "metadata": {},
   "outputs": [
    {
     "name": "stdout",
     "output_type": "stream",
     "text": [
      "['A photovoltaic device having a substrate configuration, comprising:\\na substrate,\\nsaid substrate being transparent or opaque,\\na metal electrode layer,\\na transparent conductor layer,\\nan absorber layer,\\nsaid absorber layer comprises a Group II-VI semiconductor compound,\\na window layer, and\\nan interface layer, wherein\\nthe interface layer is disposed between the metal electrode layer and the absorber layer such that an ohmic contact is created between the metal electrode layer and the absorber layer.\\n', 'A photovoltaic device according claim 1, wherein:\\nsaid absorber layer comprises a CdTe semiconductor.\\n', 'A photovoltaic device according claim 2, wherein:\\nsaid window layer comprises a CdS semiconductor.\\n']\n"
     ]
    }
   ],
   "source": [
    "print(list_of_claims[0:3])"
   ]
  },
  {
   "cell_type": "code",
   "execution_count": 60,
   "metadata": {},
   "outputs": [],
   "source": [
    "independent_list=[]\n",
    "for i,claim in enumerate(list_of_claims):\n",
    "    if 'claim' in claim:\n",
    "        independent_list.append('dependent')\n",
    "    else:\n",
    "        independent_list.append('independent')\n",
    "\n",
    "\n",
    "        "
   ]
  },
  {
   "cell_type": "code",
   "execution_count": 61,
   "metadata": {},
   "outputs": [
    {
     "name": "stdout",
     "output_type": "stream",
     "text": [
      "['independent', 'dependent', 'dependent', 'dependent', 'dependent', 'dependent', 'dependent', 'dependent', 'dependent', 'dependent', 'dependent', 'dependent', 'dependent', 'dependent', 'dependent', 'dependent', 'dependent', 'dependent', 'dependent', 'dependent', 'dependent', 'dependent', 'dependent', 'independent', 'dependent']\n",
      "25\n",
      "25\n"
     ]
    }
   ],
   "source": [
    "print(independent_list)\n",
    "print(len(independent_list))\n",
    "print(len(list_of_claims))"
   ]
  },
  {
   "cell_type": "markdown",
   "metadata": {},
   "source": [
    "### Creating a pandas dataframe"
   ]
  },
  {
   "cell_type": "code",
   "execution_count": 62,
   "metadata": {},
   "outputs": [],
   "source": [
    "import pandas as pd"
   ]
  },
  {
   "cell_type": "code",
   "execution_count": 63,
   "metadata": {},
   "outputs": [
    {
     "data": {
      "text/html": [
       "<div>\n",
       "<style scoped>\n",
       "    .dataframe tbody tr th:only-of-type {\n",
       "        vertical-align: middle;\n",
       "    }\n",
       "\n",
       "    .dataframe tbody tr th {\n",
       "        vertical-align: top;\n",
       "    }\n",
       "\n",
       "    .dataframe thead th {\n",
       "        text-align: right;\n",
       "    }\n",
       "</style>\n",
       "<table border=\"1\" class=\"dataframe\">\n",
       "  <thead>\n",
       "    <tr style=\"text-align: right;\">\n",
       "      <th></th>\n",
       "      <th>claimtext</th>\n",
       "    </tr>\n",
       "  </thead>\n",
       "  <tbody>\n",
       "    <tr>\n",
       "      <td>0</td>\n",
       "      <td>A photovoltaic device having a substrate confi...</td>\n",
       "    </tr>\n",
       "    <tr>\n",
       "      <td>1</td>\n",
       "      <td>A photovoltaic device according claim 1, where...</td>\n",
       "    </tr>\n",
       "    <tr>\n",
       "      <td>2</td>\n",
       "      <td>A photovoltaic device according claim 2, where...</td>\n",
       "    </tr>\n",
       "    <tr>\n",
       "      <td>3</td>\n",
       "      <td>A photovoltaic device as claimed in claim 1, w...</td>\n",
       "    </tr>\n",
       "    <tr>\n",
       "      <td>4</td>\n",
       "      <td>A photovoltaic device as claimed in claim 4, w...</td>\n",
       "    </tr>\n",
       "    <tr>\n",
       "      <td>5</td>\n",
       "      <td>A photovoltaic device as claimed in claim 5, w...</td>\n",
       "    </tr>\n",
       "    <tr>\n",
       "      <td>6</td>\n",
       "      <td>A photovoltaic device as claimed in claim 6, w...</td>\n",
       "    </tr>\n",
       "    <tr>\n",
       "      <td>7</td>\n",
       "      <td>A photovoltaic device as claimed in claim 1, w...</td>\n",
       "    </tr>\n",
       "    <tr>\n",
       "      <td>8</td>\n",
       "      <td>A photovoltaic device as claimed in claim 1, w...</td>\n",
       "    </tr>\n",
       "    <tr>\n",
       "      <td>9</td>\n",
       "      <td>A photovoltaic device as claimed in claim 9, w...</td>\n",
       "    </tr>\n",
       "    <tr>\n",
       "      <td>10</td>\n",
       "      <td>A photovoltaic device as claimed in claim 1, w...</td>\n",
       "    </tr>\n",
       "    <tr>\n",
       "      <td>11</td>\n",
       "      <td>A photovoltaic device as claimed in claim 11, ...</td>\n",
       "    </tr>\n",
       "    <tr>\n",
       "      <td>12</td>\n",
       "      <td>A photovoltaic device as claimed in claim 1, w...</td>\n",
       "    </tr>\n",
       "    <tr>\n",
       "      <td>13</td>\n",
       "      <td>A photovoltaic device as claimed in claim 1, w...</td>\n",
       "    </tr>\n",
       "    <tr>\n",
       "      <td>14</td>\n",
       "      <td>A photovoltaic device as claimed in claim 14, ...</td>\n",
       "    </tr>\n",
       "    <tr>\n",
       "      <td>15</td>\n",
       "      <td>A photovoltaic device as claimed in claim 1, w...</td>\n",
       "    </tr>\n",
       "    <tr>\n",
       "      <td>16</td>\n",
       "      <td>A photovoltaic device as claimed in claim 16, ...</td>\n",
       "    </tr>\n",
       "    <tr>\n",
       "      <td>17</td>\n",
       "      <td>A photovoltaic device as claimed in claim 1, w...</td>\n",
       "    </tr>\n",
       "    <tr>\n",
       "      <td>18</td>\n",
       "      <td>A photovoltaic device as claimed in claim 1, w...</td>\n",
       "    </tr>\n",
       "    <tr>\n",
       "      <td>19</td>\n",
       "      <td>A photovoltaic device as claimed in claim 19, ...</td>\n",
       "    </tr>\n",
       "    <tr>\n",
       "      <td>20</td>\n",
       "      <td>A photovoltaic device as claimed in claim 1, w...</td>\n",
       "    </tr>\n",
       "    <tr>\n",
       "      <td>21</td>\n",
       "      <td>A photovoltaic device as claimed in claim 21, ...</td>\n",
       "    </tr>\n",
       "    <tr>\n",
       "      <td>22</td>\n",
       "      <td>A photovoltaic device as claimed in claim 1, w...</td>\n",
       "    </tr>\n",
       "    <tr>\n",
       "      <td>23</td>\n",
       "      <td>A photovoltaic device having a superstrate con...</td>\n",
       "    </tr>\n",
       "    <tr>\n",
       "      <td>24</td>\n",
       "      <td>A photovoltaic device as claimed in claim 24, ...</td>\n",
       "    </tr>\n",
       "  </tbody>\n",
       "</table>\n",
       "</div>"
      ],
      "text/plain": [
       "                                            claimtext\n",
       "0   A photovoltaic device having a substrate confi...\n",
       "1   A photovoltaic device according claim 1, where...\n",
       "2   A photovoltaic device according claim 2, where...\n",
       "3   A photovoltaic device as claimed in claim 1, w...\n",
       "4   A photovoltaic device as claimed in claim 4, w...\n",
       "5   A photovoltaic device as claimed in claim 5, w...\n",
       "6   A photovoltaic device as claimed in claim 6, w...\n",
       "7   A photovoltaic device as claimed in claim 1, w...\n",
       "8   A photovoltaic device as claimed in claim 1, w...\n",
       "9   A photovoltaic device as claimed in claim 9, w...\n",
       "10  A photovoltaic device as claimed in claim 1, w...\n",
       "11  A photovoltaic device as claimed in claim 11, ...\n",
       "12  A photovoltaic device as claimed in claim 1, w...\n",
       "13  A photovoltaic device as claimed in claim 1, w...\n",
       "14  A photovoltaic device as claimed in claim 14, ...\n",
       "15  A photovoltaic device as claimed in claim 1, w...\n",
       "16  A photovoltaic device as claimed in claim 16, ...\n",
       "17  A photovoltaic device as claimed in claim 1, w...\n",
       "18  A photovoltaic device as claimed in claim 1, w...\n",
       "19  A photovoltaic device as claimed in claim 19, ...\n",
       "20  A photovoltaic device as claimed in claim 1, w...\n",
       "21  A photovoltaic device as claimed in claim 21, ...\n",
       "22  A photovoltaic device as claimed in claim 1, w...\n",
       "23  A photovoltaic device having a superstrate con...\n",
       "24  A photovoltaic device as claimed in claim 24, ..."
      ]
     },
     "execution_count": 63,
     "metadata": {},
     "output_type": "execute_result"
    }
   ],
   "source": [
    "claims_df = pd.DataFrame(columns=['claimtext'])\n",
    "claims_df['claimtext'] = list_of_claims\n",
    "claims_df"
   ]
  },
  {
   "cell_type": "code",
   "execution_count": 64,
   "metadata": {},
   "outputs": [
    {
     "data": {
      "text/html": [
       "<div>\n",
       "<style scoped>\n",
       "    .dataframe tbody tr th:only-of-type {\n",
       "        vertical-align: middle;\n",
       "    }\n",
       "\n",
       "    .dataframe tbody tr th {\n",
       "        vertical-align: top;\n",
       "    }\n",
       "\n",
       "    .dataframe thead th {\n",
       "        text-align: right;\n",
       "    }\n",
       "</style>\n",
       "<table border=\"1\" class=\"dataframe\">\n",
       "  <thead>\n",
       "    <tr style=\"text-align: right;\">\n",
       "      <th></th>\n",
       "      <th>claimtext</th>\n",
       "      <th>independent</th>\n",
       "    </tr>\n",
       "  </thead>\n",
       "  <tbody>\n",
       "    <tr>\n",
       "      <td>0</td>\n",
       "      <td>A photovoltaic device having a substrate confi...</td>\n",
       "      <td>True</td>\n",
       "    </tr>\n",
       "    <tr>\n",
       "      <td>1</td>\n",
       "      <td>A photovoltaic device according claim 1, where...</td>\n",
       "      <td>False</td>\n",
       "    </tr>\n",
       "    <tr>\n",
       "      <td>2</td>\n",
       "      <td>A photovoltaic device according claim 2, where...</td>\n",
       "      <td>False</td>\n",
       "    </tr>\n",
       "    <tr>\n",
       "      <td>3</td>\n",
       "      <td>A photovoltaic device as claimed in claim 1, w...</td>\n",
       "      <td>False</td>\n",
       "    </tr>\n",
       "    <tr>\n",
       "      <td>4</td>\n",
       "      <td>A photovoltaic device as claimed in claim 4, w...</td>\n",
       "      <td>False</td>\n",
       "    </tr>\n",
       "    <tr>\n",
       "      <td>5</td>\n",
       "      <td>A photovoltaic device as claimed in claim 5, w...</td>\n",
       "      <td>False</td>\n",
       "    </tr>\n",
       "    <tr>\n",
       "      <td>6</td>\n",
       "      <td>A photovoltaic device as claimed in claim 6, w...</td>\n",
       "      <td>False</td>\n",
       "    </tr>\n",
       "    <tr>\n",
       "      <td>7</td>\n",
       "      <td>A photovoltaic device as claimed in claim 1, w...</td>\n",
       "      <td>False</td>\n",
       "    </tr>\n",
       "    <tr>\n",
       "      <td>8</td>\n",
       "      <td>A photovoltaic device as claimed in claim 1, w...</td>\n",
       "      <td>False</td>\n",
       "    </tr>\n",
       "    <tr>\n",
       "      <td>9</td>\n",
       "      <td>A photovoltaic device as claimed in claim 9, w...</td>\n",
       "      <td>False</td>\n",
       "    </tr>\n",
       "    <tr>\n",
       "      <td>10</td>\n",
       "      <td>A photovoltaic device as claimed in claim 1, w...</td>\n",
       "      <td>False</td>\n",
       "    </tr>\n",
       "    <tr>\n",
       "      <td>11</td>\n",
       "      <td>A photovoltaic device as claimed in claim 11, ...</td>\n",
       "      <td>False</td>\n",
       "    </tr>\n",
       "    <tr>\n",
       "      <td>12</td>\n",
       "      <td>A photovoltaic device as claimed in claim 1, w...</td>\n",
       "      <td>False</td>\n",
       "    </tr>\n",
       "    <tr>\n",
       "      <td>13</td>\n",
       "      <td>A photovoltaic device as claimed in claim 1, w...</td>\n",
       "      <td>False</td>\n",
       "    </tr>\n",
       "    <tr>\n",
       "      <td>14</td>\n",
       "      <td>A photovoltaic device as claimed in claim 14, ...</td>\n",
       "      <td>False</td>\n",
       "    </tr>\n",
       "    <tr>\n",
       "      <td>15</td>\n",
       "      <td>A photovoltaic device as claimed in claim 1, w...</td>\n",
       "      <td>False</td>\n",
       "    </tr>\n",
       "    <tr>\n",
       "      <td>16</td>\n",
       "      <td>A photovoltaic device as claimed in claim 16, ...</td>\n",
       "      <td>False</td>\n",
       "    </tr>\n",
       "    <tr>\n",
       "      <td>17</td>\n",
       "      <td>A photovoltaic device as claimed in claim 1, w...</td>\n",
       "      <td>False</td>\n",
       "    </tr>\n",
       "    <tr>\n",
       "      <td>18</td>\n",
       "      <td>A photovoltaic device as claimed in claim 1, w...</td>\n",
       "      <td>False</td>\n",
       "    </tr>\n",
       "    <tr>\n",
       "      <td>19</td>\n",
       "      <td>A photovoltaic device as claimed in claim 19, ...</td>\n",
       "      <td>False</td>\n",
       "    </tr>\n",
       "    <tr>\n",
       "      <td>20</td>\n",
       "      <td>A photovoltaic device as claimed in claim 1, w...</td>\n",
       "      <td>False</td>\n",
       "    </tr>\n",
       "    <tr>\n",
       "      <td>21</td>\n",
       "      <td>A photovoltaic device as claimed in claim 21, ...</td>\n",
       "      <td>False</td>\n",
       "    </tr>\n",
       "    <tr>\n",
       "      <td>22</td>\n",
       "      <td>A photovoltaic device as claimed in claim 1, w...</td>\n",
       "      <td>False</td>\n",
       "    </tr>\n",
       "    <tr>\n",
       "      <td>23</td>\n",
       "      <td>A photovoltaic device having a superstrate con...</td>\n",
       "      <td>True</td>\n",
       "    </tr>\n",
       "    <tr>\n",
       "      <td>24</td>\n",
       "      <td>A photovoltaic device as claimed in claim 24, ...</td>\n",
       "      <td>False</td>\n",
       "    </tr>\n",
       "  </tbody>\n",
       "</table>\n",
       "</div>"
      ],
      "text/plain": [
       "                                            claimtext  independent\n",
       "0   A photovoltaic device having a substrate confi...         True\n",
       "1   A photovoltaic device according claim 1, where...        False\n",
       "2   A photovoltaic device according claim 2, where...        False\n",
       "3   A photovoltaic device as claimed in claim 1, w...        False\n",
       "4   A photovoltaic device as claimed in claim 4, w...        False\n",
       "5   A photovoltaic device as claimed in claim 5, w...        False\n",
       "6   A photovoltaic device as claimed in claim 6, w...        False\n",
       "7   A photovoltaic device as claimed in claim 1, w...        False\n",
       "8   A photovoltaic device as claimed in claim 1, w...        False\n",
       "9   A photovoltaic device as claimed in claim 9, w...        False\n",
       "10  A photovoltaic device as claimed in claim 1, w...        False\n",
       "11  A photovoltaic device as claimed in claim 11, ...        False\n",
       "12  A photovoltaic device as claimed in claim 1, w...        False\n",
       "13  A photovoltaic device as claimed in claim 1, w...        False\n",
       "14  A photovoltaic device as claimed in claim 14, ...        False\n",
       "15  A photovoltaic device as claimed in claim 1, w...        False\n",
       "16  A photovoltaic device as claimed in claim 16, ...        False\n",
       "17  A photovoltaic device as claimed in claim 1, w...        False\n",
       "18  A photovoltaic device as claimed in claim 1, w...        False\n",
       "19  A photovoltaic device as claimed in claim 19, ...        False\n",
       "20  A photovoltaic device as claimed in claim 1, w...        False\n",
       "21  A photovoltaic device as claimed in claim 21, ...        False\n",
       "22  A photovoltaic device as claimed in claim 1, w...        False\n",
       "23  A photovoltaic device having a superstrate con...         True\n",
       "24  A photovoltaic device as claimed in claim 24, ...        False"
      ]
     },
     "execution_count": 64,
     "metadata": {},
     "output_type": "execute_result"
    }
   ],
   "source": [
    "def isindependent(string):\n",
    "    if 'claim' in string:\n",
    "        return False\n",
    "    else:\n",
    "        return True\n",
    "\n",
    "# add independent column\n",
    "claims_df['independent'] = claims_df['claimtext'].apply(isindependent)\n",
    "claims_df"
   ]
  },
  {
   "cell_type": "code",
   "execution_count": 65,
   "metadata": {},
   "outputs": [
    {
     "data": {
      "text/html": [
       "<div>\n",
       "<style scoped>\n",
       "    .dataframe tbody tr th:only-of-type {\n",
       "        vertical-align: middle;\n",
       "    }\n",
       "\n",
       "    .dataframe tbody tr th {\n",
       "        vertical-align: top;\n",
       "    }\n",
       "\n",
       "    .dataframe thead th {\n",
       "        text-align: right;\n",
       "    }\n",
       "</style>\n",
       "<table border=\"1\" class=\"dataframe\">\n",
       "  <thead>\n",
       "    <tr style=\"text-align: right;\">\n",
       "      <th></th>\n",
       "      <th>claimtext</th>\n",
       "      <th>independent</th>\n",
       "      <th>preamble</th>\n",
       "    </tr>\n",
       "  </thead>\n",
       "  <tbody>\n",
       "    <tr>\n",
       "      <td>0</td>\n",
       "      <td>A photovoltaic device having a substrate confi...</td>\n",
       "      <td>True</td>\n",
       "      <td>A photovoltaic device having a substrate confi...</td>\n",
       "    </tr>\n",
       "    <tr>\n",
       "      <td>1</td>\n",
       "      <td>A photovoltaic device according claim 1, where...</td>\n",
       "      <td>False</td>\n",
       "      <td>A photovoltaic device according claim 1</td>\n",
       "    </tr>\n",
       "    <tr>\n",
       "      <td>2</td>\n",
       "      <td>A photovoltaic device according claim 2, where...</td>\n",
       "      <td>False</td>\n",
       "      <td>A photovoltaic device according claim 2</td>\n",
       "    </tr>\n",
       "    <tr>\n",
       "      <td>3</td>\n",
       "      <td>A photovoltaic device as claimed in claim 1, w...</td>\n",
       "      <td>False</td>\n",
       "      <td>A photovoltaic device as claimed in claim 1</td>\n",
       "    </tr>\n",
       "    <tr>\n",
       "      <td>4</td>\n",
       "      <td>A photovoltaic device as claimed in claim 4, w...</td>\n",
       "      <td>False</td>\n",
       "      <td>A photovoltaic device as claimed in claim 4</td>\n",
       "    </tr>\n",
       "    <tr>\n",
       "      <td>5</td>\n",
       "      <td>A photovoltaic device as claimed in claim 5, w...</td>\n",
       "      <td>False</td>\n",
       "      <td>A photovoltaic device as claimed in claim 5</td>\n",
       "    </tr>\n",
       "    <tr>\n",
       "      <td>6</td>\n",
       "      <td>A photovoltaic device as claimed in claim 6, w...</td>\n",
       "      <td>False</td>\n",
       "      <td>A photovoltaic device as claimed in claim 6</td>\n",
       "    </tr>\n",
       "    <tr>\n",
       "      <td>7</td>\n",
       "      <td>A photovoltaic device as claimed in claim 1, w...</td>\n",
       "      <td>False</td>\n",
       "      <td>A photovoltaic device as claimed in claim 1</td>\n",
       "    </tr>\n",
       "    <tr>\n",
       "      <td>8</td>\n",
       "      <td>A photovoltaic device as claimed in claim 1, w...</td>\n",
       "      <td>False</td>\n",
       "      <td>A photovoltaic device as claimed in claim 1</td>\n",
       "    </tr>\n",
       "    <tr>\n",
       "      <td>9</td>\n",
       "      <td>A photovoltaic device as claimed in claim 9, w...</td>\n",
       "      <td>False</td>\n",
       "      <td>A photovoltaic device as claimed in claim 9</td>\n",
       "    </tr>\n",
       "    <tr>\n",
       "      <td>10</td>\n",
       "      <td>A photovoltaic device as claimed in claim 1, w...</td>\n",
       "      <td>False</td>\n",
       "      <td>A photovoltaic device as claimed in claim 1</td>\n",
       "    </tr>\n",
       "    <tr>\n",
       "      <td>11</td>\n",
       "      <td>A photovoltaic device as claimed in claim 11, ...</td>\n",
       "      <td>False</td>\n",
       "      <td>A photovoltaic device as claimed in claim 11</td>\n",
       "    </tr>\n",
       "    <tr>\n",
       "      <td>12</td>\n",
       "      <td>A photovoltaic device as claimed in claim 1, w...</td>\n",
       "      <td>False</td>\n",
       "      <td>A photovoltaic device as claimed in claim 1</td>\n",
       "    </tr>\n",
       "    <tr>\n",
       "      <td>13</td>\n",
       "      <td>A photovoltaic device as claimed in claim 1, w...</td>\n",
       "      <td>False</td>\n",
       "      <td>A photovoltaic device as claimed in claim 1</td>\n",
       "    </tr>\n",
       "    <tr>\n",
       "      <td>14</td>\n",
       "      <td>A photovoltaic device as claimed in claim 14, ...</td>\n",
       "      <td>False</td>\n",
       "      <td>A photovoltaic device as claimed in claim 14</td>\n",
       "    </tr>\n",
       "    <tr>\n",
       "      <td>15</td>\n",
       "      <td>A photovoltaic device as claimed in claim 1, w...</td>\n",
       "      <td>False</td>\n",
       "      <td>A photovoltaic device as claimed in claim 1</td>\n",
       "    </tr>\n",
       "    <tr>\n",
       "      <td>16</td>\n",
       "      <td>A photovoltaic device as claimed in claim 16, ...</td>\n",
       "      <td>False</td>\n",
       "      <td>A photovoltaic device as claimed in claim 16</td>\n",
       "    </tr>\n",
       "    <tr>\n",
       "      <td>17</td>\n",
       "      <td>A photovoltaic device as claimed in claim 1, w...</td>\n",
       "      <td>False</td>\n",
       "      <td>A photovoltaic device as claimed in claim 1</td>\n",
       "    </tr>\n",
       "    <tr>\n",
       "      <td>18</td>\n",
       "      <td>A photovoltaic device as claimed in claim 1, w...</td>\n",
       "      <td>False</td>\n",
       "      <td>A photovoltaic device as claimed in claim 1</td>\n",
       "    </tr>\n",
       "    <tr>\n",
       "      <td>19</td>\n",
       "      <td>A photovoltaic device as claimed in claim 19, ...</td>\n",
       "      <td>False</td>\n",
       "      <td>A photovoltaic device as claimed in claim 19</td>\n",
       "    </tr>\n",
       "    <tr>\n",
       "      <td>20</td>\n",
       "      <td>A photovoltaic device as claimed in claim 1, w...</td>\n",
       "      <td>False</td>\n",
       "      <td>A photovoltaic device as claimed in claim 1</td>\n",
       "    </tr>\n",
       "    <tr>\n",
       "      <td>21</td>\n",
       "      <td>A photovoltaic device as claimed in claim 21, ...</td>\n",
       "      <td>False</td>\n",
       "      <td>A photovoltaic device as claimed in claim 21</td>\n",
       "    </tr>\n",
       "    <tr>\n",
       "      <td>22</td>\n",
       "      <td>A photovoltaic device as claimed in claim 1, w...</td>\n",
       "      <td>False</td>\n",
       "      <td>A photovoltaic device as claimed in claim 1</td>\n",
       "    </tr>\n",
       "    <tr>\n",
       "      <td>23</td>\n",
       "      <td>A photovoltaic device having a superstrate con...</td>\n",
       "      <td>True</td>\n",
       "      <td>A photovoltaic device having a superstrate con...</td>\n",
       "    </tr>\n",
       "    <tr>\n",
       "      <td>24</td>\n",
       "      <td>A photovoltaic device as claimed in claim 24, ...</td>\n",
       "      <td>False</td>\n",
       "      <td>A photovoltaic device as claimed in claim 24</td>\n",
       "    </tr>\n",
       "  </tbody>\n",
       "</table>\n",
       "</div>"
      ],
      "text/plain": [
       "                                            claimtext  independent  \\\n",
       "0   A photovoltaic device having a substrate confi...         True   \n",
       "1   A photovoltaic device according claim 1, where...        False   \n",
       "2   A photovoltaic device according claim 2, where...        False   \n",
       "3   A photovoltaic device as claimed in claim 1, w...        False   \n",
       "4   A photovoltaic device as claimed in claim 4, w...        False   \n",
       "5   A photovoltaic device as claimed in claim 5, w...        False   \n",
       "6   A photovoltaic device as claimed in claim 6, w...        False   \n",
       "7   A photovoltaic device as claimed in claim 1, w...        False   \n",
       "8   A photovoltaic device as claimed in claim 1, w...        False   \n",
       "9   A photovoltaic device as claimed in claim 9, w...        False   \n",
       "10  A photovoltaic device as claimed in claim 1, w...        False   \n",
       "11  A photovoltaic device as claimed in claim 11, ...        False   \n",
       "12  A photovoltaic device as claimed in claim 1, w...        False   \n",
       "13  A photovoltaic device as claimed in claim 1, w...        False   \n",
       "14  A photovoltaic device as claimed in claim 14, ...        False   \n",
       "15  A photovoltaic device as claimed in claim 1, w...        False   \n",
       "16  A photovoltaic device as claimed in claim 16, ...        False   \n",
       "17  A photovoltaic device as claimed in claim 1, w...        False   \n",
       "18  A photovoltaic device as claimed in claim 1, w...        False   \n",
       "19  A photovoltaic device as claimed in claim 19, ...        False   \n",
       "20  A photovoltaic device as claimed in claim 1, w...        False   \n",
       "21  A photovoltaic device as claimed in claim 21, ...        False   \n",
       "22  A photovoltaic device as claimed in claim 1, w...        False   \n",
       "23  A photovoltaic device having a superstrate con...         True   \n",
       "24  A photovoltaic device as claimed in claim 24, ...        False   \n",
       "\n",
       "                                             preamble  \n",
       "0   A photovoltaic device having a substrate confi...  \n",
       "1             A photovoltaic device according claim 1  \n",
       "2             A photovoltaic device according claim 2  \n",
       "3         A photovoltaic device as claimed in claim 1  \n",
       "4         A photovoltaic device as claimed in claim 4  \n",
       "5         A photovoltaic device as claimed in claim 5  \n",
       "6         A photovoltaic device as claimed in claim 6  \n",
       "7         A photovoltaic device as claimed in claim 1  \n",
       "8         A photovoltaic device as claimed in claim 1  \n",
       "9         A photovoltaic device as claimed in claim 9  \n",
       "10        A photovoltaic device as claimed in claim 1  \n",
       "11       A photovoltaic device as claimed in claim 11  \n",
       "12        A photovoltaic device as claimed in claim 1  \n",
       "13        A photovoltaic device as claimed in claim 1  \n",
       "14       A photovoltaic device as claimed in claim 14  \n",
       "15        A photovoltaic device as claimed in claim 1  \n",
       "16       A photovoltaic device as claimed in claim 16  \n",
       "17        A photovoltaic device as claimed in claim 1  \n",
       "18        A photovoltaic device as claimed in claim 1  \n",
       "19       A photovoltaic device as claimed in claim 19  \n",
       "20        A photovoltaic device as claimed in claim 1  \n",
       "21       A photovoltaic device as claimed in claim 21  \n",
       "22        A photovoltaic device as claimed in claim 1  \n",
       "23  A photovoltaic device having a superstrate con...  \n",
       "24       A photovoltaic device as claimed in claim 24  "
      ]
     },
     "execution_count": 65,
     "metadata": {},
     "output_type": "execute_result"
    }
   ],
   "source": [
    "def define_preamble(string):\n",
    "    s=string.find(',')\n",
    "    return string[0:s]\n",
    "\n",
    "claims_df['preamble']= claims_df['claimtext'].apply(define_preamble)\n",
    "claims_df"
   ]
  },
  {
   "cell_type": "code",
   "execution_count": 66,
   "metadata": {},
   "outputs": [],
   "source": [
    "# save the result as an excel file\n",
    "claims_df.to_excel(\"output.xlsx\")"
   ]
  },
  {
   "cell_type": "code",
   "execution_count": 67,
   "metadata": {},
   "outputs": [],
   "source": [
    "# Export claims table as CSV\n",
    "claims_df.to_csv('myCSV.csv')"
   ]
  },
  {
   "cell_type": "code",
   "execution_count": 68,
   "metadata": {},
   "outputs": [],
   "source": [
    "claims_df.to_html('myhtml.html')"
   ]
  },
  {
   "cell_type": "markdown",
   "metadata": {},
   "source": [
    "### Reading Madou's file to analyze applicants communication"
   ]
  },
  {
   "cell_type": "markdown",
   "metadata": {},
   "source": [
    "If you want to have a text file of the applicants answer\n",
    "\n"
   ]
  },
  {
   "cell_type": "code",
   "execution_count": 69,
   "metadata": {},
   "outputs": [
    {
     "name": "stdout",
     "output_type": "stream",
     "text": [
      "C:/epodata/sea/privprop/ocr/EP11156626_2014-04-30_ABEX_415_OCR.txt\n",
      "1579170602.6095908\n"
     ]
    }
   ],
   "source": [
    "import os\n",
    "path = r'C:/epodata/sea/privprop/ocr/'\n",
    "name = r'EP11156626_2014-04-30_ABEX_415_OCR.txt'\n",
    "\n",
    "name_total = os.path.join(path,name)\n",
    "print(name_total)\n",
    "print(os.path.getctime(name_total))"
   ]
  },
  {
   "cell_type": "code",
   "execution_count": 70,
   "metadata": {},
   "outputs": [],
   "source": [
    "with open(name_total, 'r') as f:\n",
    "    appliletter= f.readlines()"
   ]
  },
  {
   "cell_type": "code",
   "execution_count": 71,
   "metadata": {},
   "outputs": [
    {
     "data": {
      "text/plain": [
       "{'ER': 'er', 'TZ': 'tz', 'ZU': 'zu'}"
      ]
     },
     "execution_count": 71,
     "metadata": {},
     "output_type": "execute_result"
    }
   ],
   "source": [
    "ml=['er','tz','zu']\n",
    "md={letter.upper():letter for letter in ml}\n",
    "md"
   ]
  },
  {
   "cell_type": "code",
   "execution_count": 72,
   "metadata": {},
   "outputs": [
    {
     "name": "stdout",
     "output_type": "stream",
     "text": [
      "{'EP11156626_2014-04-30_ABEX_415_OCR.txt': 1579170602.6095908, 'EP11735182_2018-08-09_EXRE3_086_OCR.txt': 1565787164.0, 'EP11830819_2018-03-27_ABEX_769_OCR.txt': 1565966236.0, 'EP12781223_2014-11-25_ABEX_591_OCR.txt': 1579107508.7147539, 'EP12781223_2019-12-13_CLMS-HWA_256_OCR.txt': 1579107999.4956558, 'EP12781223_2019-12-13_CLMS-HWA_538_OCR.txt': 1579107846.351838, 'EP12781223_2019-12-13_CLMS_036_OCR.txt': 1579108034.447616, 'EP12781223_2019-12-13_CLMS_982_OCR.txt': 1579107941.2002294, 'EP14874915_2017-07-17_ABEX_048_OCR.txt': 1565697365.0, 'EP14874915_eDrex_clean_CLMS_OCR.txt': 1565777948.0, 'EP15700318_2019-04-12_EXRE3_890_OCR.txt': 1565614336.0, 'EP15700318_eDrex_clean_CLMS_OCR.txt': 1565620098.0, 'EP15755836_2017-08-18_ABEX_361_OCR.txt': 1565791134.0, 'EP15755836_2017-08-18_DESCABEX_008_OCR.txt': 1565794104.0, 'FA866853_2019-09-02_FR_DESC_545_OCR.txt': 1579100107.6543434}\n"
     ]
    }
   ],
   "source": [
    "text_files = [filename for filename in os.listdir(path) if ('txt' in filename) and ('ocr' not in filename)]\n",
    "files = {filename:os.path.getctime(os.path.join(path,filename)) for filename in text_files}\n",
    "print(files)"
   ]
  },
  {
   "cell_type": "code",
   "execution_count": 73,
   "metadata": {},
   "outputs": [
    {
     "name": "stdout",
     "output_type": "stream",
     "text": [
      "EP11156626_2014-04-30_ABEX_415_OCR.txt\n"
     ]
    }
   ],
   "source": [
    "My_last_generated_ABEX = max(files, key=files.get)\n",
    "print(My_last_generated_ABEX )"
   ]
  },
  {
   "cell_type": "code",
   "execution_count": 74,
   "metadata": {},
   "outputs": [],
   "source": [
    "abex_file = os.path.join(path,My_last_generated_ABEX)\n",
    "with open(abex_file,'r') as f:\n",
    "    abex = f.readlines()"
   ]
  },
  {
   "cell_type": "code",
   "execution_count": 75,
   "metadata": {},
   "outputs": [
    {
     "name": "stdout",
     "output_type": "stream",
     "text": [
      "<re.Match object; span=(7, 9), match='D4'>\n",
      "None\n"
     ]
    }
   ],
   "source": [
    "import re\n",
    "t = 'sfdsdf D4 sfsdf'\n",
    "print(re.search(r'D\\d',t))\n",
    "print(re.search(r'X\\d',t))"
   ]
  },
  {
   "cell_type": "code",
   "execution_count": 76,
   "metadata": {},
   "outputs": [
    {
     "data": {
      "text/plain": [
       "['number OC352154\\n',\n",
       " \"The applicant agrees with the Examiner's conclusion that claim 1 is novel over D1 for at least the reason\\n\"]"
      ]
     },
     "execution_count": 76,
     "metadata": {},
     "output_type": "execute_result"
    }
   ],
   "source": [
    "doc_para     = [text for text in abex if re.findall(r'D\\d',text) != None]\n",
    "#matching = [s for s in my_list if any(xs in s for xs in matchers)]\n",
    "novelty_words   = ['novel','new','novelty','54'] \n",
    "novelty_para    = [text for text in doc_para if any(newword in text for newword in novelty_words)]\n",
    "\n",
    "novelty_para"
   ]
  },
  {
   "cell_type": "markdown",
   "metadata": {},
   "source": [
    "### Reading Ian's claims "
   ]
  },
  {
   "cell_type": "code",
   "execution_count": 77,
   "metadata": {},
   "outputs": [],
   "source": [
    "# C:\\Users\\Public\\NoBackup\\UserData\\TriQuote\\currentclaims.txt\n",
    "# After running Triquote\n",
    "current_claims_name = r'claims.txt'\n",
    "current_triquote_path = r'C:/Users/Public/NoBackup/UserData/TriQuote'\n",
    "total_name=os.path.join(current_triquote_path,current_claims_name)\n",
    "with open(total_name,'r') as f:\n",
    "    myclaims = f.readlines()"
   ]
  },
  {
   "cell_type": "code",
   "execution_count": 78,
   "metadata": {},
   "outputs": [
    {
     "name": "stdout",
     "output_type": "stream",
     "text": [
      "['1. A photovoltaic system, comprising: a mounting assembly (70c) comprising: a mounting device (74) comprising an upper surface (78); a mounting plate (110\\', 110\") comprising upper and lower surfaces (170, 176), wherein said mounting plate (110\\', 110\") is positioned on said upper surface (78) of said mounting device (74); a clamping member (142) comprising first and second clamping sections (152); and a threaded clamp fastener (114) that is in threaded engagement with said mounting device (74) and that extends through and beyond said mounting plate (110\\', 110\"), wherein said clamping member (142) is disposed on said threaded clamp fastener (114) in spaced relation to said upper surface (170) of said mounting plate (110\\', 110\"); further characterized by said upper surface (170) of said mounting plate (110\\', 110\") comprising first and second PV module positional registrants (174, 190) that are incorporated by said mounting plate (110\\', 110\") so as to dispose a pair of photovoltaic modules (58) on said upper surface (170) of said mounting plate (110\\', 110\") in a position for simultaneous engagement by said first and second clamping sections (152), respectively of said clamping member (142).\\n', '\\n', '2. The photovoltaic system of <b><font color=\"green\">claim 1</font></b>, wherein said upper surface (170) of said mounting plate (110\\', 110\") comprises a raised structure (174), and wherein first and second portions on an outer perimeter of said raised structure (174) comprise said first and second PV module positional registrants (174, 190), respectively.\\n', '\\n', '3. The photovoltaic system of <b><font color=\"green\">claim 2</font></b>, wherein said raised structure (174) of said mounting plate is centrally disposed relative to an outer perimeter of said mounting plate (110\\', 110\").\\n', '\\n', '4. The photovoltaic system of any of <b><font color=\"green\">claims</font></b> 2-3, wherein said threaded clamp fastener (114) extends through a center of said raised structure (174).\\n', '\\n', '5. The photovoltaic system of any of <b><font color=\"green\">claims</font></b> 2-4, wherein said outer perimeter of said raised structure (174) and an outer perimeter of said mounting plate (110\\', 110\") are concentric relative to said threaded clamp fastener (114).\\n', '\\n', '6. The photovoltaic system of any of <b><font color=\"green\">claims</font></b> 2-5, wherein oppositely disposed portions of said raised structure (174) of said mounting assembly (70c) comprise said first and second PV module positional registrants (174, 190).\\n', '\\n', '7. The photovoltaic system of any of <b><font color=\"green\">claims</font></b> 2-6, wherein individual members of an adjacent pair of photovoltaic modules (58) are disposable against different portions of said raised structure (174) to be positionally registered relative to said mounting assembly (70c).\\n', '\\n', '8. The photovoltaic system of any of <b><font color=\"green\">claims</font></b> 2-7, wherein said outer perimeter of said raised structure (174) is circular in a plan view.\\n', '\\n', '9. The photovoltaic system of <b><font color=\"green\">claim 1</font></b>, wherein said first and second PV module positional registrants (174, 190) are separate and discrete structures.\\n', '\\n', '10. The photovoltaic system of <b><font color=\"green\">claim 9</font></b>, wherein individual members of an adjacent pair of photovoltaic modules (58) are disposable in abutting engagement with said first and second PV module positional registrants (174, 190), respectively.\\n', '\\n', '11. The photovoltaic system of any of <b><font color=\"green\">claims</font></b> 9-10, wherein said mounting plate (110\\', 110\") further comprises at least one mounting device positional registrant (194) on said lower surface (176) of said mounting plate (110\\', 110\").\\n', '\\n', '12. The photovoltaic system of <b><font color=\"green\">claim 11</font></b>, wherein said at least one mounting device positional registrant (194) requires said mounting plate (110\\', 110\") to be positioned on said mounting device (74) in a certain orientation.\\n', '\\n', '13. The photovoltaic system of any of <b><font color=\"green\">claims</font></b> 1-12, wherein said upper surface (170) of said mounting plate (110\\', 110\") comprises a plurality of grounding projections (172).\\n', '\\n', '14. The photovoltaic system of <b><font color=\"green\">claim 13</font></b>, wherein said plurality of grounding projections (172) are spaced about said threaded clamp fastener (114).\\n', '\\n', '15. The photovoltaic system of any of <b><font color=\"green\">claims</font></b> 13-14, wherein said plurality of grounding projections (172) are equally spaced about said threaded clamp fastener (114).\\n', '\\n', '16. The photovoltaic system of any of <b><font color=\"green\">claims</font></b> 13-15, wherein said plurality of grounding projections (172) are integrally formed with said mounting plate (110\\', 110\").\\n', '\\n', '17. The photovoltaic system of any of <b><font color=\"green\">claims</font></b> 13-16, wherein said lower surface (176) of said mounting plate (110\\', 110\") comprises at least one wiring clip (178).\\n', '\\n', '18. The photovoltaic system of any of <b><font color=\"green\">claims 1</font></b> -17, further comprising: first and second photovoltaic modules (58) positioned on said upper surface (170) of said mounting plate (110\\', 110\") of said mounting assembly (70c) in at least adjacent relation to said first and second PV module positional registrants (174, 190), respectively, wherein said first clamping section (152) of said clamping member (142) for said mounting assembly (70c) is engaged with said first photovoltaic module (58), wherein said second clamping section (152) of said clamping member (142) for said mounting assembly (70c) is engaged with said second photovoltaic module (58), and wherein said first and second PV module positional registrants (174, 190) of said mounting assembly (70c) are positioned between said first and second photovoltaic modules (58).\\n', '\\n']\n"
     ]
    }
   ],
   "source": [
    "print(myclaims)"
   ]
  },
  {
   "cell_type": "code",
   "execution_count": 79,
   "metadata": {},
   "outputs": [
    {
     "name": "stdout",
     "output_type": "stream",
     "text": [
      "['1. A photovoltaic system, comprising: a mounting assembly (70c) comprising: '\n",
      " 'a mounting device (74) comprising an upper surface (78); a mounting plate '\n",
      " '(110\\', 110\") comprising upper and lower surfaces (170, 176), wherein said '\n",
      " 'mounting plate (110\\', 110\") is positioned on said upper surface (78) of '\n",
      " 'said mounting device (74); a clamping member (142) comprising first and '\n",
      " 'second clamping sections (152); and a threaded clamp fastener (114) that is '\n",
      " 'in threaded engagement with said mounting device (74) and that extends '\n",
      " 'through and beyond said mounting plate (110\\', 110\"), wherein said clamping '\n",
      " 'member (142) is disposed on said threaded clamp fastener (114) in spaced '\n",
      " 'relation to said upper surface (170) of said mounting plate (110\\', 110\"); '\n",
      " 'further characterized by said upper surface (170) of said mounting plate '\n",
      " '(110\\', 110\") comprising first and second PV module positional registrants '\n",
      " '(174, 190) that are incorporated by said mounting plate (110\\', 110\") so as '\n",
      " 'to dispose a pair of photovoltaic modules (58) on said upper surface (170) '\n",
      " 'of said mounting plate (110\\', 110\") in a position for simultaneous '\n",
      " 'engagement by said first and second clamping sections (152), respectively of '\n",
      " 'said clamping member (142).\\n',\n",
      " '\\n',\n",
      " '2. The photovoltaic system of <b><font color=\"green\">claim 1</font></b>, '\n",
      " 'wherein said upper surface (170) of said mounting plate (110\\', 110\") '\n",
      " 'comprises a raised structure (174), and wherein first and second portions on '\n",
      " 'an outer perimeter of said raised structure (174) comprise said first and '\n",
      " 'second PV module positional registrants (174, 190), respectively.\\n',\n",
      " '\\n',\n",
      " '3. The photovoltaic system of <b><font color=\"green\">claim 2</font></b>, '\n",
      " 'wherein said raised structure (174) of said mounting plate is centrally '\n",
      " \"disposed relative to an outer perimeter of said mounting plate (110', \"\n",
      " '110\").\\n',\n",
      " '\\n',\n",
      " '4. The photovoltaic system of any of <b><font '\n",
      " 'color=\"green\">claims</font></b> 2-3, wherein said threaded clamp fastener '\n",
      " '(114) extends through a center of said raised structure (174).\\n',\n",
      " '\\n',\n",
      " '5. The photovoltaic system of any of <b><font '\n",
      " 'color=\"green\">claims</font></b> 2-4, wherein said outer perimeter of said '\n",
      " \"raised structure (174) and an outer perimeter of said mounting plate (110', \"\n",
      " '110\") are concentric relative to said threaded clamp fastener (114).\\n',\n",
      " '\\n',\n",
      " '6. The photovoltaic system of any of <b><font '\n",
      " 'color=\"green\">claims</font></b> 2-5, wherein oppositely disposed portions of '\n",
      " 'said raised structure (174) of said mounting assembly (70c) comprise said '\n",
      " 'first and second PV module positional registrants (174, 190).\\n',\n",
      " '\\n',\n",
      " '7. The photovoltaic system of any of <b><font '\n",
      " 'color=\"green\">claims</font></b> 2-6, wherein individual members of an '\n",
      " 'adjacent pair of photovoltaic modules (58) are disposable against different '\n",
      " 'portions of said raised structure (174) to be positionally registered '\n",
      " 'relative to said mounting assembly (70c).\\n',\n",
      " '\\n',\n",
      " '8. The photovoltaic system of any of <b><font '\n",
      " 'color=\"green\">claims</font></b> 2-7, wherein said outer perimeter of said '\n",
      " 'raised structure (174) is circular in a plan view.\\n',\n",
      " '\\n',\n",
      " '9. The photovoltaic system of <b><font color=\"green\">claim 1</font></b>, '\n",
      " 'wherein said first and second PV module positional registrants (174, 190) '\n",
      " 'are separate and discrete structures.\\n',\n",
      " '\\n',\n",
      " '10. The photovoltaic system of <b><font color=\"green\">claim 9</font></b>, '\n",
      " 'wherein individual members of an adjacent pair of photovoltaic modules (58) '\n",
      " 'are disposable in abutting engagement with said first and second PV module '\n",
      " 'positional registrants (174, 190), respectively.\\n',\n",
      " '\\n',\n",
      " '11. The photovoltaic system of any of <b><font '\n",
      " 'color=\"green\">claims</font></b> 9-10, wherein said mounting plate (110\\', '\n",
      " '110\") further comprises at least one mounting device positional registrant '\n",
      " '(194) on said lower surface (176) of said mounting plate (110\\', 110\").\\n',\n",
      " '\\n',\n",
      " '12. The photovoltaic system of <b><font color=\"green\">claim 11</font></b>, '\n",
      " 'wherein said at least one mounting device positional registrant (194) '\n",
      " 'requires said mounting plate (110\\', 110\") to be positioned on said mounting '\n",
      " 'device (74) in a certain orientation.\\n',\n",
      " '\\n',\n",
      " '13. The photovoltaic system of any of <b><font '\n",
      " 'color=\"green\">claims</font></b> 1-12, wherein said upper surface (170) of '\n",
      " 'said mounting plate (110\\', 110\") comprises a plurality of grounding '\n",
      " 'projections (172).\\n',\n",
      " '\\n',\n",
      " '14. The photovoltaic system of <b><font color=\"green\">claim 13</font></b>, '\n",
      " 'wherein said plurality of grounding projections (172) are spaced about said '\n",
      " 'threaded clamp fastener (114).\\n',\n",
      " '\\n',\n",
      " '15. The photovoltaic system of any of <b><font '\n",
      " 'color=\"green\">claims</font></b> 13-14, wherein said plurality of grounding '\n",
      " 'projections (172) are equally spaced about said threaded clamp fastener '\n",
      " '(114).\\n',\n",
      " '\\n',\n",
      " '16. The photovoltaic system of any of <b><font '\n",
      " 'color=\"green\">claims</font></b> 13-15, wherein said plurality of grounding '\n",
      " \"projections (172) are integrally formed with said mounting plate (110', \"\n",
      " '110\").\\n',\n",
      " '\\n',\n",
      " '17. The photovoltaic system of any of <b><font '\n",
      " 'color=\"green\">claims</font></b> 13-16, wherein said lower surface (176) of '\n",
      " 'said mounting plate (110\\', 110\") comprises at least one wiring clip '\n",
      " '(178).\\n',\n",
      " '\\n',\n",
      " '18. The photovoltaic system of any of <b><font color=\"green\">claims '\n",
      " '1</font></b> -17, further comprising: first and second photovoltaic modules '\n",
      " \"(58) positioned on said upper surface (170) of said mounting plate (110', \"\n",
      " '110\") of said mounting assembly (70c) in at least adjacent relation to said '\n",
      " 'first and second PV module positional registrants (174, 190), respectively, '\n",
      " 'wherein said first clamping section (152) of said clamping member (142) for '\n",
      " 'said mounting assembly (70c) is engaged with said first photovoltaic module '\n",
      " '(58), wherein said second clamping section (152) of said clamping member '\n",
      " '(142) for said mounting assembly (70c) is engaged with said second '\n",
      " 'photovoltaic module (58), and wherein said first and second PV module '\n",
      " 'positional registrants (174, 190) of said mounting assembly (70c) are '\n",
      " 'positioned between said first and second photovoltaic modules (58).\\n',\n",
      " '\\n']\n"
     ]
    }
   ],
   "source": [
    "from pprint import pprint\n",
    "pprint(myclaims)"
   ]
  },
  {
   "cell_type": "markdown",
   "metadata": {},
   "source": [
    "# THE END"
   ]
  },
  {
   "cell_type": "code",
   "execution_count": null,
   "metadata": {},
   "outputs": [],
   "source": []
  }
 ],
 "metadata": {
  "kernelspec": {
   "display_name": "Python 3",
   "language": "python",
   "name": "python3"
  },
  "language_info": {
   "codemirror_mode": {
    "name": "ipython",
    "version": 3
   },
   "file_extension": ".py",
   "mimetype": "text/x-python",
   "name": "python",
   "nbconvert_exporter": "python",
   "pygments_lexer": "ipython3",
   "version": "3.7.4"
  }
 },
 "nbformat": 4,
 "nbformat_minor": 4
}
