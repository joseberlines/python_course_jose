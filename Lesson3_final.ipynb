{
 "cells": [
  {
   "cell_type": "markdown",
   "metadata": {},
   "source": [
    "## LESSON 3\n",
    "\n",
    "- Jupyter Hub (EPO)\n",
    "- ..stat in pandas (an little example)\n",
    "- spacy example (in colab)"
   ]
  },
  {
   "cell_type": "code",
   "execution_count": null,
   "metadata": {},
   "outputs": [],
   "source": [
    "import pandas as pd"
   ]
  },
  {
   "cell_type": "code",
   "execution_count": null,
   "metadata": {},
   "outputs": [],
   "source": [
    "import numpy as np"
   ]
  },
  {
   "cell_type": "code",
   "execution_count": null,
   "metadata": {},
   "outputs": [],
   "source": [
    "yann_df = pd.read_csv('lipa_sipto.csv')"
   ]
  },
  {
   "cell_type": "code",
   "execution_count": null,
   "metadata": {},
   "outputs": [],
   "source": [
    "yann_df"
   ]
  },
  {
   "cell_type": "code",
   "execution_count": null,
   "metadata": {},
   "outputs": [],
   "source": [
    "# look for a nan\n",
    "yann_df.CCI.tolist()"
   ]
  },
  {
   "cell_type": "code",
   "execution_count": null,
   "metadata": {},
   "outputs": [],
   "source": [
    "# symple statistical analysis of CCI classes\n",
    "myCCI_classes = yann_df.CCI.fillna('').tolist()"
   ]
  },
  {
   "cell_type": "code",
   "execution_count": null,
   "metadata": {},
   "outputs": [],
   "source": [
    "myCCI_classes = [classes for classes in myCCI_classes if classes != '']\n",
    "myCCI_classes"
   ]
  },
  {
   "cell_type": "code",
   "execution_count": null,
   "metadata": {},
   "outputs": [],
   "source": [
    "myCCI_classes_str = ';'.join(myCCI_classes)\n",
    "# divide again to separate classes\n",
    "myCCI_classes_list = myCCI_classes_str.split(';')"
   ]
  },
  {
   "cell_type": "code",
   "execution_count": null,
   "metadata": {},
   "outputs": [],
   "source": [
    "# create a one-column pandas in order to use the pandas methods available\n",
    "all_classes_pandas = pd.DataFrame(myCCI_classes_list, columns = ['classes'])\n",
    "all_classes_pandas"
   ]
  },
  {
   "cell_type": "code",
   "execution_count": null,
   "metadata": {},
   "outputs": [],
   "source": [
    "all_classes_pandas['classes'].value_counts()"
   ]
  },
  {
   "cell_type": "code",
   "execution_count": null,
   "metadata": {},
   "outputs": [],
   "source": [
    "all_classes_pandas['classes'].value_counts(normalize=True)"
   ]
  },
  {
   "cell_type": "code",
   "execution_count": null,
   "metadata": {},
   "outputs": [],
   "source": [
    "# lets take out the classes that appear only 1 or 2\n",
    "#this is a seeries\n",
    "most_popular_classes = all_classes_pandas['classes'].value_counts()\n",
    "print(len(most_popular_classes))\n",
    "most_popular_classes_df = pd.DataFrame(most_popular_classes)\n",
    "most_popular_classes_df"
   ]
  },
  {
   "cell_type": "code",
   "execution_count": null,
   "metadata": {},
   "outputs": [],
   "source": [
    "myfilter=(most_popular_classes_df['classes'] >2)\n",
    "myfilter"
   ]
  },
  {
   "cell_type": "code",
   "execution_count": null,
   "metadata": {},
   "outputs": [],
   "source": [
    "TOPX = 20\n",
    "condition=(most_popular_classes_df['classes'] >2)\n",
    "most_popular_classes_TOPX = most_popular_classes_df.iloc[0:TOPX,]\n",
    "most_popular_classes_TOPX"
   ]
  },
  {
   "cell_type": "code",
   "execution_count": null,
   "metadata": {},
   "outputs": [],
   "source": [
    "import matplotlib.pyplot as plt\n",
    "plot = most_popular_classes_TOPX.plot.pie(y='classes', figsize=(5, 5))\n"
   ]
  },
  {
   "cell_type": "code",
   "execution_count": null,
   "metadata": {},
   "outputs": [],
   "source": [
    "import spacy"
   ]
  },
  {
   "cell_type": "code",
   "execution_count": null,
   "metadata": {},
   "outputs": [],
   "source": [
    "# To load a model, use spacy.load() with the model name, a shortcut link or a path to the model data directory.\n",
    "mypath=r'C:\\Users\\JF30443\\pyCODE\\DATA_language_models\\models\\en_vectors_web_lg-2.1.0'\n",
    "\n",
    "# my language model\n",
    "nlp = spacy.load(mypath)\n"
   ]
  },
  {
   "cell_type": "code",
   "execution_count": null,
   "metadata": {},
   "outputs": [],
   "source": [
    "listcls=['A system for controlling video thumbnail images, comprising: an analytics engine comprising at least a plurality of programming instructions stored in a memory operating on a network-connected computing device and adapted to collect at least a plurality of statistics related to at least a user behavior regarding a plurality of electronic media content, the media content comprising at least a video clip; and a distribution engine comprising at least a plurality of programming instructions stored in a memory operating on a network-connected computing device and adapted to receive at least to a plurality of network-connected user devices.','The system of claim 1, wherein the collected statistics comprise at least a user devices hardware capabilities.','The system of claim 1, wherein the collected statistics comprise at least a users browsing behavior.','The system of claim 1, wherein the collected statistics comprise at least a plurality of network statistics.','The system of claim 1, wherein the distribution engine selects media for presentation to a user device based at least in part on at least a portion of statistics collected by an analytics engine.','A method for controlling video thumbnail images, comprising the steps of: receiving, at a distribution engine, a plurality of video media content; processing at least a portion of the media content; producing a plurality of still images based at least in part on at least a portion of the processing results; processing at least a portion of the plurality of static images; presenting at least a portion of the static images to a user; and tracking user behavior based at least in part on at least a portion of the presented static images.','The method of claim 6, further comprising the step of tagging at least a portion of the plurality of still images with a plurality of metadata information tags.','The method of claim 6, further comprising the step of determining at least a uniqueness measure for at least a portion of the plurality of still images.']"
   ]
  },
  {
   "cell_type": "code",
   "execution_count": null,
   "metadata": {},
   "outputs": [],
   "source": [
    "listcls = [claim.strip() for claim in listcls]"
   ]
  },
  {
   "cell_type": "code",
   "execution_count": null,
   "metadata": {},
   "outputs": [],
   "source": [
    "claims_df = pd.DataFrame(columns=['claimtext'])\n",
    "claims_df['claimtext'] = listcls\n",
    "claims_df"
   ]
  },
  {
   "cell_type": "code",
   "execution_count": null,
   "metadata": {},
   "outputs": [],
   "source": [
    "# get the first noun phrase with a language model\n",
    "\n",
    "def firstchunck(str):\n",
    "    mydoc = nlp(str)\n",
    "    \n",
    "    # this is the collection of noun phrases in a document:\n",
    "    list_chunks =[chunk.text for chunk in mydoc.noun_chunks]\n",
    "    return list_chunks[0]"
   ]
  },
  {
   "cell_type": "markdown",
   "metadata": {},
   "source": [
    " # >>>> GO TO COLAB. could not install language model"
   ]
  },
  {
   "cell_type": "markdown",
   "metadata": {},
   "source": [
    "    claims_df['whatis'] =claims_df['claimtext'].apply(firstchunck)"
   ]
  },
  {
   "cell_type": "markdown",
   "metadata": {},
   "source": []
  },
  {
   "cell_type": "markdown",
   "metadata": {},
   "source": [
    "# lets talk about speed"
   ]
  },
  {
   "cell_type": "code",
   "execution_count": null,
   "metadata": {},
   "outputs": [],
   "source": [
    "vector= np.repeat(50, 1000)\n",
    "vector"
   ]
  },
  {
   "cell_type": "code",
   "execution_count": null,
   "metadata": {},
   "outputs": [],
   "source": [
    "speed_df = pd.DataFrame(vector,columns=['numeros'])"
   ]
  },
  {
   "cell_type": "code",
   "execution_count": null,
   "metadata": {},
   "outputs": [],
   "source": [
    "speed_df.head()"
   ]
  },
  {
   "cell_type": "code",
   "execution_count": null,
   "metadata": {},
   "outputs": [],
   "source": [
    "len(speed_df)"
   ]
  },
  {
   "cell_type": "code",
   "execution_count": null,
   "metadata": {},
   "outputs": [],
   "source": [
    "import math\n",
    "import time"
   ]
  },
  {
   "cell_type": "code",
   "execution_count": null,
   "metadata": {},
   "outputs": [],
   "source": [
    "tic=time.time()\n",
    "\n",
    "for i in range(1000):\n",
    "    col_name= 'col' + str(i)\n",
    "    speed_df[col_name]=speed_df['numeros'].apply(math.factorial)\n",
    "toc = time.time() \n",
    "print(f'elapsed time {toc-tic} seconds' )\n"
   ]
  },
  {
   "cell_type": "code",
   "execution_count": null,
   "metadata": {},
   "outputs": [],
   "source": [
    "factorial_calculated = speed_df.shape[0]*speed_df.shape[1]\n",
    "nr= int(speed_df['numeros'][0])\n",
    "print(f'calculated {factorial_calculated} times {nr} factorial in {toc-tic} seconds')\n"
   ]
  },
  {
   "cell_type": "code",
   "execution_count": null,
   "metadata": {},
   "outputs": [],
   "source": [
    "# lets try an alphanumeric function"
   ]
  },
  {
   "cell_type": "code",
   "execution_count": null,
   "metadata": {},
   "outputs": [],
   "source": [
    "# load description\n",
    "with open('description.txt','r') as f:\n",
    "    description_lines=f.readlines()\n",
    "\n",
    "with open('description.txt','r') as f:\n",
    "    description_words=f.read()\n",
    "\n",
    "description_lines = [line for line in description_lines if line !='\\n']\n",
    "    "
   ]
  },
  {
   "cell_type": "code",
   "execution_count": null,
   "metadata": {},
   "outputs": [],
   "source": [
    "a= len(description_words.split(' '))\n"
   ]
  },
  {
   "cell_type": "code",
   "execution_count": null,
   "metadata": {},
   "outputs": [],
   "source": [
    "print(f'The description has {a} words') "
   ]
  },
  {
   "cell_type": "code",
   "execution_count": null,
   "metadata": {},
   "outputs": [],
   "source": [
    "desc_df = pd.DataFrame(description_lines,columns=['lines'])"
   ]
  },
  {
   "cell_type": "code",
   "execution_count": null,
   "metadata": {},
   "outputs": [],
   "source": [
    "\n",
    "\n",
    "def look4wordsintext(description_str):\n",
    "    list_of_words_around=[]\n",
    "    list_desc = description_str.split(' ')\n",
    "    list_of_words = ['invention','result', 'solar', 'method','energy','efficiency']\n",
    "    for i,word in enumerate(list_desc):\n",
    "        if word in list_of_words:\n",
    "            start = max(0,i-3)\n",
    "            end= min(i+3,len(list_desc))\n",
    "            list_of_words_around.append(' '.join(list_desc[start:end]))\n",
    "    return list_of_words_around"
   ]
  },
  {
   "cell_type": "code",
   "execution_count": null,
   "metadata": {},
   "outputs": [],
   "source": [
    "desc_df"
   ]
  },
  {
   "cell_type": "code",
   "execution_count": null,
   "metadata": {},
   "outputs": [],
   "source": [
    "tic=time.time()\n",
    "\n",
    "somanytimes = 100\n",
    "for i in range(somanytimes):\n",
    "    name_col='col' + str(i)\n",
    "    desc_df[name_col]=desc_df['lines'].apply(look4wordsintext)\n",
    "toc=time.time()\n",
    "print(f'{len(desc_df) * somanytimes} times in {toc-tic} seconds')\n",
    "print(f'looked for any of 6 words in {len(desc_df) * somanytimes} paragraphs and return the span around them if there is a hit')"
   ]
  }
 ],
 "metadata": {
  "kernelspec": {
   "display_name": "Python 3",
   "language": "python",
   "name": "python3"
  },
  "language_info": {
   "codemirror_mode": {
    "name": "ipython",
    "version": 3
   },
   "file_extension": ".py",
   "mimetype": "text/x-python",
   "name": "python",
   "nbconvert_exporter": "python",
   "pygments_lexer": "ipython3",
   "version": "3.7.4"
  }
 },
 "nbformat": 4,
 "nbformat_minor": 2
}
